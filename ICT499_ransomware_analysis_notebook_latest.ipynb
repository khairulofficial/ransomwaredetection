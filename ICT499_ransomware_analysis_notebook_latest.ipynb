{
  "cells": [
    {
      "cell_type": "markdown",
      "metadata": {
        "id": "lKz4j5eWDSz0"
      },
      "source": [
        "# Ransomware Detection Using Machine Learning"
      ]
    },
    {
      "cell_type": "markdown",
      "metadata": {
        "id": "zndvRq1bDSz5"
      },
      "source": [
        "### Introduction"
      ]
    },
    {
      "cell_type": "markdown",
      "metadata": {
        "id": "76JNQcHuDSz5"
      },
      "source": [
        "#### Business Problem & Objective:\n",
        "\n",
        "With the prevalence of ransomware attacks causing both data and financial loss to companies, we can further mitigate ransomware attacks by applying machine learning techniques in ransomware detection, which have the potential to detect ransomware more accurately compared to conventional methods.  \n",
        "\n",
        "#### Data Mining Objective:\n",
        "\n",
        "To classify whether the family of the file is a goodware, encryptor ransomware or locker ransomware.\n",
        "\n",
        "#### Class Details:\n",
        "    \n",
        "- G - Goodware\n",
        "\n",
        "- E - Encryptor\n",
        "\n",
        "- L - Locker\n",
        "\n",
        "The following code has gone through many iterations. Latest run may not reflect results obtained prior to reporting."
      ]
    },
    {
      "cell_type": "markdown",
      "metadata": {
        "id": "7o_-JRbnDSz6"
      },
      "source": [
        "### 1) Import relevant libraries"
      ]
    },
    {
      "cell_type": "code",
      "execution_count": null,
      "metadata": {
        "colab": {
          "base_uri": "https://localhost:8080/"
        },
        "id": "A0hyK9zdu3sU",
        "outputId": "66cdbeda-dc30-4252-8e1d-9ec0a9004af5"
      },
      "outputs": [
        {
          "output_type": "stream",
          "name": "stdout",
          "text": [
            "Requirement already satisfied: memory_profiler in /usr/local/lib/python3.10/dist-packages (0.61.0)\n",
            "Requirement already satisfied: psutil in /usr/local/lib/python3.10/dist-packages (from memory_profiler) (5.9.5)\n"
          ]
        }
      ],
      "source": [
        "pip install memory_profiler"
      ]
    },
    {
      "cell_type": "code",
      "execution_count": null,
      "metadata": {
        "id": "Gl_jTIhVDSz6"
      },
      "outputs": [],
      "source": [
        "# for data manipulation\n",
        "import pandas as pd\n",
        "import numpy as np\n",
        "\n",
        "# for data visualisation\n",
        "import matplotlib.pyplot as plt\n",
        "import seaborn as sns\n",
        "\n",
        "# for modelling\n",
        "from sklearn.model_selection import train_test_split\n",
        "from sklearn.naive_bayes import GaussianNB\n",
        "from sklearn.ensemble import RandomForestClassifier, GradientBoostingClassifier\n",
        "from sklearn.preprocessing import MinMaxScaler, StandardScaler\n",
        "from sklearn.preprocessing import LabelEncoder\n",
        "from sklearn.metrics import classification_report, accuracy_score,mean_squared_error, r2_score\n",
        "from sklearn.svm import SVC\n",
        "from sklearn.linear_model import LogisticRegression\n",
        "from sklearn.model_selection import KFold, cross_val_score\n",
        "from sklearn.neural_network import MLPClassifier\n",
        "from sklearn.neighbors import KNeighborsClassifier\n",
        "\n",
        "# miscellaneous\n",
        "import time\n",
        "from google.colab import files\n",
        "from urllib.error import HTTPError\n",
        "import re\n",
        "from memory_profiler import profile\n",
        "import memory_profiler\n",
        "\n",
        "import warnings\n",
        "warnings.filterwarnings('ignore')\n"
      ]
    },
    {
      "cell_type": "markdown",
      "metadata": {
        "id": "rMB--XhKDSz8"
      },
      "source": [
        "### 2) Exploratory Data Analysis"
      ]
    },
    {
      "cell_type": "code",
      "execution_count": null,
      "metadata": {
        "id": "yU3vouTMDSz8"
      },
      "outputs": [],
      "source": [
        "# read file obtained via url\n",
        "try:\n",
        "  url = 'https://raw.githubusercontent.com/Juan-Herrera-Silva/Paper-SENSORS/main/Annex%20A%20-%20Dataset%20with%2050%20chosen%20features.csv'\n",
        "  df = pd.read_csv(url)\n",
        "# upload file option\n",
        "except HTTPError:\n",
        "  print(\"Invalid link. Please check your link or upload the dataset manually\")\n",
        "  uploaded_file = files.upload()\n",
        "  filename = next(iter(uploaded_file))\n",
        "  df = pd.read_csv(f'/content/{filename}')"
      ]
    },
    {
      "cell_type": "code",
      "execution_count": null,
      "metadata": {
        "id": "p-Ele1h3PyLB",
        "colab": {
          "base_uri": "https://localhost:8080/"
        },
        "outputId": "184d4a97-bf1e-4a60-abb7-c37e3444894a"
      },
      "outputs": [
        {
          "output_type": "execute_result",
          "data": {
            "text/plain": [
              "     family  proc_pid  file  urls  type  name  ext_urls  path  program  info  \\\n",
              "682       E         8     8    19     0     0         0     0        1     1   \n",
              "1898      G         0     0     0     0     0         0     0        0     0   \n",
              "1014      L         0     0     0     0     0         0     0        1     1   \n",
              "843       G         0     0     0     0     0         0     0        0     0   \n",
              "521       E         1     1     2     1     1         0     1        0     0   \n",
              "1238      E         0     0     0     0     0         0     0        0     0   \n",
              "1542      E         0     0     0     0     0         0     0        0     0   \n",
              "77        E         4     4    12     2     2         0     2        1     1   \n",
              "1983      L         2     2     0     3     3         0     3        0     0   \n",
              "1555      L         0     0     0     0     0         0     0        0     0   \n",
              "\n",
              "      ...  regkey_opened  file_created  wmi_query  dll_loaded  regkey_written  \\\n",
              "682   ...            516           381          0          15              12   \n",
              "1898  ...              0             0          0           0               0   \n",
              "1014  ...              8             1          0          15               1   \n",
              "843   ...              0            10          0          16               0   \n",
              "521   ...             75             0          0           4               0   \n",
              "1238  ...              0             0          0           1               0   \n",
              "1542  ...              0             0          0          26               4   \n",
              "77    ...             17             1          1          12               3   \n",
              "1983  ...              0             0          0           0               0   \n",
              "1555  ...              0             0          0           1               0   \n",
              "\n",
              "      file_read  apistats  errors  action   log  \n",
              "682        2939       298       0       0     0  \n",
              "1898          0         0       0       1    14  \n",
              "1014          0       138       0       1  2083  \n",
              "843          15        57       0       1    28  \n",
              "521           0        23       0       1    39  \n",
              "1238          0        13       0       1    19  \n",
              "1542         12        58       0       1    22  \n",
              "77            2       126       0       1    40  \n",
              "1983          0        14       0       1    22  \n",
              "1555          0        19       0       1    19  \n",
              "\n",
              "[10 rows x 51 columns]"
            ],
            "text/html": [
              "\n",
              "  <div id=\"df-ae96aa74-e2dc-4b60-8fbf-9d8e396170b3\" class=\"colab-df-container\">\n",
              "    <div>\n",
              "<style scoped>\n",
              "    .dataframe tbody tr th:only-of-type {\n",
              "        vertical-align: middle;\n",
              "    }\n",
              "\n",
              "    .dataframe tbody tr th {\n",
              "        vertical-align: top;\n",
              "    }\n",
              "\n",
              "    .dataframe thead th {\n",
              "        text-align: right;\n",
              "    }\n",
              "</style>\n",
              "<table border=\"1\" class=\"dataframe\">\n",
              "  <thead>\n",
              "    <tr style=\"text-align: right;\">\n",
              "      <th></th>\n",
              "      <th>family</th>\n",
              "      <th>proc_pid</th>\n",
              "      <th>file</th>\n",
              "      <th>urls</th>\n",
              "      <th>type</th>\n",
              "      <th>name</th>\n",
              "      <th>ext_urls</th>\n",
              "      <th>path</th>\n",
              "      <th>program</th>\n",
              "      <th>info</th>\n",
              "      <th>...</th>\n",
              "      <th>regkey_opened</th>\n",
              "      <th>file_created</th>\n",
              "      <th>wmi_query</th>\n",
              "      <th>dll_loaded</th>\n",
              "      <th>regkey_written</th>\n",
              "      <th>file_read</th>\n",
              "      <th>apistats</th>\n",
              "      <th>errors</th>\n",
              "      <th>action</th>\n",
              "      <th>log</th>\n",
              "    </tr>\n",
              "  </thead>\n",
              "  <tbody>\n",
              "    <tr>\n",
              "      <th>682</th>\n",
              "      <td>E</td>\n",
              "      <td>8</td>\n",
              "      <td>8</td>\n",
              "      <td>19</td>\n",
              "      <td>0</td>\n",
              "      <td>0</td>\n",
              "      <td>0</td>\n",
              "      <td>0</td>\n",
              "      <td>1</td>\n",
              "      <td>1</td>\n",
              "      <td>...</td>\n",
              "      <td>516</td>\n",
              "      <td>381</td>\n",
              "      <td>0</td>\n",
              "      <td>15</td>\n",
              "      <td>12</td>\n",
              "      <td>2939</td>\n",
              "      <td>298</td>\n",
              "      <td>0</td>\n",
              "      <td>0</td>\n",
              "      <td>0</td>\n",
              "    </tr>\n",
              "    <tr>\n",
              "      <th>1898</th>\n",
              "      <td>G</td>\n",
              "      <td>0</td>\n",
              "      <td>0</td>\n",
              "      <td>0</td>\n",
              "      <td>0</td>\n",
              "      <td>0</td>\n",
              "      <td>0</td>\n",
              "      <td>0</td>\n",
              "      <td>0</td>\n",
              "      <td>0</td>\n",
              "      <td>...</td>\n",
              "      <td>0</td>\n",
              "      <td>0</td>\n",
              "      <td>0</td>\n",
              "      <td>0</td>\n",
              "      <td>0</td>\n",
              "      <td>0</td>\n",
              "      <td>0</td>\n",
              "      <td>0</td>\n",
              "      <td>1</td>\n",
              "      <td>14</td>\n",
              "    </tr>\n",
              "    <tr>\n",
              "      <th>1014</th>\n",
              "      <td>L</td>\n",
              "      <td>0</td>\n",
              "      <td>0</td>\n",
              "      <td>0</td>\n",
              "      <td>0</td>\n",
              "      <td>0</td>\n",
              "      <td>0</td>\n",
              "      <td>0</td>\n",
              "      <td>1</td>\n",
              "      <td>1</td>\n",
              "      <td>...</td>\n",
              "      <td>8</td>\n",
              "      <td>1</td>\n",
              "      <td>0</td>\n",
              "      <td>15</td>\n",
              "      <td>1</td>\n",
              "      <td>0</td>\n",
              "      <td>138</td>\n",
              "      <td>0</td>\n",
              "      <td>1</td>\n",
              "      <td>2083</td>\n",
              "    </tr>\n",
              "    <tr>\n",
              "      <th>843</th>\n",
              "      <td>G</td>\n",
              "      <td>0</td>\n",
              "      <td>0</td>\n",
              "      <td>0</td>\n",
              "      <td>0</td>\n",
              "      <td>0</td>\n",
              "      <td>0</td>\n",
              "      <td>0</td>\n",
              "      <td>0</td>\n",
              "      <td>0</td>\n",
              "      <td>...</td>\n",
              "      <td>0</td>\n",
              "      <td>10</td>\n",
              "      <td>0</td>\n",
              "      <td>16</td>\n",
              "      <td>0</td>\n",
              "      <td>15</td>\n",
              "      <td>57</td>\n",
              "      <td>0</td>\n",
              "      <td>1</td>\n",
              "      <td>28</td>\n",
              "    </tr>\n",
              "    <tr>\n",
              "      <th>521</th>\n",
              "      <td>E</td>\n",
              "      <td>1</td>\n",
              "      <td>1</td>\n",
              "      <td>2</td>\n",
              "      <td>1</td>\n",
              "      <td>1</td>\n",
              "      <td>0</td>\n",
              "      <td>1</td>\n",
              "      <td>0</td>\n",
              "      <td>0</td>\n",
              "      <td>...</td>\n",
              "      <td>75</td>\n",
              "      <td>0</td>\n",
              "      <td>0</td>\n",
              "      <td>4</td>\n",
              "      <td>0</td>\n",
              "      <td>0</td>\n",
              "      <td>23</td>\n",
              "      <td>0</td>\n",
              "      <td>1</td>\n",
              "      <td>39</td>\n",
              "    </tr>\n",
              "    <tr>\n",
              "      <th>1238</th>\n",
              "      <td>E</td>\n",
              "      <td>0</td>\n",
              "      <td>0</td>\n",
              "      <td>0</td>\n",
              "      <td>0</td>\n",
              "      <td>0</td>\n",
              "      <td>0</td>\n",
              "      <td>0</td>\n",
              "      <td>0</td>\n",
              "      <td>0</td>\n",
              "      <td>...</td>\n",
              "      <td>0</td>\n",
              "      <td>0</td>\n",
              "      <td>0</td>\n",
              "      <td>1</td>\n",
              "      <td>0</td>\n",
              "      <td>0</td>\n",
              "      <td>13</td>\n",
              "      <td>0</td>\n",
              "      <td>1</td>\n",
              "      <td>19</td>\n",
              "    </tr>\n",
              "    <tr>\n",
              "      <th>1542</th>\n",
              "      <td>E</td>\n",
              "      <td>0</td>\n",
              "      <td>0</td>\n",
              "      <td>0</td>\n",
              "      <td>0</td>\n",
              "      <td>0</td>\n",
              "      <td>0</td>\n",
              "      <td>0</td>\n",
              "      <td>0</td>\n",
              "      <td>0</td>\n",
              "      <td>...</td>\n",
              "      <td>0</td>\n",
              "      <td>0</td>\n",
              "      <td>0</td>\n",
              "      <td>26</td>\n",
              "      <td>4</td>\n",
              "      <td>12</td>\n",
              "      <td>58</td>\n",
              "      <td>0</td>\n",
              "      <td>1</td>\n",
              "      <td>22</td>\n",
              "    </tr>\n",
              "    <tr>\n",
              "      <th>77</th>\n",
              "      <td>E</td>\n",
              "      <td>4</td>\n",
              "      <td>4</td>\n",
              "      <td>12</td>\n",
              "      <td>2</td>\n",
              "      <td>2</td>\n",
              "      <td>0</td>\n",
              "      <td>2</td>\n",
              "      <td>1</td>\n",
              "      <td>1</td>\n",
              "      <td>...</td>\n",
              "      <td>17</td>\n",
              "      <td>1</td>\n",
              "      <td>1</td>\n",
              "      <td>12</td>\n",
              "      <td>3</td>\n",
              "      <td>2</td>\n",
              "      <td>126</td>\n",
              "      <td>0</td>\n",
              "      <td>1</td>\n",
              "      <td>40</td>\n",
              "    </tr>\n",
              "    <tr>\n",
              "      <th>1983</th>\n",
              "      <td>L</td>\n",
              "      <td>2</td>\n",
              "      <td>2</td>\n",
              "      <td>0</td>\n",
              "      <td>3</td>\n",
              "      <td>3</td>\n",
              "      <td>0</td>\n",
              "      <td>3</td>\n",
              "      <td>0</td>\n",
              "      <td>0</td>\n",
              "      <td>...</td>\n",
              "      <td>0</td>\n",
              "      <td>0</td>\n",
              "      <td>0</td>\n",
              "      <td>0</td>\n",
              "      <td>0</td>\n",
              "      <td>0</td>\n",
              "      <td>14</td>\n",
              "      <td>0</td>\n",
              "      <td>1</td>\n",
              "      <td>22</td>\n",
              "    </tr>\n",
              "    <tr>\n",
              "      <th>1555</th>\n",
              "      <td>L</td>\n",
              "      <td>0</td>\n",
              "      <td>0</td>\n",
              "      <td>0</td>\n",
              "      <td>0</td>\n",
              "      <td>0</td>\n",
              "      <td>0</td>\n",
              "      <td>0</td>\n",
              "      <td>0</td>\n",
              "      <td>0</td>\n",
              "      <td>...</td>\n",
              "      <td>0</td>\n",
              "      <td>0</td>\n",
              "      <td>0</td>\n",
              "      <td>1</td>\n",
              "      <td>0</td>\n",
              "      <td>0</td>\n",
              "      <td>19</td>\n",
              "      <td>0</td>\n",
              "      <td>1</td>\n",
              "      <td>19</td>\n",
              "    </tr>\n",
              "  </tbody>\n",
              "</table>\n",
              "<p>10 rows × 51 columns</p>\n",
              "</div>\n",
              "    <div class=\"colab-df-buttons\">\n",
              "\n",
              "  <div class=\"colab-df-container\">\n",
              "    <button class=\"colab-df-convert\" onclick=\"convertToInteractive('df-ae96aa74-e2dc-4b60-8fbf-9d8e396170b3')\"\n",
              "            title=\"Convert this dataframe to an interactive table.\"\n",
              "            style=\"display:none;\">\n",
              "\n",
              "  <svg xmlns=\"http://www.w3.org/2000/svg\" height=\"24px\" viewBox=\"0 -960 960 960\">\n",
              "    <path d=\"M120-120v-720h720v720H120Zm60-500h600v-160H180v160Zm220 220h160v-160H400v160Zm0 220h160v-160H400v160ZM180-400h160v-160H180v160Zm440 0h160v-160H620v160ZM180-180h160v-160H180v160Zm440 0h160v-160H620v160Z\"/>\n",
              "  </svg>\n",
              "    </button>\n",
              "\n",
              "  <style>\n",
              "    .colab-df-container {\n",
              "      display:flex;\n",
              "      gap: 12px;\n",
              "    }\n",
              "\n",
              "    .colab-df-convert {\n",
              "      background-color: #E8F0FE;\n",
              "      border: none;\n",
              "      border-radius: 50%;\n",
              "      cursor: pointer;\n",
              "      display: none;\n",
              "      fill: #1967D2;\n",
              "      height: 32px;\n",
              "      padding: 0 0 0 0;\n",
              "      width: 32px;\n",
              "    }\n",
              "\n",
              "    .colab-df-convert:hover {\n",
              "      background-color: #E2EBFA;\n",
              "      box-shadow: 0px 1px 2px rgba(60, 64, 67, 0.3), 0px 1px 3px 1px rgba(60, 64, 67, 0.15);\n",
              "      fill: #174EA6;\n",
              "    }\n",
              "\n",
              "    .colab-df-buttons div {\n",
              "      margin-bottom: 4px;\n",
              "    }\n",
              "\n",
              "    [theme=dark] .colab-df-convert {\n",
              "      background-color: #3B4455;\n",
              "      fill: #D2E3FC;\n",
              "    }\n",
              "\n",
              "    [theme=dark] .colab-df-convert:hover {\n",
              "      background-color: #434B5C;\n",
              "      box-shadow: 0px 1px 3px 1px rgba(0, 0, 0, 0.15);\n",
              "      filter: drop-shadow(0px 1px 2px rgba(0, 0, 0, 0.3));\n",
              "      fill: #FFFFFF;\n",
              "    }\n",
              "  </style>\n",
              "\n",
              "    <script>\n",
              "      const buttonEl =\n",
              "        document.querySelector('#df-ae96aa74-e2dc-4b60-8fbf-9d8e396170b3 button.colab-df-convert');\n",
              "      buttonEl.style.display =\n",
              "        google.colab.kernel.accessAllowed ? 'block' : 'none';\n",
              "\n",
              "      async function convertToInteractive(key) {\n",
              "        const element = document.querySelector('#df-ae96aa74-e2dc-4b60-8fbf-9d8e396170b3');\n",
              "        const dataTable =\n",
              "          await google.colab.kernel.invokeFunction('convertToInteractive',\n",
              "                                                    [key], {});\n",
              "        if (!dataTable) return;\n",
              "\n",
              "        const docLinkHtml = 'Like what you see? Visit the ' +\n",
              "          '<a target=\"_blank\" href=https://colab.research.google.com/notebooks/data_table.ipynb>data table notebook</a>'\n",
              "          + ' to learn more about interactive tables.';\n",
              "        element.innerHTML = '';\n",
              "        dataTable['output_type'] = 'display_data';\n",
              "        await google.colab.output.renderOutput(dataTable, element);\n",
              "        const docLink = document.createElement('div');\n",
              "        docLink.innerHTML = docLinkHtml;\n",
              "        element.appendChild(docLink);\n",
              "      }\n",
              "    </script>\n",
              "  </div>\n",
              "\n",
              "\n",
              "<div id=\"df-8a6b3e00-6dce-4cf7-a392-c850ff2b195f\">\n",
              "  <button class=\"colab-df-quickchart\" onclick=\"quickchart('df-8a6b3e00-6dce-4cf7-a392-c850ff2b195f')\"\n",
              "            title=\"Suggest charts\"\n",
              "            style=\"display:none;\">\n",
              "\n",
              "<svg xmlns=\"http://www.w3.org/2000/svg\" height=\"24px\"viewBox=\"0 0 24 24\"\n",
              "     width=\"24px\">\n",
              "    <g>\n",
              "        <path d=\"M19 3H5c-1.1 0-2 .9-2 2v14c0 1.1.9 2 2 2h14c1.1 0 2-.9 2-2V5c0-1.1-.9-2-2-2zM9 17H7v-7h2v7zm4 0h-2V7h2v10zm4 0h-2v-4h2v4z\"/>\n",
              "    </g>\n",
              "</svg>\n",
              "  </button>\n",
              "\n",
              "<style>\n",
              "  .colab-df-quickchart {\n",
              "      --bg-color: #E8F0FE;\n",
              "      --fill-color: #1967D2;\n",
              "      --hover-bg-color: #E2EBFA;\n",
              "      --hover-fill-color: #174EA6;\n",
              "      --disabled-fill-color: #AAA;\n",
              "      --disabled-bg-color: #DDD;\n",
              "  }\n",
              "\n",
              "  [theme=dark] .colab-df-quickchart {\n",
              "      --bg-color: #3B4455;\n",
              "      --fill-color: #D2E3FC;\n",
              "      --hover-bg-color: #434B5C;\n",
              "      --hover-fill-color: #FFFFFF;\n",
              "      --disabled-bg-color: #3B4455;\n",
              "      --disabled-fill-color: #666;\n",
              "  }\n",
              "\n",
              "  .colab-df-quickchart {\n",
              "    background-color: var(--bg-color);\n",
              "    border: none;\n",
              "    border-radius: 50%;\n",
              "    cursor: pointer;\n",
              "    display: none;\n",
              "    fill: var(--fill-color);\n",
              "    height: 32px;\n",
              "    padding: 0;\n",
              "    width: 32px;\n",
              "  }\n",
              "\n",
              "  .colab-df-quickchart:hover {\n",
              "    background-color: var(--hover-bg-color);\n",
              "    box-shadow: 0 1px 2px rgba(60, 64, 67, 0.3), 0 1px 3px 1px rgba(60, 64, 67, 0.15);\n",
              "    fill: var(--button-hover-fill-color);\n",
              "  }\n",
              "\n",
              "  .colab-df-quickchart-complete:disabled,\n",
              "  .colab-df-quickchart-complete:disabled:hover {\n",
              "    background-color: var(--disabled-bg-color);\n",
              "    fill: var(--disabled-fill-color);\n",
              "    box-shadow: none;\n",
              "  }\n",
              "\n",
              "  .colab-df-spinner {\n",
              "    border: 2px solid var(--fill-color);\n",
              "    border-color: transparent;\n",
              "    border-bottom-color: var(--fill-color);\n",
              "    animation:\n",
              "      spin 1s steps(1) infinite;\n",
              "  }\n",
              "\n",
              "  @keyframes spin {\n",
              "    0% {\n",
              "      border-color: transparent;\n",
              "      border-bottom-color: var(--fill-color);\n",
              "      border-left-color: var(--fill-color);\n",
              "    }\n",
              "    20% {\n",
              "      border-color: transparent;\n",
              "      border-left-color: var(--fill-color);\n",
              "      border-top-color: var(--fill-color);\n",
              "    }\n",
              "    30% {\n",
              "      border-color: transparent;\n",
              "      border-left-color: var(--fill-color);\n",
              "      border-top-color: var(--fill-color);\n",
              "      border-right-color: var(--fill-color);\n",
              "    }\n",
              "    40% {\n",
              "      border-color: transparent;\n",
              "      border-right-color: var(--fill-color);\n",
              "      border-top-color: var(--fill-color);\n",
              "    }\n",
              "    60% {\n",
              "      border-color: transparent;\n",
              "      border-right-color: var(--fill-color);\n",
              "    }\n",
              "    80% {\n",
              "      border-color: transparent;\n",
              "      border-right-color: var(--fill-color);\n",
              "      border-bottom-color: var(--fill-color);\n",
              "    }\n",
              "    90% {\n",
              "      border-color: transparent;\n",
              "      border-bottom-color: var(--fill-color);\n",
              "    }\n",
              "  }\n",
              "</style>\n",
              "\n",
              "  <script>\n",
              "    async function quickchart(key) {\n",
              "      const quickchartButtonEl =\n",
              "        document.querySelector('#' + key + ' button');\n",
              "      quickchartButtonEl.disabled = true;  // To prevent multiple clicks.\n",
              "      quickchartButtonEl.classList.add('colab-df-spinner');\n",
              "      try {\n",
              "        const charts = await google.colab.kernel.invokeFunction(\n",
              "            'suggestCharts', [key], {});\n",
              "      } catch (error) {\n",
              "        console.error('Error during call to suggestCharts:', error);\n",
              "      }\n",
              "      quickchartButtonEl.classList.remove('colab-df-spinner');\n",
              "      quickchartButtonEl.classList.add('colab-df-quickchart-complete');\n",
              "    }\n",
              "    (() => {\n",
              "      let quickchartButtonEl =\n",
              "        document.querySelector('#df-8a6b3e00-6dce-4cf7-a392-c850ff2b195f button');\n",
              "      quickchartButtonEl.style.display =\n",
              "        google.colab.kernel.accessAllowed ? 'block' : 'none';\n",
              "    })();\n",
              "  </script>\n",
              "</div>\n",
              "    </div>\n",
              "  </div>\n"
            ]
          },
          "metadata": {},
          "execution_count": 75
        }
      ],
      "source": [
        "# get 10 samples of the dataset\n",
        "df.sample(10)"
      ]
    },
    {
      "cell_type": "code",
      "execution_count": null,
      "metadata": {
        "id": "D2qH04t92Wtj",
        "colab": {
          "base_uri": "https://localhost:8080/"
        },
        "outputId": "492304b6-e5fd-4d1b-a543-05fab803821c"
      },
      "outputs": [
        {
          "output_type": "execute_result",
          "data": {
            "text/plain": [
              "(2000, 51)"
            ]
          },
          "metadata": {},
          "execution_count": 76
        }
      ],
      "source": [
        "# number of rows, columns\n",
        "df.shape"
      ]
    },
    {
      "cell_type": "code",
      "execution_count": null,
      "metadata": {
        "id": "X3fM5Ck0DSz9",
        "colab": {
          "base_uri": "https://localhost:8080/"
        },
        "outputId": "3b1b472f-3986-4cac-eb8b-888d9c2e0402"
      },
      "outputs": [
        {
          "output_type": "stream",
          "name": "stdout",
          "text": [
            "<class 'pandas.core.frame.DataFrame'>\n",
            "RangeIndex: 2000 entries, 0 to 1999\n",
            "Data columns (total 51 columns):\n",
            " #   Column                Non-Null Count  Dtype \n",
            "---  ------                --------------  ----- \n",
            " 0   family                2000 non-null   object\n",
            " 1   proc_pid              2000 non-null   int64 \n",
            " 2   file                  2000 non-null   int64 \n",
            " 3   urls                  2000 non-null   int64 \n",
            " 4   type                  2000 non-null   int64 \n",
            " 5   name                  2000 non-null   int64 \n",
            " 6   ext_urls              2000 non-null   int64 \n",
            " 7   path                  2000 non-null   int64 \n",
            " 8   program               2000 non-null   int64 \n",
            " 9   info                  2000 non-null   int64 \n",
            " 10  positives             2000 non-null   int64 \n",
            " 11  families              2000 non-null   int64 \n",
            " 12  description           2000 non-null   int64 \n",
            " 13  sign_name             2000 non-null   int64 \n",
            " 14  sign_stacktrace       2000 non-null   int64 \n",
            " 15  arguments             2000 non-null   int64 \n",
            " 16  api                   2000 non-null   int64 \n",
            " 17  category              2000 non-null   int64 \n",
            " 18  imported_dll_count    2000 non-null   int64 \n",
            " 19  dll                   2000 non-null   int64 \n",
            " 20  pe_res_name           2000 non-null   int64 \n",
            " 21  filetype              2000 non-null   int64 \n",
            " 22  pe_sec_name           2000 non-null   int64 \n",
            " 23  entropy               2000 non-null   int64 \n",
            " 24  hosts                 2000 non-null   int64 \n",
            " 25  requests              2000 non-null   int64 \n",
            " 26  mitm                  2000 non-null   int64 \n",
            " 27  domains               2000 non-null   int64 \n",
            " 28  dns_servers           2000 non-null   int64 \n",
            " 29  tcp                   2000 non-null   int64 \n",
            " 30  udp                   2000 non-null   int64 \n",
            " 31  dead_hosts            2000 non-null   int64 \n",
            " 32  proc                  2000 non-null   int64 \n",
            " 33  beh_command_line      2000 non-null   int64 \n",
            " 34  process_path          2000 non-null   int64 \n",
            " 35  tree_command_line     2000 non-null   int64 \n",
            " 36  children              2000 non-null   int64 \n",
            " 37  tree_process_name     2000 non-null   int64 \n",
            " 38  command_line          2000 non-null   int64 \n",
            " 39  regkey_read           2000 non-null   int64 \n",
            " 40  directory_enumerated  2000 non-null   int64 \n",
            " 41  regkey_opened         2000 non-null   int64 \n",
            " 42  file_created          2000 non-null   int64 \n",
            " 43  wmi_query             2000 non-null   int64 \n",
            " 44  dll_loaded            2000 non-null   int64 \n",
            " 45  regkey_written        2000 non-null   int64 \n",
            " 46  file_read             2000 non-null   int64 \n",
            " 47  apistats              2000 non-null   int64 \n",
            " 48  errors                2000 non-null   int64 \n",
            " 49  action                2000 non-null   int64 \n",
            " 50  log                   2000 non-null   int64 \n",
            "dtypes: int64(50), object(1)\n",
            "memory usage: 797.0+ KB\n"
          ]
        }
      ],
      "source": [
        "df.info()"
      ]
    },
    {
      "cell_type": "code",
      "execution_count": null,
      "metadata": {
        "id": "6yfvW-MADSz9",
        "scrolled": true,
        "colab": {
          "base_uri": "https://localhost:8080/"
        },
        "outputId": "ccc7097f-b50c-4f00-e1ec-4ba6846146d3"
      },
      "outputs": [
        {
          "output_type": "execute_result",
          "data": {
            "text/plain": [
              "family                  0\n",
              "proc_pid                0\n",
              "file                    0\n",
              "urls                    0\n",
              "type                    0\n",
              "name                    0\n",
              "ext_urls                0\n",
              "path                    0\n",
              "program                 0\n",
              "info                    0\n",
              "positives               0\n",
              "families                0\n",
              "description             0\n",
              "sign_name               0\n",
              "sign_stacktrace         0\n",
              "arguments               0\n",
              "api                     0\n",
              "category                0\n",
              "imported_dll_count      0\n",
              "dll                     0\n",
              "pe_res_name             0\n",
              "filetype                0\n",
              "pe_sec_name             0\n",
              "entropy                 0\n",
              "hosts                   0\n",
              "requests                0\n",
              "mitm                    0\n",
              "domains                 0\n",
              "dns_servers             0\n",
              "tcp                     0\n",
              "udp                     0\n",
              "dead_hosts              0\n",
              "proc                    0\n",
              "beh_command_line        0\n",
              "process_path            0\n",
              "tree_command_line       0\n",
              "children                0\n",
              "tree_process_name       0\n",
              "command_line            0\n",
              "regkey_read             0\n",
              "directory_enumerated    0\n",
              "regkey_opened           0\n",
              "file_created            0\n",
              "wmi_query               0\n",
              "dll_loaded              0\n",
              "regkey_written          0\n",
              "file_read               0\n",
              "apistats                0\n",
              "errors                  0\n",
              "action                  0\n",
              "log                     0\n",
              "dtype: int64"
            ]
          },
          "metadata": {},
          "execution_count": 78
        }
      ],
      "source": [
        "# number of missing values\n",
        "df.isnull().sum()"
      ]
    },
    {
      "cell_type": "code",
      "execution_count": null,
      "metadata": {
        "id": "3Utrsxxw2cV3",
        "colab": {
          "base_uri": "https://localhost:8080/"
        },
        "outputId": "f1fb1d52-bb9b-4f3a-ed50-4959118d7e3a"
      },
      "outputs": [
        {
          "output_type": "execute_result",
          "data": {
            "text/plain": [
              "action                  332\n",
              "api                     247\n",
              "apistats                261\n",
              "arguments               247\n",
              "beh_command_line        384\n",
              "category                247\n",
              "children                 69\n",
              "command_line            257\n",
              "dead_hosts               59\n",
              "description              63\n",
              "directory_enumerated    439\n",
              "dll                     100\n",
              "dll_loaded              112\n",
              "dns_servers               0\n",
              "domains                   0\n",
              "entropy                   0\n",
              "errors                    8\n",
              "ext_urls                  0\n",
              "families                261\n",
              "family                    0\n",
              "file                    432\n",
              "file_created            375\n",
              "file_read               344\n",
              "filetype                200\n",
              "hosts                    50\n",
              "imported_dll_count        0\n",
              "info                    141\n",
              "log                     448\n",
              "mitm                      0\n",
              "name                    278\n",
              "path                    278\n",
              "pe_res_name             200\n",
              "pe_sec_name               0\n",
              "positives                90\n",
              "proc                    384\n",
              "proc_pid                432\n",
              "process_path            384\n",
              "program                 141\n",
              "regkey_opened           335\n",
              "regkey_read             365\n",
              "regkey_written          349\n",
              "requests                  0\n",
              "sign_name                63\n",
              "sign_stacktrace           0\n",
              "tcp                       2\n",
              "tree_command_line        37\n",
              "tree_process_name        37\n",
              "type                    278\n",
              "udp                      53\n",
              "urls                    201\n",
              "wmi_query               103\n",
              "dtype: int64"
            ]
          },
          "metadata": {},
          "execution_count": 79
        }
      ],
      "source": [
        "# number of outliers\n",
        "Q1 = df.quantile(0.25)\n",
        "Q3 = df.quantile(0.75)\n",
        "IQR = Q3 - Q1\n",
        "((df < (Q1 - 1.5 * IQR)) | (df > (Q3 + 1.5 * IQR))).sum()"
      ]
    },
    {
      "cell_type": "code",
      "execution_count": null,
      "metadata": {
        "id": "kjNGCodR94DC",
        "colab": {
          "base_uri": "https://localhost:8080/"
        },
        "outputId": "114c2d3f-22b6-41c3-e05d-eb63dc182fe4"
      },
      "outputs": [
        {
          "output_type": "execute_result",
          "data": {
            "text/plain": [
              "ext_urls              1\n",
              "sign_stacktrace       1\n",
              "imported_dll_count    1\n",
              "mitm                  1\n",
              "dtype: int64"
            ]
          },
          "metadata": {},
          "execution_count": 80
        }
      ],
      "source": [
        "# columns with only 1 unique value\n",
        "df.loc[:, df.nunique() == 1].nunique()"
      ]
    },
    {
      "cell_type": "code",
      "execution_count": null,
      "metadata": {
        "id": "g3o-WZTxNghz",
        "colab": {
          "base_uri": "https://localhost:8080/"
        },
        "outputId": "3ebd7606-ada9-4a7d-b6c3-4e3491a7e255"
      },
      "outputs": [
        {
          "output_type": "execute_result",
          "data": {
            "text/plain": [
              "G    1000\n",
              "E     800\n",
              "L     200\n",
              "Name: family, dtype: int64"
            ]
          },
          "metadata": {},
          "execution_count": 81
        }
      ],
      "source": [
        "# number of samples in a given class\n",
        "df['family'].value_counts()"
      ]
    },
    {
      "cell_type": "markdown",
      "metadata": {
        "id": "QpMCVdPqDSz-"
      },
      "source": [
        "Ransomware and Goodware classes are balanced (1000 each) hence there is no need for balancing methods such as oversampling or undersampling."
      ]
    },
    {
      "cell_type": "markdown",
      "metadata": {
        "id": "AXhWJJGuDSz-"
      },
      "source": [
        "### 3) Data Preparation"
      ]
    },
    {
      "cell_type": "code",
      "execution_count": null,
      "metadata": {
        "id": "B5ztOjn0DSz-",
        "colab": {
          "base_uri": "https://localhost:8080/",
          "height": 499
        },
        "outputId": "80bd75f0-8a4a-4c71-d2a9-f766980814be"
      },
      "outputs": [
        {
          "output_type": "execute_result",
          "data": {
            "text/plain": [
              "                    family  proc_pid  file  urls  type  name  ext_urls  path  \\\n",
              "791   Encryptor Ransomware         4     4    26     0     0         0     0   \n",
              "787   Encryptor Ransomware         0     0     0     0     0         0     0   \n",
              "262   Encryptor Ransomware         0     0     0     0     0         0     0   \n",
              "1157              Goodware         0     0     0     0     0         0     0   \n",
              "938               Goodware         0     0     0     0     0         0     0   \n",
              "237   Encryptor Ransomware         0     0     0     0     0         0     0   \n",
              "1371  Encryptor Ransomware         3     3   390     0     0         0     0   \n",
              "139               Goodware         0     0     0     0     0         0     0   \n",
              "89                Goodware         0     0     0     0     0         0     0   \n",
              "158               Goodware         0     0     0     0     0         0     0   \n",
              "\n",
              "      program  info  ...  regkey_opened  file_created  wmi_query  dll_loaded  \\\n",
              "791         0     0  ...            152          2110          2          38   \n",
              "787         0     0  ...              5            89          0          17   \n",
              "262         0     0  ...             58           802          0          19   \n",
              "1157        0     0  ...              8             0          0           3   \n",
              "938         0     0  ...              1             0          0           1   \n",
              "237         0     0  ...              4          2140          0           8   \n",
              "1371        0     0  ...             23            26          1          81   \n",
              "139         0     0  ...              0            10          0          16   \n",
              "89          0     0  ...              0             0          0           0   \n",
              "158         0     0  ...              0             0          0           0   \n",
              "\n",
              "      regkey_written  file_read  apistats  errors  action    log  \n",
              "791               36       1963       282       0       1   2194  \n",
              "787                8        745        61       0       1    805  \n",
              "262                7       9292        73       0       1  13991  \n",
              "1157               0          1        35       0       1     18  \n",
              "938                0          0        19       0       1     18  \n",
              "237                2       2165        91       0       1   2206  \n",
              "1371              20         56       350       0       1    130  \n",
              "139                0         15        56       0       1     28  \n",
              "89                 0          0         0       0       0     14  \n",
              "158                0          0         0       0       0     14  \n",
              "\n",
              "[10 rows x 51 columns]"
            ],
            "text/html": [
              "\n",
              "  <div id=\"df-3c9b0ae8-0cf8-44de-b6d1-6f84c66dd3db\" class=\"colab-df-container\">\n",
              "    <div>\n",
              "<style scoped>\n",
              "    .dataframe tbody tr th:only-of-type {\n",
              "        vertical-align: middle;\n",
              "    }\n",
              "\n",
              "    .dataframe tbody tr th {\n",
              "        vertical-align: top;\n",
              "    }\n",
              "\n",
              "    .dataframe thead th {\n",
              "        text-align: right;\n",
              "    }\n",
              "</style>\n",
              "<table border=\"1\" class=\"dataframe\">\n",
              "  <thead>\n",
              "    <tr style=\"text-align: right;\">\n",
              "      <th></th>\n",
              "      <th>family</th>\n",
              "      <th>proc_pid</th>\n",
              "      <th>file</th>\n",
              "      <th>urls</th>\n",
              "      <th>type</th>\n",
              "      <th>name</th>\n",
              "      <th>ext_urls</th>\n",
              "      <th>path</th>\n",
              "      <th>program</th>\n",
              "      <th>info</th>\n",
              "      <th>...</th>\n",
              "      <th>regkey_opened</th>\n",
              "      <th>file_created</th>\n",
              "      <th>wmi_query</th>\n",
              "      <th>dll_loaded</th>\n",
              "      <th>regkey_written</th>\n",
              "      <th>file_read</th>\n",
              "      <th>apistats</th>\n",
              "      <th>errors</th>\n",
              "      <th>action</th>\n",
              "      <th>log</th>\n",
              "    </tr>\n",
              "  </thead>\n",
              "  <tbody>\n",
              "    <tr>\n",
              "      <th>791</th>\n",
              "      <td>Encryptor Ransomware</td>\n",
              "      <td>4</td>\n",
              "      <td>4</td>\n",
              "      <td>26</td>\n",
              "      <td>0</td>\n",
              "      <td>0</td>\n",
              "      <td>0</td>\n",
              "      <td>0</td>\n",
              "      <td>0</td>\n",
              "      <td>0</td>\n",
              "      <td>...</td>\n",
              "      <td>152</td>\n",
              "      <td>2110</td>\n",
              "      <td>2</td>\n",
              "      <td>38</td>\n",
              "      <td>36</td>\n",
              "      <td>1963</td>\n",
              "      <td>282</td>\n",
              "      <td>0</td>\n",
              "      <td>1</td>\n",
              "      <td>2194</td>\n",
              "    </tr>\n",
              "    <tr>\n",
              "      <th>787</th>\n",
              "      <td>Encryptor Ransomware</td>\n",
              "      <td>0</td>\n",
              "      <td>0</td>\n",
              "      <td>0</td>\n",
              "      <td>0</td>\n",
              "      <td>0</td>\n",
              "      <td>0</td>\n",
              "      <td>0</td>\n",
              "      <td>0</td>\n",
              "      <td>0</td>\n",
              "      <td>...</td>\n",
              "      <td>5</td>\n",
              "      <td>89</td>\n",
              "      <td>0</td>\n",
              "      <td>17</td>\n",
              "      <td>8</td>\n",
              "      <td>745</td>\n",
              "      <td>61</td>\n",
              "      <td>0</td>\n",
              "      <td>1</td>\n",
              "      <td>805</td>\n",
              "    </tr>\n",
              "    <tr>\n",
              "      <th>262</th>\n",
              "      <td>Encryptor Ransomware</td>\n",
              "      <td>0</td>\n",
              "      <td>0</td>\n",
              "      <td>0</td>\n",
              "      <td>0</td>\n",
              "      <td>0</td>\n",
              "      <td>0</td>\n",
              "      <td>0</td>\n",
              "      <td>0</td>\n",
              "      <td>0</td>\n",
              "      <td>...</td>\n",
              "      <td>58</td>\n",
              "      <td>802</td>\n",
              "      <td>0</td>\n",
              "      <td>19</td>\n",
              "      <td>7</td>\n",
              "      <td>9292</td>\n",
              "      <td>73</td>\n",
              "      <td>0</td>\n",
              "      <td>1</td>\n",
              "      <td>13991</td>\n",
              "    </tr>\n",
              "    <tr>\n",
              "      <th>1157</th>\n",
              "      <td>Goodware</td>\n",
              "      <td>0</td>\n",
              "      <td>0</td>\n",
              "      <td>0</td>\n",
              "      <td>0</td>\n",
              "      <td>0</td>\n",
              "      <td>0</td>\n",
              "      <td>0</td>\n",
              "      <td>0</td>\n",
              "      <td>0</td>\n",
              "      <td>...</td>\n",
              "      <td>8</td>\n",
              "      <td>0</td>\n",
              "      <td>0</td>\n",
              "      <td>3</td>\n",
              "      <td>0</td>\n",
              "      <td>1</td>\n",
              "      <td>35</td>\n",
              "      <td>0</td>\n",
              "      <td>1</td>\n",
              "      <td>18</td>\n",
              "    </tr>\n",
              "    <tr>\n",
              "      <th>938</th>\n",
              "      <td>Goodware</td>\n",
              "      <td>0</td>\n",
              "      <td>0</td>\n",
              "      <td>0</td>\n",
              "      <td>0</td>\n",
              "      <td>0</td>\n",
              "      <td>0</td>\n",
              "      <td>0</td>\n",
              "      <td>0</td>\n",
              "      <td>0</td>\n",
              "      <td>...</td>\n",
              "      <td>1</td>\n",
              "      <td>0</td>\n",
              "      <td>0</td>\n",
              "      <td>1</td>\n",
              "      <td>0</td>\n",
              "      <td>0</td>\n",
              "      <td>19</td>\n",
              "      <td>0</td>\n",
              "      <td>1</td>\n",
              "      <td>18</td>\n",
              "    </tr>\n",
              "    <tr>\n",
              "      <th>237</th>\n",
              "      <td>Encryptor Ransomware</td>\n",
              "      <td>0</td>\n",
              "      <td>0</td>\n",
              "      <td>0</td>\n",
              "      <td>0</td>\n",
              "      <td>0</td>\n",
              "      <td>0</td>\n",
              "      <td>0</td>\n",
              "      <td>0</td>\n",
              "      <td>0</td>\n",
              "      <td>...</td>\n",
              "      <td>4</td>\n",
              "      <td>2140</td>\n",
              "      <td>0</td>\n",
              "      <td>8</td>\n",
              "      <td>2</td>\n",
              "      <td>2165</td>\n",
              "      <td>91</td>\n",
              "      <td>0</td>\n",
              "      <td>1</td>\n",
              "      <td>2206</td>\n",
              "    </tr>\n",
              "    <tr>\n",
              "      <th>1371</th>\n",
              "      <td>Encryptor Ransomware</td>\n",
              "      <td>3</td>\n",
              "      <td>3</td>\n",
              "      <td>390</td>\n",
              "      <td>0</td>\n",
              "      <td>0</td>\n",
              "      <td>0</td>\n",
              "      <td>0</td>\n",
              "      <td>0</td>\n",
              "      <td>0</td>\n",
              "      <td>...</td>\n",
              "      <td>23</td>\n",
              "      <td>26</td>\n",
              "      <td>1</td>\n",
              "      <td>81</td>\n",
              "      <td>20</td>\n",
              "      <td>56</td>\n",
              "      <td>350</td>\n",
              "      <td>0</td>\n",
              "      <td>1</td>\n",
              "      <td>130</td>\n",
              "    </tr>\n",
              "    <tr>\n",
              "      <th>139</th>\n",
              "      <td>Goodware</td>\n",
              "      <td>0</td>\n",
              "      <td>0</td>\n",
              "      <td>0</td>\n",
              "      <td>0</td>\n",
              "      <td>0</td>\n",
              "      <td>0</td>\n",
              "      <td>0</td>\n",
              "      <td>0</td>\n",
              "      <td>0</td>\n",
              "      <td>...</td>\n",
              "      <td>0</td>\n",
              "      <td>10</td>\n",
              "      <td>0</td>\n",
              "      <td>16</td>\n",
              "      <td>0</td>\n",
              "      <td>15</td>\n",
              "      <td>56</td>\n",
              "      <td>0</td>\n",
              "      <td>1</td>\n",
              "      <td>28</td>\n",
              "    </tr>\n",
              "    <tr>\n",
              "      <th>89</th>\n",
              "      <td>Goodware</td>\n",
              "      <td>0</td>\n",
              "      <td>0</td>\n",
              "      <td>0</td>\n",
              "      <td>0</td>\n",
              "      <td>0</td>\n",
              "      <td>0</td>\n",
              "      <td>0</td>\n",
              "      <td>0</td>\n",
              "      <td>0</td>\n",
              "      <td>...</td>\n",
              "      <td>0</td>\n",
              "      <td>0</td>\n",
              "      <td>0</td>\n",
              "      <td>0</td>\n",
              "      <td>0</td>\n",
              "      <td>0</td>\n",
              "      <td>0</td>\n",
              "      <td>0</td>\n",
              "      <td>0</td>\n",
              "      <td>14</td>\n",
              "    </tr>\n",
              "    <tr>\n",
              "      <th>158</th>\n",
              "      <td>Goodware</td>\n",
              "      <td>0</td>\n",
              "      <td>0</td>\n",
              "      <td>0</td>\n",
              "      <td>0</td>\n",
              "      <td>0</td>\n",
              "      <td>0</td>\n",
              "      <td>0</td>\n",
              "      <td>0</td>\n",
              "      <td>0</td>\n",
              "      <td>...</td>\n",
              "      <td>0</td>\n",
              "      <td>0</td>\n",
              "      <td>0</td>\n",
              "      <td>0</td>\n",
              "      <td>0</td>\n",
              "      <td>0</td>\n",
              "      <td>0</td>\n",
              "      <td>0</td>\n",
              "      <td>0</td>\n",
              "      <td>14</td>\n",
              "    </tr>\n",
              "  </tbody>\n",
              "</table>\n",
              "<p>10 rows × 51 columns</p>\n",
              "</div>\n",
              "    <div class=\"colab-df-buttons\">\n",
              "\n",
              "  <div class=\"colab-df-container\">\n",
              "    <button class=\"colab-df-convert\" onclick=\"convertToInteractive('df-3c9b0ae8-0cf8-44de-b6d1-6f84c66dd3db')\"\n",
              "            title=\"Convert this dataframe to an interactive table.\"\n",
              "            style=\"display:none;\">\n",
              "\n",
              "  <svg xmlns=\"http://www.w3.org/2000/svg\" height=\"24px\" viewBox=\"0 -960 960 960\">\n",
              "    <path d=\"M120-120v-720h720v720H120Zm60-500h600v-160H180v160Zm220 220h160v-160H400v160Zm0 220h160v-160H400v160ZM180-400h160v-160H180v160Zm440 0h160v-160H620v160ZM180-180h160v-160H180v160Zm440 0h160v-160H620v160Z\"/>\n",
              "  </svg>\n",
              "    </button>\n",
              "\n",
              "  <style>\n",
              "    .colab-df-container {\n",
              "      display:flex;\n",
              "      gap: 12px;\n",
              "    }\n",
              "\n",
              "    .colab-df-convert {\n",
              "      background-color: #E8F0FE;\n",
              "      border: none;\n",
              "      border-radius: 50%;\n",
              "      cursor: pointer;\n",
              "      display: none;\n",
              "      fill: #1967D2;\n",
              "      height: 32px;\n",
              "      padding: 0 0 0 0;\n",
              "      width: 32px;\n",
              "    }\n",
              "\n",
              "    .colab-df-convert:hover {\n",
              "      background-color: #E2EBFA;\n",
              "      box-shadow: 0px 1px 2px rgba(60, 64, 67, 0.3), 0px 1px 3px 1px rgba(60, 64, 67, 0.15);\n",
              "      fill: #174EA6;\n",
              "    }\n",
              "\n",
              "    .colab-df-buttons div {\n",
              "      margin-bottom: 4px;\n",
              "    }\n",
              "\n",
              "    [theme=dark] .colab-df-convert {\n",
              "      background-color: #3B4455;\n",
              "      fill: #D2E3FC;\n",
              "    }\n",
              "\n",
              "    [theme=dark] .colab-df-convert:hover {\n",
              "      background-color: #434B5C;\n",
              "      box-shadow: 0px 1px 3px 1px rgba(0, 0, 0, 0.15);\n",
              "      filter: drop-shadow(0px 1px 2px rgba(0, 0, 0, 0.3));\n",
              "      fill: #FFFFFF;\n",
              "    }\n",
              "  </style>\n",
              "\n",
              "    <script>\n",
              "      const buttonEl =\n",
              "        document.querySelector('#df-3c9b0ae8-0cf8-44de-b6d1-6f84c66dd3db button.colab-df-convert');\n",
              "      buttonEl.style.display =\n",
              "        google.colab.kernel.accessAllowed ? 'block' : 'none';\n",
              "\n",
              "      async function convertToInteractive(key) {\n",
              "        const element = document.querySelector('#df-3c9b0ae8-0cf8-44de-b6d1-6f84c66dd3db');\n",
              "        const dataTable =\n",
              "          await google.colab.kernel.invokeFunction('convertToInteractive',\n",
              "                                                    [key], {});\n",
              "        if (!dataTable) return;\n",
              "\n",
              "        const docLinkHtml = 'Like what you see? Visit the ' +\n",
              "          '<a target=\"_blank\" href=https://colab.research.google.com/notebooks/data_table.ipynb>data table notebook</a>'\n",
              "          + ' to learn more about interactive tables.';\n",
              "        element.innerHTML = '';\n",
              "        dataTable['output_type'] = 'display_data';\n",
              "        await google.colab.output.renderOutput(dataTable, element);\n",
              "        const docLink = document.createElement('div');\n",
              "        docLink.innerHTML = docLinkHtml;\n",
              "        element.appendChild(docLink);\n",
              "      }\n",
              "    </script>\n",
              "  </div>\n",
              "\n",
              "\n",
              "<div id=\"df-053c7242-73ee-44b7-8229-e0cefea19d84\">\n",
              "  <button class=\"colab-df-quickchart\" onclick=\"quickchart('df-053c7242-73ee-44b7-8229-e0cefea19d84')\"\n",
              "            title=\"Suggest charts\"\n",
              "            style=\"display:none;\">\n",
              "\n",
              "<svg xmlns=\"http://www.w3.org/2000/svg\" height=\"24px\"viewBox=\"0 0 24 24\"\n",
              "     width=\"24px\">\n",
              "    <g>\n",
              "        <path d=\"M19 3H5c-1.1 0-2 .9-2 2v14c0 1.1.9 2 2 2h14c1.1 0 2-.9 2-2V5c0-1.1-.9-2-2-2zM9 17H7v-7h2v7zm4 0h-2V7h2v10zm4 0h-2v-4h2v4z\"/>\n",
              "    </g>\n",
              "</svg>\n",
              "  </button>\n",
              "\n",
              "<style>\n",
              "  .colab-df-quickchart {\n",
              "      --bg-color: #E8F0FE;\n",
              "      --fill-color: #1967D2;\n",
              "      --hover-bg-color: #E2EBFA;\n",
              "      --hover-fill-color: #174EA6;\n",
              "      --disabled-fill-color: #AAA;\n",
              "      --disabled-bg-color: #DDD;\n",
              "  }\n",
              "\n",
              "  [theme=dark] .colab-df-quickchart {\n",
              "      --bg-color: #3B4455;\n",
              "      --fill-color: #D2E3FC;\n",
              "      --hover-bg-color: #434B5C;\n",
              "      --hover-fill-color: #FFFFFF;\n",
              "      --disabled-bg-color: #3B4455;\n",
              "      --disabled-fill-color: #666;\n",
              "  }\n",
              "\n",
              "  .colab-df-quickchart {\n",
              "    background-color: var(--bg-color);\n",
              "    border: none;\n",
              "    border-radius: 50%;\n",
              "    cursor: pointer;\n",
              "    display: none;\n",
              "    fill: var(--fill-color);\n",
              "    height: 32px;\n",
              "    padding: 0;\n",
              "    width: 32px;\n",
              "  }\n",
              "\n",
              "  .colab-df-quickchart:hover {\n",
              "    background-color: var(--hover-bg-color);\n",
              "    box-shadow: 0 1px 2px rgba(60, 64, 67, 0.3), 0 1px 3px 1px rgba(60, 64, 67, 0.15);\n",
              "    fill: var(--button-hover-fill-color);\n",
              "  }\n",
              "\n",
              "  .colab-df-quickchart-complete:disabled,\n",
              "  .colab-df-quickchart-complete:disabled:hover {\n",
              "    background-color: var(--disabled-bg-color);\n",
              "    fill: var(--disabled-fill-color);\n",
              "    box-shadow: none;\n",
              "  }\n",
              "\n",
              "  .colab-df-spinner {\n",
              "    border: 2px solid var(--fill-color);\n",
              "    border-color: transparent;\n",
              "    border-bottom-color: var(--fill-color);\n",
              "    animation:\n",
              "      spin 1s steps(1) infinite;\n",
              "  }\n",
              "\n",
              "  @keyframes spin {\n",
              "    0% {\n",
              "      border-color: transparent;\n",
              "      border-bottom-color: var(--fill-color);\n",
              "      border-left-color: var(--fill-color);\n",
              "    }\n",
              "    20% {\n",
              "      border-color: transparent;\n",
              "      border-left-color: var(--fill-color);\n",
              "      border-top-color: var(--fill-color);\n",
              "    }\n",
              "    30% {\n",
              "      border-color: transparent;\n",
              "      border-left-color: var(--fill-color);\n",
              "      border-top-color: var(--fill-color);\n",
              "      border-right-color: var(--fill-color);\n",
              "    }\n",
              "    40% {\n",
              "      border-color: transparent;\n",
              "      border-right-color: var(--fill-color);\n",
              "      border-top-color: var(--fill-color);\n",
              "    }\n",
              "    60% {\n",
              "      border-color: transparent;\n",
              "      border-right-color: var(--fill-color);\n",
              "    }\n",
              "    80% {\n",
              "      border-color: transparent;\n",
              "      border-right-color: var(--fill-color);\n",
              "      border-bottom-color: var(--fill-color);\n",
              "    }\n",
              "    90% {\n",
              "      border-color: transparent;\n",
              "      border-bottom-color: var(--fill-color);\n",
              "    }\n",
              "  }\n",
              "</style>\n",
              "\n",
              "  <script>\n",
              "    async function quickchart(key) {\n",
              "      const quickchartButtonEl =\n",
              "        document.querySelector('#' + key + ' button');\n",
              "      quickchartButtonEl.disabled = true;  // To prevent multiple clicks.\n",
              "      quickchartButtonEl.classList.add('colab-df-spinner');\n",
              "      try {\n",
              "        const charts = await google.colab.kernel.invokeFunction(\n",
              "            'suggestCharts', [key], {});\n",
              "      } catch (error) {\n",
              "        console.error('Error during call to suggestCharts:', error);\n",
              "      }\n",
              "      quickchartButtonEl.classList.remove('colab-df-spinner');\n",
              "      quickchartButtonEl.classList.add('colab-df-quickchart-complete');\n",
              "    }\n",
              "    (() => {\n",
              "      let quickchartButtonEl =\n",
              "        document.querySelector('#df-053c7242-73ee-44b7-8229-e0cefea19d84 button');\n",
              "      quickchartButtonEl.style.display =\n",
              "        google.colab.kernel.accessAllowed ? 'block' : 'none';\n",
              "    })();\n",
              "  </script>\n",
              "</div>\n",
              "    </div>\n",
              "  </div>\n"
            ]
          },
          "metadata": {},
          "execution_count": 82
        }
      ],
      "source": [
        "# renaming classes\n",
        "df['family'].replace({'G': 'Goodware', 'E': 'Encryptor Ransomware', 'L': 'Locker Ransomware'}, inplace=True)\n",
        "df.sample(10)"
      ]
    },
    {
      "cell_type": "code",
      "execution_count": null,
      "metadata": {
        "id": "JRjVMFmP6vQt"
      },
      "outputs": [],
      "source": [
        "# setting the predictors and target variable\n",
        "y = df['family']\n",
        "X = df.drop('family', axis=1)"
      ]
    },
    {
      "cell_type": "markdown",
      "metadata": {
        "id": "Su_YAr6llyXj"
      },
      "source": [
        "### 4) Functions and Model Preparation"
      ]
    },
    {
      "cell_type": "code",
      "execution_count": null,
      "metadata": {
        "id": "JZlWjK1ImCb4"
      },
      "outputs": [],
      "source": [
        "# create list of models\n",
        "models_list = [KNeighborsClassifier(),LogisticRegression(), GaussianNB(), SVC(), RandomForestClassifier(), GradientBoostingClassifier(), MLPClassifier(hidden_layer_sizes=(100,100,100))]"
      ]
    },
    {
      "cell_type": "code",
      "execution_count": null,
      "metadata": {
        "id": "sg9of9IVO1rE"
      },
      "outputs": [],
      "source": [
        "# obtain 10-fold cross validation accuracy\n",
        "def get_cross_val_score(model):\n",
        "  global X, y\n",
        "  cv_score = cross_val_score(model,X,y,cv=10).mean() * 100\n",
        "  return cv_score\n",
        "\n"
      ]
    },
    {
      "cell_type": "code",
      "execution_count": null,
      "metadata": {
        "id": "vOlAtTtdDS0A"
      },
      "outputs": [],
      "source": [
        "# train and predict model, obtain classification report\n",
        "def predict(model):\n",
        "  global X_train, X_test, y_train, y_test\n",
        "  model.fit(X_train, y_train)\n",
        "  pred = model.predict(X_test)\n",
        "  acc_score = accuracy_score(y_test, pred)\n",
        "  print(f'ACC Score for {model}:',acc_score*100,'%')\n",
        "  print(classification_report(y_test, pred))\n",
        "  trained_model = model\n",
        "  return trained_model"
      ]
    },
    {
      "cell_type": "code",
      "execution_count": null,
      "metadata": {
        "id": "nBgrF9D0ZzYe"
      },
      "outputs": [],
      "source": [
        "# obtain average prediction duration\n",
        "def get_prediction_duration(model):\n",
        "  cumulative_duration = 0\n",
        "  for i in range(10):\n",
        "      start_time = time.perf_counter()\n",
        "      model.predict(X_test)\n",
        "      end_time = time.perf_counter()\n",
        "      individual_duration = end_time - start_time\n",
        "      cumulative_duration += individual_duration\n",
        "  average_duration = cumulative_duration / 10\n",
        "  return model, average_duration"
      ]
    },
    {
      "cell_type": "markdown",
      "metadata": {
        "id": "Tlt4Ppb42pnx"
      },
      "source": [
        "### 5) Experiment 1A: Using All 50 Features - CV accuracy and recall scores, prediction duration, memory usage"
      ]
    },
    {
      "cell_type": "code",
      "execution_count": null,
      "metadata": {
        "id": "P4IQyX5wDSz_"
      },
      "outputs": [],
      "source": [
        "# split into training and testing data\n",
        "X_train, X_test, y_train, y_test = train_test_split(X, y, test_size = 0.2, random_state = 42)"
      ]
    },
    {
      "cell_type": "code",
      "execution_count": null,
      "metadata": {
        "id": "fS1kjxLpV6hu"
      },
      "outputs": [],
      "source": [
        "cv_score_dict = {}\n",
        "for model in models_list:\n",
        "\n",
        "  model_name = str(model)\n",
        "  # remove unnecessary brackets\n",
        "  model_name = re.sub(\"\\(.*?\\)\",\"()\",model_name)\n",
        "  # store model name and score as key,values\n",
        "  cv_score_dict[model_name] = get_cross_val_score(model)\n"
      ]
    },
    {
      "cell_type": "markdown",
      "metadata": {
        "id": "AZ-5805krs2l"
      },
      "source": [
        "Obtaining 10-fold Accuracy Scores"
      ]
    },
    {
      "cell_type": "code",
      "execution_count": null,
      "metadata": {
        "colab": {
          "base_uri": "https://localhost:8080/"
        },
        "id": "7cdyq77sdcmz",
        "outputId": "424dce8d-6681-4b9e-cdd9-01c4434b525d"
      },
      "outputs": [
        {
          "output_type": "execute_result",
          "data": {
            "text/plain": [
              "{'KNeighborsClassifier()': 98.1,\n",
              " 'LogisticRegression()': 82.85,\n",
              " 'GaussianNB()': 74.1,\n",
              " 'SVC()': 70.1,\n",
              " 'RandomForestClassifier()': 100.0,\n",
              " 'GradientBoostingClassifier()': 99.95,\n",
              " 'MLPClassifier())': 98.5}"
            ]
          },
          "metadata": {},
          "execution_count": 90
        }
      ],
      "source": [
        "cv_score_dict"
      ]
    },
    {
      "cell_type": "markdown",
      "metadata": {
        "id": "f6z9V3PwrwiH"
      },
      "source": [
        "Obtaining classification report"
      ]
    },
    {
      "cell_type": "code",
      "execution_count": null,
      "metadata": {
        "colab": {
          "base_uri": "https://localhost:8080/"
        },
        "id": "ykSp9MOPdokS",
        "outputId": "0f7f71d0-c24c-4448-d263-8e57f736bd07"
      },
      "outputs": [
        {
          "output_type": "stream",
          "name": "stdout",
          "text": [
            "ACC Score for KNeighborsClassifier(): 96.5 %\n",
            "                      precision    recall  f1-score   support\n",
            "\n",
            "Encryptor Ransomware       0.99      0.92      0.96       164\n",
            "            Goodware       0.96      1.00      0.98       201\n",
            "   Locker Ransomware       0.88      1.00      0.93        35\n",
            "\n",
            "            accuracy                           0.96       400\n",
            "           macro avg       0.94      0.97      0.96       400\n",
            "        weighted avg       0.97      0.96      0.96       400\n",
            "\n",
            "---------------------------------------------------------------------\n",
            "ACC Score for LogisticRegression(): 83.0 %\n",
            "                      precision    recall  f1-score   support\n",
            "\n",
            "Encryptor Ransomware       0.79      0.86      0.82       164\n",
            "            Goodware       0.85      0.86      0.85       201\n",
            "   Locker Ransomware       0.95      0.54      0.69        35\n",
            "\n",
            "            accuracy                           0.83       400\n",
            "           macro avg       0.86      0.75      0.79       400\n",
            "        weighted avg       0.84      0.83      0.83       400\n",
            "\n",
            "---------------------------------------------------------------------\n",
            "ACC Score for GaussianNB(): 72.75 %\n",
            "                      precision    recall  f1-score   support\n",
            "\n",
            "Encryptor Ransomware       0.88      0.58      0.70       164\n",
            "            Goodware       0.70      0.93      0.80       201\n",
            "   Locker Ransomware       0.38      0.29      0.33        35\n",
            "\n",
            "            accuracy                           0.73       400\n",
            "           macro avg       0.65      0.60      0.61       400\n",
            "        weighted avg       0.75      0.73      0.72       400\n",
            "\n",
            "---------------------------------------------------------------------\n",
            "ACC Score for SVC(): 71.25 %\n",
            "                      precision    recall  f1-score   support\n",
            "\n",
            "Encryptor Ransomware       1.00      0.46      0.63       164\n",
            "            Goodware       0.64      1.00      0.78       201\n",
            "   Locker Ransomware       0.67      0.23      0.34        35\n",
            "\n",
            "            accuracy                           0.71       400\n",
            "           macro avg       0.77      0.56      0.59       400\n",
            "        weighted avg       0.79      0.71      0.68       400\n",
            "\n",
            "---------------------------------------------------------------------\n",
            "ACC Score for RandomForestClassifier(): 100.0 %\n",
            "                      precision    recall  f1-score   support\n",
            "\n",
            "Encryptor Ransomware       1.00      1.00      1.00       164\n",
            "            Goodware       1.00      1.00      1.00       201\n",
            "   Locker Ransomware       1.00      1.00      1.00        35\n",
            "\n",
            "            accuracy                           1.00       400\n",
            "           macro avg       1.00      1.00      1.00       400\n",
            "        weighted avg       1.00      1.00      1.00       400\n",
            "\n",
            "---------------------------------------------------------------------\n",
            "ACC Score for GradientBoostingClassifier(): 100.0 %\n",
            "                      precision    recall  f1-score   support\n",
            "\n",
            "Encryptor Ransomware       1.00      1.00      1.00       164\n",
            "            Goodware       1.00      1.00      1.00       201\n",
            "   Locker Ransomware       1.00      1.00      1.00        35\n",
            "\n",
            "            accuracy                           1.00       400\n",
            "           macro avg       1.00      1.00      1.00       400\n",
            "        weighted avg       1.00      1.00      1.00       400\n",
            "\n",
            "---------------------------------------------------------------------\n",
            "ACC Score for MLPClassifier(hidden_layer_sizes=(100, 100, 100)): 98.25 %\n",
            "                      precision    recall  f1-score   support\n",
            "\n",
            "Encryptor Ransomware       1.00      0.96      0.98       164\n",
            "            Goodware       0.97      1.00      0.98       201\n",
            "   Locker Ransomware       1.00      1.00      1.00        35\n",
            "\n",
            "            accuracy                           0.98       400\n",
            "           macro avg       0.99      0.99      0.99       400\n",
            "        weighted avg       0.98      0.98      0.98       400\n",
            "\n",
            "---------------------------------------------------------------------\n"
          ]
        }
      ],
      "source": [
        "trained_model_list = []\n",
        "for model in models_list:\n",
        "  trained_model_list.append(predict(model))\n",
        "  print('---------------------------------------------------------------------')"
      ]
    },
    {
      "cell_type": "markdown",
      "metadata": {
        "id": "TGkQKq91rnur"
      },
      "source": [
        "Measuring Prediction Duration"
      ]
    },
    {
      "cell_type": "code",
      "execution_count": null,
      "metadata": {
        "id": "wYS85_fha1eY"
      },
      "outputs": [],
      "source": [
        "duration_dict = {}\n",
        "\n",
        "for model in trained_model_list:\n",
        "  model, average_duration = get_prediction_duration(model)\n",
        "  duration_dict[model] = average_duration"
      ]
    },
    {
      "cell_type": "code",
      "execution_count": null,
      "metadata": {
        "colab": {
          "base_uri": "https://localhost:8080/"
        },
        "id": "vxBTm3iXbs8Q",
        "outputId": "ee6f7e4c-232e-4d79-c45e-904686e1af40"
      },
      "outputs": [
        {
          "output_type": "execute_result",
          "data": {
            "text/plain": [
              "{KNeighborsClassifier(): 0.056629120200022955,\n",
              " LogisticRegression(): 0.0024387060999970346,\n",
              " GaussianNB(): 0.0026967133000198374,\n",
              " SVC(): 0.03273392470000545,\n",
              " RandomForestClassifier(): 0.011849424400020325,\n",
              " GradientBoostingClassifier(): 0.004657460599992192,\n",
              " MLPClassifier(hidden_layer_sizes=(100, 100, 100)): 0.003535097900044093}"
            ]
          },
          "metadata": {},
          "execution_count": 93
        }
      ],
      "source": [
        "duration_dict"
      ]
    },
    {
      "cell_type": "markdown",
      "metadata": {
        "id": "hl33Lugu3y6-"
      },
      "source": [
        "### 6) Experiment 1B: Exploring Hyperparameter Tuning in Neural Network"
      ]
    },
    {
      "cell_type": "code",
      "execution_count": null,
      "metadata": {
        "colab": {
          "base_uri": "https://localhost:8080/"
        },
        "id": "eSVscWbyyAg-",
        "outputId": "12d8245c-a750-439e-d1e7-0aa42ceb336e"
      },
      "outputs": [
        {
          "name": "stdout",
          "output_type": "stream",
          "text": [
            "Best parameters found:\n",
            " {'hidden_layer_sizes': (200, 200, 200, 200, 200)}\n"
          ]
        }
      ],
      "source": [
        "# create neural network\n",
        "mlp = MLPClassifier(activation='relu')\n",
        "# define the different architecture\n",
        "parameter_space = {\n",
        "    'hidden_layer_sizes': [(100,100,100),(200,200,200),(300,300,300),(100,100,100,100),(200,200,200,200),(300,300,300,300),(100,100,100,100,100),(200,200,200,200,200),(300,300,300,300,300)]\n",
        "}\n",
        "from sklearn.model_selection import GridSearchCV\n",
        "tuned_mlp = GridSearchCV(mlp, parameter_space, n_jobs=-1, cv=10)\n",
        "tuned_mlp.fit(X, y)\n",
        "\n",
        "print('Best parameters found:\\n', tuned_mlp.best_params_)"
      ]
    },
    {
      "cell_type": "code",
      "execution_count": null,
      "metadata": {
        "colab": {
          "base_uri": "https://localhost:8080/"
        },
        "id": "rlkuLglUyAg_",
        "outputId": "a2c4e95d-38f6-4daa-b87d-da2b65f70b65"
      },
      "outputs": [
        {
          "name": "stdout",
          "output_type": "stream",
          "text": [
            "Accuracy: 98.25000000000001%, for {'hidden_layer_sizes': (100, 100, 100)} \n",
            "Accuracy: 98.79999999999998%, for {'hidden_layer_sizes': (200, 200, 200)} \n",
            "Accuracy: 98.54999999999998%, for {'hidden_layer_sizes': (300, 300, 300)} \n",
            "Accuracy: 98.94999999999999%, for {'hidden_layer_sizes': (100, 100, 100, 100)} \n",
            "Accuracy: 99.34999999999998%, for {'hidden_layer_sizes': (200, 200, 200, 200)} \n",
            "Accuracy: 99.14999999999999%, for {'hidden_layer_sizes': (300, 300, 300, 300)} \n",
            "Accuracy: 99.1%, for {'hidden_layer_sizes': (100, 100, 100, 100, 100)} \n",
            "Accuracy: 99.45%, for {'hidden_layer_sizes': (200, 200, 200, 200, 200)} \n",
            "Accuracy: 99.3%, for {'hidden_layer_sizes': (300, 300, 300, 300, 300)} \n"
          ]
        }
      ],
      "source": [
        "means = tuned_mlp.cv_results_['mean_test_score']\n",
        "stds = tuned_mlp.cv_results_['std_test_score']\n",
        "for mean, std, params in zip(means, stds, tuned_mlp.cv_results_['params']):\n",
        "    # print(\"%0.3f (+/-%0.03f) for %r\" % (mean, std * 2, params))\n",
        "    print(f'Accuracy: {mean*100}%, for {params} ')\n"
      ]
    },
    {
      "cell_type": "markdown",
      "metadata": {
        "id": "BpFmUZU2RHB4"
      },
      "source": [
        "Obtain Prediction Duration"
      ]
    },
    {
      "cell_type": "code",
      "execution_count": null,
      "metadata": {
        "id": "8M5r8rOaDURZ"
      },
      "outputs": [],
      "source": [
        "# create list of architectures\n",
        "layer_list = [(100,100,100),(200,200,200),(300,300,300),(100,100,100,100),(200,200,200,200),(300,300,300,300),(100,100,100,100,100),(200,200,200,200,200),(300,300,300,300,300)]"
      ]
    },
    {
      "cell_type": "code",
      "execution_count": null,
      "metadata": {
        "colab": {
          "base_uri": "https://localhost:8080/"
        },
        "id": "UUSmJTXZDc-I",
        "outputId": "4d49f327-4960-4033-dd81-5829001c8936"
      },
      "outputs": [
        {
          "name": "stdout",
          "output_type": "stream",
          "text": [
            "(MLPClassifier(hidden_layer_sizes=(100, 100, 100)), 0.0038728887999241123)\n",
            "(MLPClassifier(hidden_layer_sizes=(200, 200, 200)), 0.006029462199967384)\n",
            "(MLPClassifier(hidden_layer_sizes=(300, 300, 300)), 0.018406231799963278)\n",
            "(MLPClassifier(hidden_layer_sizes=(100, 100, 100, 100)), 0.004093362900130159)\n",
            "(MLPClassifier(hidden_layer_sizes=(200, 200, 200, 200)), 0.007098083399887401)\n",
            "(MLPClassifier(hidden_layer_sizes=(300, 300, 300, 300)), 0.012594786700265103)\n",
            "(MLPClassifier(hidden_layer_sizes=(100, 100, 100, 100, 100)), 0.0044156265001220165)\n",
            "(MLPClassifier(hidden_layer_sizes=(200, 200, 200, 200, 200)), 0.008633013899907383)\n",
            "(MLPClassifier(hidden_layer_sizes=(300, 300, 300, 300, 300)), 0.0282004009000957)\n"
          ]
        }
      ],
      "source": [
        "\n",
        "for layer in layer_list:\n",
        "  mlp = MLPClassifier(hidden_layer_sizes=layer, activation=\"relu\")\n",
        "  mlp.fit(X_train, y_train)\n",
        "  print(get_prediction_duration(mlp))"
      ]
    },
    {
      "cell_type": "markdown",
      "metadata": {
        "id": "aJ-IEtPA9O1C"
      },
      "source": [
        "### 9) Experiment 2A: Using Behavioural Features - CV accuracy and recall scores, prediction duration, memory usage"
      ]
    },
    {
      "cell_type": "markdown",
      "metadata": {
        "id": "uvG7ZZXEgDgo"
      },
      "source": [
        "Use behavior related features as SMEs may not have the time and resources to obtain all features"
      ]
    },
    {
      "cell_type": "code",
      "execution_count": null,
      "metadata": {
        "id": "C2YMnge1QI0H"
      },
      "outputs": [],
      "source": [
        "# select behavioural features\n",
        "behaviour_features = df[['beh_command_line','process_path','tree_command_line','children','tree_process_name','command_line','regkey_read','directory_enumerated','regkey_opened','file_created','wmi_query','dll_loaded','regkey_written','file_read']]"
      ]
    },
    {
      "cell_type": "code",
      "execution_count": null,
      "metadata": {
        "id": "QkwQTNa_Tc9u"
      },
      "outputs": [],
      "source": [
        "# set the predictors and target variable\n",
        "y = df['family']\n",
        "X = behaviour_features"
      ]
    },
    {
      "cell_type": "code",
      "execution_count": null,
      "metadata": {
        "id": "YYkvlYX8nc56"
      },
      "outputs": [],
      "source": [
        "# split into training and testing data\n",
        "X_train, X_test, y_train, y_test = train_test_split(X, y, test_size = 0.2, random_state = 42)"
      ]
    },
    {
      "cell_type": "code",
      "execution_count": null,
      "metadata": {
        "colab": {
          "base_uri": "https://localhost:8080/"
        },
        "id": "UAM__dOBnLqu",
        "outputId": "09aedd88-b496-4d40-be29-082fa79a519a"
      },
      "outputs": [
        {
          "name": "stderr",
          "output_type": "stream",
          "text": [
            "/usr/local/lib/python3.10/dist-packages/sklearn/linear_model/_logistic.py:458: ConvergenceWarning: lbfgs failed to converge (status=1):\n",
            "STOP: TOTAL NO. of ITERATIONS REACHED LIMIT.\n",
            "\n",
            "Increase the number of iterations (max_iter) or scale the data as shown in:\n",
            "    https://scikit-learn.org/stable/modules/preprocessing.html\n",
            "Please also refer to the documentation for alternative solver options:\n",
            "    https://scikit-learn.org/stable/modules/linear_model.html#logistic-regression\n",
            "  n_iter_i = _check_optimize_result(\n",
            "/usr/local/lib/python3.10/dist-packages/sklearn/linear_model/_logistic.py:458: ConvergenceWarning: lbfgs failed to converge (status=1):\n",
            "STOP: TOTAL NO. of ITERATIONS REACHED LIMIT.\n",
            "\n",
            "Increase the number of iterations (max_iter) or scale the data as shown in:\n",
            "    https://scikit-learn.org/stable/modules/preprocessing.html\n",
            "Please also refer to the documentation for alternative solver options:\n",
            "    https://scikit-learn.org/stable/modules/linear_model.html#logistic-regression\n",
            "  n_iter_i = _check_optimize_result(\n",
            "/usr/local/lib/python3.10/dist-packages/sklearn/linear_model/_logistic.py:458: ConvergenceWarning: lbfgs failed to converge (status=1):\n",
            "STOP: TOTAL NO. of ITERATIONS REACHED LIMIT.\n",
            "\n",
            "Increase the number of iterations (max_iter) or scale the data as shown in:\n",
            "    https://scikit-learn.org/stable/modules/preprocessing.html\n",
            "Please also refer to the documentation for alternative solver options:\n",
            "    https://scikit-learn.org/stable/modules/linear_model.html#logistic-regression\n",
            "  n_iter_i = _check_optimize_result(\n",
            "/usr/local/lib/python3.10/dist-packages/sklearn/linear_model/_logistic.py:458: ConvergenceWarning: lbfgs failed to converge (status=1):\n",
            "STOP: TOTAL NO. of ITERATIONS REACHED LIMIT.\n",
            "\n",
            "Increase the number of iterations (max_iter) or scale the data as shown in:\n",
            "    https://scikit-learn.org/stable/modules/preprocessing.html\n",
            "Please also refer to the documentation for alternative solver options:\n",
            "    https://scikit-learn.org/stable/modules/linear_model.html#logistic-regression\n",
            "  n_iter_i = _check_optimize_result(\n",
            "/usr/local/lib/python3.10/dist-packages/sklearn/linear_model/_logistic.py:458: ConvergenceWarning: lbfgs failed to converge (status=1):\n",
            "STOP: TOTAL NO. of ITERATIONS REACHED LIMIT.\n",
            "\n",
            "Increase the number of iterations (max_iter) or scale the data as shown in:\n",
            "    https://scikit-learn.org/stable/modules/preprocessing.html\n",
            "Please also refer to the documentation for alternative solver options:\n",
            "    https://scikit-learn.org/stable/modules/linear_model.html#logistic-regression\n",
            "  n_iter_i = _check_optimize_result(\n",
            "/usr/local/lib/python3.10/dist-packages/sklearn/linear_model/_logistic.py:458: ConvergenceWarning: lbfgs failed to converge (status=1):\n",
            "STOP: TOTAL NO. of ITERATIONS REACHED LIMIT.\n",
            "\n",
            "Increase the number of iterations (max_iter) or scale the data as shown in:\n",
            "    https://scikit-learn.org/stable/modules/preprocessing.html\n",
            "Please also refer to the documentation for alternative solver options:\n",
            "    https://scikit-learn.org/stable/modules/linear_model.html#logistic-regression\n",
            "  n_iter_i = _check_optimize_result(\n",
            "/usr/local/lib/python3.10/dist-packages/sklearn/linear_model/_logistic.py:458: ConvergenceWarning: lbfgs failed to converge (status=1):\n",
            "STOP: TOTAL NO. of ITERATIONS REACHED LIMIT.\n",
            "\n",
            "Increase the number of iterations (max_iter) or scale the data as shown in:\n",
            "    https://scikit-learn.org/stable/modules/preprocessing.html\n",
            "Please also refer to the documentation for alternative solver options:\n",
            "    https://scikit-learn.org/stable/modules/linear_model.html#logistic-regression\n",
            "  n_iter_i = _check_optimize_result(\n",
            "/usr/local/lib/python3.10/dist-packages/sklearn/linear_model/_logistic.py:458: ConvergenceWarning: lbfgs failed to converge (status=1):\n",
            "STOP: TOTAL NO. of ITERATIONS REACHED LIMIT.\n",
            "\n",
            "Increase the number of iterations (max_iter) or scale the data as shown in:\n",
            "    https://scikit-learn.org/stable/modules/preprocessing.html\n",
            "Please also refer to the documentation for alternative solver options:\n",
            "    https://scikit-learn.org/stable/modules/linear_model.html#logistic-regression\n",
            "  n_iter_i = _check_optimize_result(\n",
            "/usr/local/lib/python3.10/dist-packages/sklearn/linear_model/_logistic.py:458: ConvergenceWarning: lbfgs failed to converge (status=1):\n",
            "STOP: TOTAL NO. of ITERATIONS REACHED LIMIT.\n",
            "\n",
            "Increase the number of iterations (max_iter) or scale the data as shown in:\n",
            "    https://scikit-learn.org/stable/modules/preprocessing.html\n",
            "Please also refer to the documentation for alternative solver options:\n",
            "    https://scikit-learn.org/stable/modules/linear_model.html#logistic-regression\n",
            "  n_iter_i = _check_optimize_result(\n",
            "/usr/local/lib/python3.10/dist-packages/sklearn/linear_model/_logistic.py:458: ConvergenceWarning: lbfgs failed to converge (status=1):\n",
            "STOP: TOTAL NO. of ITERATIONS REACHED LIMIT.\n",
            "\n",
            "Increase the number of iterations (max_iter) or scale the data as shown in:\n",
            "    https://scikit-learn.org/stable/modules/preprocessing.html\n",
            "Please also refer to the documentation for alternative solver options:\n",
            "    https://scikit-learn.org/stable/modules/linear_model.html#logistic-regression\n",
            "  n_iter_i = _check_optimize_result(\n"
          ]
        }
      ],
      "source": [
        "cv_score_dict = {}\n",
        "for model in models_list:\n",
        "\n",
        "  model_name = str(model)\n",
        "  model_name = re.sub(\"\\(.*?\\)\",\"()\",model_name)\n",
        "  cv_score_dict[model_name] = get_cross_val_score(model)\n"
      ]
    },
    {
      "cell_type": "markdown",
      "metadata": {
        "id": "xWsHYEplnLqv"
      },
      "source": [
        "Obtaining 10-fold Accuracy Scores"
      ]
    },
    {
      "cell_type": "code",
      "execution_count": null,
      "metadata": {
        "colab": {
          "base_uri": "https://localhost:8080/"
        },
        "id": "Fbrm3ZCnnLqv",
        "outputId": "5baba181-a8c7-4baa-f3e9-c008bb308d6b"
      },
      "outputs": [
        {
          "data": {
            "text/plain": [
              "{'KNeighborsClassifier()': 94.55,\n",
              " 'LogisticRegression()': 72.75,\n",
              " 'GaussianNB()': 55.699999999999996,\n",
              " 'SVC()': 66.85000000000001,\n",
              " 'RandomForestClassifier()': 94.7,\n",
              " 'GradientBoostingClassifier()': 94.7,\n",
              " 'MLPClassifier())': 89.1}"
            ]
          },
          "execution_count": 99,
          "metadata": {},
          "output_type": "execute_result"
        }
      ],
      "source": [
        "cv_score_dict"
      ]
    },
    {
      "cell_type": "markdown",
      "metadata": {
        "id": "rjh1auLznLqv"
      },
      "source": [
        "Obtaining classification report"
      ]
    },
    {
      "cell_type": "code",
      "execution_count": null,
      "metadata": {
        "colab": {
          "base_uri": "https://localhost:8080/"
        },
        "id": "YTaJEgX6nLqv",
        "outputId": "2fe4663a-c5d3-4afb-c529-f069e84e7a61"
      },
      "outputs": [
        {
          "name": "stdout",
          "output_type": "stream",
          "text": [
            "ACC Score for KNeighborsClassifier(): 95.75 %\n",
            "                      precision    recall  f1-score   support\n",
            "\n",
            "Encryptor Ransomware       0.96      0.93      0.95       164\n",
            "            Goodware       0.95      1.00      0.97       201\n",
            "   Locker Ransomware       1.00      0.86      0.92        35\n",
            "\n",
            "            accuracy                           0.96       400\n",
            "           macro avg       0.97      0.93      0.95       400\n",
            "        weighted avg       0.96      0.96      0.96       400\n",
            "\n",
            "---------------------------------------------------------------------\n",
            "ACC Score for LogisticRegression(): 74.75 %\n",
            "                      precision    recall  f1-score   support\n",
            "\n",
            "Encryptor Ransomware       0.95      0.58      0.72       164\n",
            "            Goodware       0.68      1.00      0.80       201\n",
            "   Locker Ransomware       1.00      0.11      0.21        35\n",
            "\n",
            "            accuracy                           0.75       400\n",
            "           macro avg       0.88      0.56      0.58       400\n",
            "        weighted avg       0.82      0.75      0.72       400\n",
            "\n",
            "---------------------------------------------------------------------\n",
            "ACC Score for GaussianNB(): 63.74999999999999 %\n"
          ]
        },
        {
          "name": "stderr",
          "output_type": "stream",
          "text": [
            "/usr/local/lib/python3.10/dist-packages/sklearn/linear_model/_logistic.py:458: ConvergenceWarning: lbfgs failed to converge (status=1):\n",
            "STOP: TOTAL NO. of ITERATIONS REACHED LIMIT.\n",
            "\n",
            "Increase the number of iterations (max_iter) or scale the data as shown in:\n",
            "    https://scikit-learn.org/stable/modules/preprocessing.html\n",
            "Please also refer to the documentation for alternative solver options:\n",
            "    https://scikit-learn.org/stable/modules/linear_model.html#logistic-regression\n",
            "  n_iter_i = _check_optimize_result(\n"
          ]
        },
        {
          "name": "stdout",
          "output_type": "stream",
          "text": [
            "                      precision    recall  f1-score   support\n",
            "\n",
            "Encryptor Ransomware       0.90      0.51      0.65       164\n",
            "            Goodware       0.87      0.68      0.76       201\n",
            "   Locker Ransomware       0.23      1.00      0.38        35\n",
            "\n",
            "            accuracy                           0.64       400\n",
            "           macro avg       0.67      0.73      0.60       400\n",
            "        weighted avg       0.83      0.64      0.68       400\n",
            "\n",
            "---------------------------------------------------------------------\n",
            "ACC Score for SVC(): 69.0 %\n",
            "                      precision    recall  f1-score   support\n",
            "\n",
            "Encryptor Ransomware       1.00      0.43      0.60       164\n",
            "            Goodware       0.62      1.00      0.76       201\n",
            "   Locker Ransomware       1.00      0.11      0.21        35\n",
            "\n",
            "            accuracy                           0.69       400\n",
            "           macro avg       0.87      0.52      0.52       400\n",
            "        weighted avg       0.81      0.69      0.65       400\n",
            "\n",
            "---------------------------------------------------------------------\n",
            "ACC Score for RandomForestClassifier(): 96.75 %\n",
            "                      precision    recall  f1-score   support\n",
            "\n",
            "Encryptor Ransomware       0.96      0.96      0.96       164\n",
            "            Goodware       0.97      1.00      0.98       201\n",
            "   Locker Ransomware       1.00      0.86      0.92        35\n",
            "\n",
            "            accuracy                           0.97       400\n",
            "           macro avg       0.98      0.94      0.95       400\n",
            "        weighted avg       0.97      0.97      0.97       400\n",
            "\n",
            "---------------------------------------------------------------------\n",
            "ACC Score for GradientBoostingClassifier(): 96.75 %\n",
            "                      precision    recall  f1-score   support\n",
            "\n",
            "Encryptor Ransomware       0.96      0.96      0.96       164\n",
            "            Goodware       0.97      1.00      0.98       201\n",
            "   Locker Ransomware       1.00      0.86      0.92        35\n",
            "\n",
            "            accuracy                           0.97       400\n",
            "           macro avg       0.98      0.94      0.95       400\n",
            "        weighted avg       0.97      0.97      0.97       400\n",
            "\n",
            "---------------------------------------------------------------------\n",
            "ACC Score for MLPClassifier(hidden_layer_sizes=(100, 100, 100)): 93.5 %\n",
            "                      precision    recall  f1-score   support\n",
            "\n",
            "Encryptor Ransomware       0.96      0.88      0.92       164\n",
            "            Goodware       0.93      1.00      0.96       201\n",
            "   Locker Ransomware       0.86      0.86      0.86        35\n",
            "\n",
            "            accuracy                           0.94       400\n",
            "           macro avg       0.92      0.91      0.91       400\n",
            "        weighted avg       0.94      0.94      0.93       400\n",
            "\n",
            "---------------------------------------------------------------------\n"
          ]
        }
      ],
      "source": [
        "trained_model_list = []\n",
        "for model in models_list:\n",
        "  trained_model_list.append(predict(model))\n",
        "  print('---------------------------------------------------------------------')"
      ]
    },
    {
      "cell_type": "markdown",
      "metadata": {
        "id": "65KKFSYQnLqv"
      },
      "source": [
        "Measuring Prediction Duration"
      ]
    },
    {
      "cell_type": "code",
      "execution_count": null,
      "metadata": {
        "id": "3yoqkgCNnLqv"
      },
      "outputs": [],
      "source": [
        "duration_dict = {}\n",
        "\n",
        "for model in trained_model_list:\n",
        "  model, average_duration = get_prediction_duration(model)\n",
        "  duration_dict[model] = average_duration"
      ]
    },
    {
      "cell_type": "code",
      "execution_count": null,
      "metadata": {
        "colab": {
          "base_uri": "https://localhost:8080/"
        },
        "id": "4Apm7EAInLqv",
        "outputId": "3ab39bd7-b4a2-4192-f17c-dd763219f716"
      },
      "outputs": [
        {
          "data": {
            "text/plain": [
              "{KNeighborsClassifier(): 0.027788298500126984,\n",
              " LogisticRegression(): 0.0014290766999693004,\n",
              " GaussianNB(): 0.0012253105003765085,\n",
              " SVC(): 0.028195159800270632,\n",
              " RandomForestClassifier(): 0.011819528300475213,\n",
              " GradientBoostingClassifier(): 0.004088375200080918,\n",
              " MLPClassifier(hidden_layer_sizes=(100, 100, 100)): 0.0028369933999783823}"
            ]
          },
          "execution_count": 102,
          "metadata": {},
          "output_type": "execute_result"
        }
      ],
      "source": [
        "duration_dict"
      ]
    },
    {
      "cell_type": "markdown",
      "metadata": {
        "id": "i7Gfo8qq9XNA"
      },
      "source": [
        "[link text](https://)### 10) Experiment 2C: Feature Reduction Using Sequential Feature Selection"
      ]
    },
    {
      "cell_type": "code",
      "execution_count": null,
      "metadata": {
        "id": "6awQ2f46xUXP"
      },
      "outputs": [],
      "source": [
        "from mlxtend.feature_selection import SequentialFeatureSelector as SFS"
      ]
    },
    {
      "cell_type": "code",
      "execution_count": null,
      "metadata": {
        "id": "cbipBl9jxhh2"
      },
      "outputs": [],
      "source": [
        "from sklearn.preprocessing import StandardScaler\n",
        "X_train, X_test, y_train, y_test = train_test_split(X, y, test_size = 0.2, random_state = 42)\n",
        "sc = StandardScaler()\n",
        "X_train_std = sc.fit_transform(X_train)\n",
        "X_test_std = sc.transform(X_test)"
      ]
    },
    {
      "cell_type": "code",
      "execution_count": null,
      "metadata": {
        "id": "4jUDoiq-ibju"
      },
      "outputs": [],
      "source": [
        "model = RandomForestClassifier(n_estimators=4)\n",
        "sfs = SFS(model,\n",
        "         k_features=10,\n",
        "         forward=True,\n",
        "         floating=False,\n",
        "         scoring='accuracy',\n",
        "         cv=10)\n",
        "sfs = sfs.fit(X_train_std,y_train)"
      ]
    },
    {
      "cell_type": "code",
      "execution_count": null,
      "metadata": {
        "colab": {
          "base_uri": "https://localhost:8080/"
        },
        "id": "YMYak2VrieQi",
        "outputId": "57711c48-af54-4fbf-f4e4-bf1018b7a7d4"
      },
      "outputs": [
        {
          "name": "stdout",
          "output_type": "stream",
          "text": [
            "Training accuracy: 94.625\n",
            "Test accuracy: 96.5\n"
          ]
        }
      ],
      "source": [
        "X_train_sele = sfs.transform(X_train_std)\n",
        "X_test_sele = sfs.transform(X_test_std)\n",
        "\n",
        "model.fit(X_train_sele, y_train)\n",
        "print('Training accuracy:', np.mean(model.predict(X_train_sele) == y_train)*100)\n",
        "print('Test accuracy:', np.mean(model.predict(X_test_sele) == y_test)*100)"
      ]
    },
    {
      "cell_type": "code",
      "execution_count": null,
      "metadata": {
        "id": "e9tra1NzijK6"
      },
      "outputs": [],
      "source": [
        "metric_dict = sfs.get_metric_dict(confidence_interval=0.95)"
      ]
    },
    {
      "cell_type": "code",
      "execution_count": null,
      "metadata": {
        "colab": {
          "base_uri": "https://localhost:8080/"
        },
        "id": "R5CRwgmSOciB",
        "outputId": "b0b1cd72-1727-4296-b0a4-fb40dea9bb2b"
      },
      "outputs": [
        {
          "data": {
            "text/plain": [
              "(2000, 14)"
            ]
          },
          "execution_count": 122,
          "metadata": {},
          "output_type": "execute_result"
        }
      ],
      "source": [
        "X.shape"
      ]
    },
    {
      "cell_type": "code",
      "execution_count": null,
      "metadata": {
        "colab": {
          "base_uri": "https://localhost:8080/",
          "height": 443
        },
        "id": "ym5K9KydOekZ",
        "outputId": "7fb14b36-6e49-4f77-939c-f7803d8aeaa7"
      },
      "outputs": [
        {
          "data": {
            "text/html": [
              "\n",
              "  <div id=\"df-121e30ac-e6ff-4b0c-980d-983eeaaa4b6b\" class=\"colab-df-container\">\n",
              "    <div>\n",
              "<style scoped>\n",
              "    .dataframe tbody tr th:only-of-type {\n",
              "        vertical-align: middle;\n",
              "    }\n",
              "\n",
              "    .dataframe tbody tr th {\n",
              "        vertical-align: top;\n",
              "    }\n",
              "\n",
              "    .dataframe thead th {\n",
              "        text-align: right;\n",
              "    }\n",
              "</style>\n",
              "<table border=\"1\" class=\"dataframe\">\n",
              "  <thead>\n",
              "    <tr style=\"text-align: right;\">\n",
              "      <th></th>\n",
              "      <th>beh_command_line</th>\n",
              "      <th>process_path</th>\n",
              "      <th>tree_command_line</th>\n",
              "      <th>children</th>\n",
              "      <th>tree_process_name</th>\n",
              "      <th>command_line</th>\n",
              "      <th>regkey_read</th>\n",
              "      <th>directory_enumerated</th>\n",
              "      <th>regkey_opened</th>\n",
              "      <th>file_created</th>\n",
              "      <th>wmi_query</th>\n",
              "      <th>dll_loaded</th>\n",
              "      <th>regkey_written</th>\n",
              "      <th>file_read</th>\n",
              "    </tr>\n",
              "  </thead>\n",
              "  <tbody>\n",
              "    <tr>\n",
              "      <th>0</th>\n",
              "      <td>3</td>\n",
              "      <td>3</td>\n",
              "      <td>3</td>\n",
              "      <td>0</td>\n",
              "      <td>3</td>\n",
              "      <td>0</td>\n",
              "      <td>11</td>\n",
              "      <td>5</td>\n",
              "      <td>0</td>\n",
              "      <td>0</td>\n",
              "      <td>0</td>\n",
              "      <td>0</td>\n",
              "      <td>0</td>\n",
              "      <td>0</td>\n",
              "    </tr>\n",
              "    <tr>\n",
              "      <th>1</th>\n",
              "      <td>2</td>\n",
              "      <td>2</td>\n",
              "      <td>2</td>\n",
              "      <td>0</td>\n",
              "      <td>2</td>\n",
              "      <td>0</td>\n",
              "      <td>1</td>\n",
              "      <td>0</td>\n",
              "      <td>0</td>\n",
              "      <td>0</td>\n",
              "      <td>0</td>\n",
              "      <td>0</td>\n",
              "      <td>0</td>\n",
              "      <td>0</td>\n",
              "    </tr>\n",
              "    <tr>\n",
              "      <th>2</th>\n",
              "      <td>2</td>\n",
              "      <td>2</td>\n",
              "      <td>2</td>\n",
              "      <td>0</td>\n",
              "      <td>2</td>\n",
              "      <td>0</td>\n",
              "      <td>0</td>\n",
              "      <td>0</td>\n",
              "      <td>0</td>\n",
              "      <td>0</td>\n",
              "      <td>0</td>\n",
              "      <td>0</td>\n",
              "      <td>0</td>\n",
              "      <td>0</td>\n",
              "    </tr>\n",
              "    <tr>\n",
              "      <th>3</th>\n",
              "      <td>1</td>\n",
              "      <td>1</td>\n",
              "      <td>1</td>\n",
              "      <td>0</td>\n",
              "      <td>1</td>\n",
              "      <td>1</td>\n",
              "      <td>66</td>\n",
              "      <td>0</td>\n",
              "      <td>0</td>\n",
              "      <td>1</td>\n",
              "      <td>0</td>\n",
              "      <td>7</td>\n",
              "      <td>0</td>\n",
              "      <td>0</td>\n",
              "    </tr>\n",
              "    <tr>\n",
              "      <th>4</th>\n",
              "      <td>2</td>\n",
              "      <td>2</td>\n",
              "      <td>2</td>\n",
              "      <td>0</td>\n",
              "      <td>2</td>\n",
              "      <td>0</td>\n",
              "      <td>11</td>\n",
              "      <td>0</td>\n",
              "      <td>27</td>\n",
              "      <td>0</td>\n",
              "      <td>0</td>\n",
              "      <td>6</td>\n",
              "      <td>0</td>\n",
              "      <td>0</td>\n",
              "    </tr>\n",
              "    <tr>\n",
              "      <th>...</th>\n",
              "      <td>...</td>\n",
              "      <td>...</td>\n",
              "      <td>...</td>\n",
              "      <td>...</td>\n",
              "      <td>...</td>\n",
              "      <td>...</td>\n",
              "      <td>...</td>\n",
              "      <td>...</td>\n",
              "      <td>...</td>\n",
              "      <td>...</td>\n",
              "      <td>...</td>\n",
              "      <td>...</td>\n",
              "      <td>...</td>\n",
              "      <td>...</td>\n",
              "    </tr>\n",
              "    <tr>\n",
              "      <th>1995</th>\n",
              "      <td>2</td>\n",
              "      <td>2</td>\n",
              "      <td>2</td>\n",
              "      <td>0</td>\n",
              "      <td>2</td>\n",
              "      <td>0</td>\n",
              "      <td>0</td>\n",
              "      <td>0</td>\n",
              "      <td>0</td>\n",
              "      <td>0</td>\n",
              "      <td>0</td>\n",
              "      <td>3</td>\n",
              "      <td>0</td>\n",
              "      <td>1</td>\n",
              "    </tr>\n",
              "    <tr>\n",
              "      <th>1996</th>\n",
              "      <td>6</td>\n",
              "      <td>6</td>\n",
              "      <td>3</td>\n",
              "      <td>1</td>\n",
              "      <td>3</td>\n",
              "      <td>5</td>\n",
              "      <td>31</td>\n",
              "      <td>9</td>\n",
              "      <td>8</td>\n",
              "      <td>1</td>\n",
              "      <td>0</td>\n",
              "      <td>15</td>\n",
              "      <td>1</td>\n",
              "      <td>0</td>\n",
              "    </tr>\n",
              "    <tr>\n",
              "      <th>1997</th>\n",
              "      <td>1</td>\n",
              "      <td>1</td>\n",
              "      <td>1</td>\n",
              "      <td>0</td>\n",
              "      <td>1</td>\n",
              "      <td>0</td>\n",
              "      <td>0</td>\n",
              "      <td>0</td>\n",
              "      <td>0</td>\n",
              "      <td>0</td>\n",
              "      <td>0</td>\n",
              "      <td>0</td>\n",
              "      <td>0</td>\n",
              "      <td>0</td>\n",
              "    </tr>\n",
              "    <tr>\n",
              "      <th>1998</th>\n",
              "      <td>2</td>\n",
              "      <td>2</td>\n",
              "      <td>2</td>\n",
              "      <td>0</td>\n",
              "      <td>2</td>\n",
              "      <td>0</td>\n",
              "      <td>18</td>\n",
              "      <td>0</td>\n",
              "      <td>0</td>\n",
              "      <td>0</td>\n",
              "      <td>0</td>\n",
              "      <td>2</td>\n",
              "      <td>3</td>\n",
              "      <td>0</td>\n",
              "    </tr>\n",
              "    <tr>\n",
              "      <th>1999</th>\n",
              "      <td>5</td>\n",
              "      <td>5</td>\n",
              "      <td>2</td>\n",
              "      <td>2</td>\n",
              "      <td>2</td>\n",
              "      <td>4</td>\n",
              "      <td>94</td>\n",
              "      <td>29</td>\n",
              "      <td>25</td>\n",
              "      <td>1</td>\n",
              "      <td>1</td>\n",
              "      <td>13</td>\n",
              "      <td>2</td>\n",
              "      <td>2</td>\n",
              "    </tr>\n",
              "  </tbody>\n",
              "</table>\n",
              "<p>2000 rows × 14 columns</p>\n",
              "</div>\n",
              "    <div class=\"colab-df-buttons\">\n",
              "\n",
              "  <div class=\"colab-df-container\">\n",
              "    <button class=\"colab-df-convert\" onclick=\"convertToInteractive('df-121e30ac-e6ff-4b0c-980d-983eeaaa4b6b')\"\n",
              "            title=\"Convert this dataframe to an interactive table.\"\n",
              "            style=\"display:none;\">\n",
              "\n",
              "  <svg xmlns=\"http://www.w3.org/2000/svg\" height=\"24px\" viewBox=\"0 -960 960 960\">\n",
              "    <path d=\"M120-120v-720h720v720H120Zm60-500h600v-160H180v160Zm220 220h160v-160H400v160Zm0 220h160v-160H400v160ZM180-400h160v-160H180v160Zm440 0h160v-160H620v160ZM180-180h160v-160H180v160Zm440 0h160v-160H620v160Z\"/>\n",
              "  </svg>\n",
              "    </button>\n",
              "\n",
              "  <style>\n",
              "    .colab-df-container {\n",
              "      display:flex;\n",
              "      gap: 12px;\n",
              "    }\n",
              "\n",
              "    .colab-df-convert {\n",
              "      background-color: #E8F0FE;\n",
              "      border: none;\n",
              "      border-radius: 50%;\n",
              "      cursor: pointer;\n",
              "      display: none;\n",
              "      fill: #1967D2;\n",
              "      height: 32px;\n",
              "      padding: 0 0 0 0;\n",
              "      width: 32px;\n",
              "    }\n",
              "\n",
              "    .colab-df-convert:hover {\n",
              "      background-color: #E2EBFA;\n",
              "      box-shadow: 0px 1px 2px rgba(60, 64, 67, 0.3), 0px 1px 3px 1px rgba(60, 64, 67, 0.15);\n",
              "      fill: #174EA6;\n",
              "    }\n",
              "\n",
              "    .colab-df-buttons div {\n",
              "      margin-bottom: 4px;\n",
              "    }\n",
              "\n",
              "    [theme=dark] .colab-df-convert {\n",
              "      background-color: #3B4455;\n",
              "      fill: #D2E3FC;\n",
              "    }\n",
              "\n",
              "    [theme=dark] .colab-df-convert:hover {\n",
              "      background-color: #434B5C;\n",
              "      box-shadow: 0px 1px 3px 1px rgba(0, 0, 0, 0.15);\n",
              "      filter: drop-shadow(0px 1px 2px rgba(0, 0, 0, 0.3));\n",
              "      fill: #FFFFFF;\n",
              "    }\n",
              "  </style>\n",
              "\n",
              "    <script>\n",
              "      const buttonEl =\n",
              "        document.querySelector('#df-121e30ac-e6ff-4b0c-980d-983eeaaa4b6b button.colab-df-convert');\n",
              "      buttonEl.style.display =\n",
              "        google.colab.kernel.accessAllowed ? 'block' : 'none';\n",
              "\n",
              "      async function convertToInteractive(key) {\n",
              "        const element = document.querySelector('#df-121e30ac-e6ff-4b0c-980d-983eeaaa4b6b');\n",
              "        const dataTable =\n",
              "          await google.colab.kernel.invokeFunction('convertToInteractive',\n",
              "                                                    [key], {});\n",
              "        if (!dataTable) return;\n",
              "\n",
              "        const docLinkHtml = 'Like what you see? Visit the ' +\n",
              "          '<a target=\"_blank\" href=https://colab.research.google.com/notebooks/data_table.ipynb>data table notebook</a>'\n",
              "          + ' to learn more about interactive tables.';\n",
              "        element.innerHTML = '';\n",
              "        dataTable['output_type'] = 'display_data';\n",
              "        await google.colab.output.renderOutput(dataTable, element);\n",
              "        const docLink = document.createElement('div');\n",
              "        docLink.innerHTML = docLinkHtml;\n",
              "        element.appendChild(docLink);\n",
              "      }\n",
              "    </script>\n",
              "  </div>\n",
              "\n",
              "\n",
              "<div id=\"df-9eb4527c-7d87-4d08-937a-5e3ac6d002e8\">\n",
              "  <button class=\"colab-df-quickchart\" onclick=\"quickchart('df-9eb4527c-7d87-4d08-937a-5e3ac6d002e8')\"\n",
              "            title=\"Suggest charts\"\n",
              "            style=\"display:none;\">\n",
              "\n",
              "<svg xmlns=\"http://www.w3.org/2000/svg\" height=\"24px\"viewBox=\"0 0 24 24\"\n",
              "     width=\"24px\">\n",
              "    <g>\n",
              "        <path d=\"M19 3H5c-1.1 0-2 .9-2 2v14c0 1.1.9 2 2 2h14c1.1 0 2-.9 2-2V5c0-1.1-.9-2-2-2zM9 17H7v-7h2v7zm4 0h-2V7h2v10zm4 0h-2v-4h2v4z\"/>\n",
              "    </g>\n",
              "</svg>\n",
              "  </button>\n",
              "\n",
              "<style>\n",
              "  .colab-df-quickchart {\n",
              "      --bg-color: #E8F0FE;\n",
              "      --fill-color: #1967D2;\n",
              "      --hover-bg-color: #E2EBFA;\n",
              "      --hover-fill-color: #174EA6;\n",
              "      --disabled-fill-color: #AAA;\n",
              "      --disabled-bg-color: #DDD;\n",
              "  }\n",
              "\n",
              "  [theme=dark] .colab-df-quickchart {\n",
              "      --bg-color: #3B4455;\n",
              "      --fill-color: #D2E3FC;\n",
              "      --hover-bg-color: #434B5C;\n",
              "      --hover-fill-color: #FFFFFF;\n",
              "      --disabled-bg-color: #3B4455;\n",
              "      --disabled-fill-color: #666;\n",
              "  }\n",
              "\n",
              "  .colab-df-quickchart {\n",
              "    background-color: var(--bg-color);\n",
              "    border: none;\n",
              "    border-radius: 50%;\n",
              "    cursor: pointer;\n",
              "    display: none;\n",
              "    fill: var(--fill-color);\n",
              "    height: 32px;\n",
              "    padding: 0;\n",
              "    width: 32px;\n",
              "  }\n",
              "\n",
              "  .colab-df-quickchart:hover {\n",
              "    background-color: var(--hover-bg-color);\n",
              "    box-shadow: 0 1px 2px rgba(60, 64, 67, 0.3), 0 1px 3px 1px rgba(60, 64, 67, 0.15);\n",
              "    fill: var(--button-hover-fill-color);\n",
              "  }\n",
              "\n",
              "  .colab-df-quickchart-complete:disabled,\n",
              "  .colab-df-quickchart-complete:disabled:hover {\n",
              "    background-color: var(--disabled-bg-color);\n",
              "    fill: var(--disabled-fill-color);\n",
              "    box-shadow: none;\n",
              "  }\n",
              "\n",
              "  .colab-df-spinner {\n",
              "    border: 2px solid var(--fill-color);\n",
              "    border-color: transparent;\n",
              "    border-bottom-color: var(--fill-color);\n",
              "    animation:\n",
              "      spin 1s steps(1) infinite;\n",
              "  }\n",
              "\n",
              "  @keyframes spin {\n",
              "    0% {\n",
              "      border-color: transparent;\n",
              "      border-bottom-color: var(--fill-color);\n",
              "      border-left-color: var(--fill-color);\n",
              "    }\n",
              "    20% {\n",
              "      border-color: transparent;\n",
              "      border-left-color: var(--fill-color);\n",
              "      border-top-color: var(--fill-color);\n",
              "    }\n",
              "    30% {\n",
              "      border-color: transparent;\n",
              "      border-left-color: var(--fill-color);\n",
              "      border-top-color: var(--fill-color);\n",
              "      border-right-color: var(--fill-color);\n",
              "    }\n",
              "    40% {\n",
              "      border-color: transparent;\n",
              "      border-right-color: var(--fill-color);\n",
              "      border-top-color: var(--fill-color);\n",
              "    }\n",
              "    60% {\n",
              "      border-color: transparent;\n",
              "      border-right-color: var(--fill-color);\n",
              "    }\n",
              "    80% {\n",
              "      border-color: transparent;\n",
              "      border-right-color: var(--fill-color);\n",
              "      border-bottom-color: var(--fill-color);\n",
              "    }\n",
              "    90% {\n",
              "      border-color: transparent;\n",
              "      border-bottom-color: var(--fill-color);\n",
              "    }\n",
              "  }\n",
              "</style>\n",
              "\n",
              "  <script>\n",
              "    async function quickchart(key) {\n",
              "      const quickchartButtonEl =\n",
              "        document.querySelector('#' + key + ' button');\n",
              "      quickchartButtonEl.disabled = true;  // To prevent multiple clicks.\n",
              "      quickchartButtonEl.classList.add('colab-df-spinner');\n",
              "      try {\n",
              "        const charts = await google.colab.kernel.invokeFunction(\n",
              "            'suggestCharts', [key], {});\n",
              "      } catch (error) {\n",
              "        console.error('Error during call to suggestCharts:', error);\n",
              "      }\n",
              "      quickchartButtonEl.classList.remove('colab-df-spinner');\n",
              "      quickchartButtonEl.classList.add('colab-df-quickchart-complete');\n",
              "    }\n",
              "    (() => {\n",
              "      let quickchartButtonEl =\n",
              "        document.querySelector('#df-9eb4527c-7d87-4d08-937a-5e3ac6d002e8 button');\n",
              "      quickchartButtonEl.style.display =\n",
              "        google.colab.kernel.accessAllowed ? 'block' : 'none';\n",
              "    })();\n",
              "  </script>\n",
              "</div>\n",
              "    </div>\n",
              "  </div>\n"
            ],
            "text/plain": [
              "      beh_command_line  process_path  tree_command_line  children  \\\n",
              "0                    3             3                  3         0   \n",
              "1                    2             2                  2         0   \n",
              "2                    2             2                  2         0   \n",
              "3                    1             1                  1         0   \n",
              "4                    2             2                  2         0   \n",
              "...                ...           ...                ...       ...   \n",
              "1995                 2             2                  2         0   \n",
              "1996                 6             6                  3         1   \n",
              "1997                 1             1                  1         0   \n",
              "1998                 2             2                  2         0   \n",
              "1999                 5             5                  2         2   \n",
              "\n",
              "      tree_process_name  command_line  regkey_read  directory_enumerated  \\\n",
              "0                     3             0           11                     5   \n",
              "1                     2             0            1                     0   \n",
              "2                     2             0            0                     0   \n",
              "3                     1             1           66                     0   \n",
              "4                     2             0           11                     0   \n",
              "...                 ...           ...          ...                   ...   \n",
              "1995                  2             0            0                     0   \n",
              "1996                  3             5           31                     9   \n",
              "1997                  1             0            0                     0   \n",
              "1998                  2             0           18                     0   \n",
              "1999                  2             4           94                    29   \n",
              "\n",
              "      regkey_opened  file_created  wmi_query  dll_loaded  regkey_written  \\\n",
              "0                 0             0          0           0               0   \n",
              "1                 0             0          0           0               0   \n",
              "2                 0             0          0           0               0   \n",
              "3                 0             1          0           7               0   \n",
              "4                27             0          0           6               0   \n",
              "...             ...           ...        ...         ...             ...   \n",
              "1995              0             0          0           3               0   \n",
              "1996              8             1          0          15               1   \n",
              "1997              0             0          0           0               0   \n",
              "1998              0             0          0           2               3   \n",
              "1999             25             1          1          13               2   \n",
              "\n",
              "      file_read  \n",
              "0             0  \n",
              "1             0  \n",
              "2             0  \n",
              "3             0  \n",
              "4             0  \n",
              "...         ...  \n",
              "1995          1  \n",
              "1996          0  \n",
              "1997          0  \n",
              "1998          0  \n",
              "1999          2  \n",
              "\n",
              "[2000 rows x 14 columns]"
            ]
          },
          "execution_count": 124,
          "metadata": {},
          "output_type": "execute_result"
        }
      ],
      "source": [
        "X"
      ]
    },
    {
      "cell_type": "code",
      "execution_count": null,
      "metadata": {
        "colab": {
          "base_uri": "https://localhost:8080/"
        },
        "id": "d6HnK-KpoEf-",
        "outputId": "22356b2e-1d89-4139-c31a-4ffe77e3f231"
      },
      "outputs": [
        {
          "data": {
            "text/plain": [
              "{1: {'feature_idx': (6,),\n",
              "  'cv_scores': array([0.79375, 0.79375, 0.78125, 0.80625, 0.7875 , 0.7625 , 0.79375,\n",
              "         0.7625 , 0.79375, 0.775  ]),\n",
              "  'avg_score': 0.785,\n",
              "  'feature_names': ('6',),\n",
              "  'ci_bound': 0.010212303071505972,\n",
              "  'std_dev': 0.013750000000000005,\n",
              "  'std_err': 0.004583333333333335},\n",
              " 2: {'feature_idx': (6, 11),\n",
              "  'cv_scores': array([0.93125, 0.91875, 0.93125, 0.925  , 0.90625, 0.8625 , 0.925  ,\n",
              "         0.9125 , 0.94375, 0.94375]),\n",
              "  'avg_score': 0.9199999999999999,\n",
              "  'feature_names': ('6', '11'),\n",
              "  'ci_bound': 0.016581596827108205,\n",
              "  'std_dev': 0.02232571387436468,\n",
              "  'std_err': 0.0074419046247882256},\n",
              " 3: {'feature_idx': (2, 6, 11),\n",
              "  'cv_scores': array([0.95   , 0.94375, 0.95625, 0.9375 , 0.9125 , 0.90625, 0.93125,\n",
              "         0.9125 , 0.93125, 0.93125]),\n",
              "  'avg_score': 0.93125,\n",
              "  'feature_names': ('2', '6', '11'),\n",
              "  'ci_bound': 0.01174332285886991,\n",
              "  'std_dev': 0.0158113883008419,\n",
              "  'std_err': 0.0052704627669473},\n",
              " 4: {'feature_idx': (1, 2, 6, 11),\n",
              "  'cv_scores': array([0.9625 , 0.9625 , 0.96875, 0.94375, 0.91875, 0.9125 , 0.95   ,\n",
              "         0.89375, 0.94375, 0.9625 ]),\n",
              "  'avg_score': 0.9418750000000001,\n",
              "  'feature_names': ('1', '2', '6', '11'),\n",
              "  'ci_bound': 0.017863993142977378,\n",
              "  'std_dev': 0.024052351756117325,\n",
              "  'std_err': 0.008017450585372442},\n",
              " 5: {'feature_idx': (1, 2, 6, 7, 11),\n",
              "  'cv_scores': array([0.95625, 0.9625 , 0.96875, 0.95   , 0.925  , 0.9125 , 0.95   ,\n",
              "         0.93125, 0.94375, 0.95625]),\n",
              "  'avg_score': 0.945625,\n",
              "  'feature_names': ('1', '2', '6', '7', '11'),\n",
              "  'ci_bound': 0.012464321613639891,\n",
              "  'std_dev': 0.016782151977621944,\n",
              "  'std_err': 0.0055940506592073135},\n",
              " 6: {'feature_idx': (1, 2, 6, 7, 9, 11),\n",
              "  'cv_scores': array([0.96875, 0.9625 , 0.96875, 0.95   , 0.925  , 0.9125 , 0.95   ,\n",
              "         0.9125 , 0.94375, 0.95   ]),\n",
              "  'avg_score': 0.9443749999999997,\n",
              "  'feature_names': ('1', '2', '6', '7', '9', '11'),\n",
              "  'ci_bound': 0.014890480132501946,\n",
              "  'std_dev': 0.0200487686654318,\n",
              "  'std_err': 0.006682922888477266},\n",
              " 7: {'feature_idx': (1, 2, 4, 6, 7, 9, 11),\n",
              "  'cv_scores': array([0.96875, 0.9625 , 0.96875, 0.95   , 0.93125, 0.9125 , 0.95   ,\n",
              "         0.93125, 0.94375, 0.95   ]),\n",
              "  'avg_score': 0.9468749999999998,\n",
              "  'feature_names': ('1', '2', '4', '6', '7', '9', '11'),\n",
              "  'ci_bound': 0.012670073972930768,\n",
              "  'std_dev': 0.017059180079945228,\n",
              "  'std_err': 0.005686393359981742},\n",
              " 8: {'feature_idx': (1, 2, 4, 5, 6, 7, 9, 11),\n",
              "  'cv_scores': array([0.9625 , 0.95625, 0.96875, 0.95   , 0.93125, 0.9125 , 0.95625,\n",
              "         0.9125 , 0.95   , 0.95625]),\n",
              "  'avg_score': 0.945625,\n",
              "  'feature_names': ('1', '2', '4', '5', '6', '7', '9', '11'),\n",
              "  'ci_bound': 0.014087399448288653,\n",
              "  'std_dev': 0.01896748863186691,\n",
              "  'std_err': 0.006322496210622303},\n",
              " 9: {'feature_idx': (0, 1, 2, 4, 5, 6, 7, 9, 11),\n",
              "  'cv_scores': array([0.96875, 0.95625, 0.96875, 0.95   , 0.925  , 0.9125 , 0.95   ,\n",
              "         0.93125, 0.94375, 0.95   ]),\n",
              "  'avg_score': 0.9456249999999999,\n",
              "  'feature_names': ('0', '1', '2', '4', '5', '6', '7', '9', '11'),\n",
              "  'ci_bound': 0.012805405705159404,\n",
              "  'std_dev': 0.017241392780167147,\n",
              "  'std_err': 0.005747130926722383},\n",
              " 10: {'feature_idx': (0, 1, 2, 4, 5, 6, 7, 8, 9, 11),\n",
              "  'cv_scores': array([0.95625, 0.9625 , 0.96875, 0.95   , 0.925  , 0.9125 , 0.95   ,\n",
              "         0.9125 , 0.95   , 0.95625]),\n",
              "  'avg_score': 0.944375,\n",
              "  'feature_names': ('0', '1', '2', '4', '5', '6', '7', '8', '9', '11'),\n",
              "  'ci_bound': 0.01429993687417809,\n",
              "  'std_dev': 0.019253652250936712,\n",
              "  'std_err': 0.006417884083645569}}"
            ]
          },
          "execution_count": 61,
          "metadata": {},
          "output_type": "execute_result"
        }
      ],
      "source": [
        "metric_dict"
      ]
    },
    {
      "cell_type": "code",
      "execution_count": null,
      "metadata": {
        "colab": {
          "base_uri": "https://localhost:8080/"
        },
        "id": "XSgsSQXiPCHl",
        "outputId": "4f5d7d92-1aa6-433e-f866-bfe2c3434499"
      },
      "outputs": [
        {
          "name": "stdout",
          "output_type": "stream",
          "text": [
            "regkey_read\n",
            "dll_loaded\n",
            "tree_command_line\n",
            "process_path\n",
            "directory_enumerated\n"
          ]
        }
      ],
      "source": [
        "print(X.columns[6])\n",
        "print(X.columns[11])\n",
        "print(X.columns[2])\n",
        "print(X.columns[1])\n",
        "print(X.columns[7])\n"
      ]
    },
    {
      "cell_type": "code",
      "execution_count": null,
      "metadata": {
        "colab": {
          "base_uri": "https://localhost:8080/"
        },
        "id": "G162XmYzW19p",
        "outputId": "f6fafcc4-bff6-4b4a-e1d7-3487e68635b4"
      },
      "outputs": [
        {
          "name": "stdout",
          "output_type": "stream",
          "text": [
            "Random Forest Accuracy Score: 96.5 %\n"
          ]
        }
      ],
      "source": [
        "sfs_list = [1,2,6,7,11]\n",
        "new_features = X.columns[0:][sfs_list]\n",
        "new_X = X[new_features]\n",
        "new_X\n",
        "X_train, X_test, y_train, y_test = train_test_split(new_X, y, test_size = 0.2, random_state = 42)\n",
        "# create random forest object\n",
        "RF2= RandomForestClassifier()\n",
        "\n",
        "# train the model using the training set\n",
        "RF2.fit(X_train,y_train)\n",
        "\n",
        "# predict using the testing set\n",
        "rf_pred = RF2.predict(X_test)\n",
        "\n",
        "acc_score = accuracy_score(y_test, rf_pred)\n",
        "print('Random Forest Accuracy Score:',acc_score*100,'%')"
      ]
    },
    {
      "cell_type": "code",
      "execution_count": null,
      "metadata": {
        "colab": {
          "base_uri": "https://localhost:8080/"
        },
        "id": "awSHV8dhXiw-",
        "outputId": "aa5bb316-dca2-4998-b9e6-52e0f51db72d"
      },
      "outputs": [
        {
          "data": {
            "text/plain": [
              "(RandomForestClassifier(), 0.011755780099338153)"
            ]
          },
          "execution_count": 137,
          "metadata": {},
          "output_type": "execute_result"
        }
      ],
      "source": [
        "get_prediction_duration(RF2)"
      ]
    },
    {
      "cell_type": "code",
      "execution_count": null,
      "metadata": {
        "colab": {
          "base_uri": "https://localhost:8080/",
          "height": 622
        },
        "id": "J58zczMEilvi",
        "outputId": "61dae3be-dfc6-443c-bc26-369e2aaa5a07"
      },
      "outputs": [
        {
          "data": {
            "image/png": "[encoded data removed]",
            "text/plain": [
              "<Figure size 2000x1000 with 1 Axes>"
            ]
          },
          "metadata": {},
          "output_type": "display_data"
        }
      ],
      "source": [
        "from mlxtend.plotting import plot_sequential_feature_selection as plot_sfs\n",
        "\n",
        "\n",
        "fig1 = plot_sfs(metric_dict, kind='std_dev',figsize=(20,10))\n",
        "plt.title('Sequential Forward Selection w Random Forest (w. StdDev)')\n",
        "plt.grid()\n",
        "plt.show()"
      ]
    },
    {
      "cell_type": "code",
      "execution_count": null,
      "metadata": {
        "colab": {
          "base_uri": "https://localhost:8080/"
        },
        "id": "0dPzyMuIiqvz",
        "outputId": "b8bb0870-00aa-46df-f7bc-3905ea3369eb"
      },
      "outputs": [
        {
          "data": {
            "text/plain": [
              "Index(['beh_command_line', 'process_path', 'tree_command_line',\n",
              "       'tree_process_name', 'command_line', 'regkey_read',\n",
              "       'directory_enumerated', 'regkey_opened', 'file_created', 'dll_loaded'],\n",
              "      dtype='object')"
            ]
          },
          "execution_count": 64,
          "metadata": {},
          "output_type": "execute_result"
        }
      ],
      "source": [
        "X.columns[0:][list(sfs.k_feature_idx_)]"
      ]
    },
    {
      "cell_type": "code",
      "execution_count": null,
      "metadata": {
        "id": "q-MofTkLpRFQ"
      },
      "outputs": [],
      "source": [
        "rf_sfs_new_features = X.columns[0:][list(sfs.k_feature_idx_)]"
      ]
    },
    {
      "cell_type": "code",
      "execution_count": null,
      "metadata": {
        "id": "S3e7Y1Uio-_u"
      },
      "outputs": [],
      "source": [
        "new_X = X[rf_sfs_new_features]"
      ]
    },
    {
      "cell_type": "code",
      "execution_count": null,
      "metadata": {
        "colab": {
          "base_uri": "https://localhost:8080/",
          "height": 443
        },
        "id": "Ukyo4QqEpuMK",
        "outputId": "c18f227c-0ef1-4d93-b135-e053bec32ccd"
      },
      "outputs": [
        {
          "data": {
            "text/html": [
              "\n",
              "  <div id=\"df-516a5ec0-64e3-4bee-b9ab-4a53f1ab1a00\" class=\"colab-df-container\">\n",
              "    <div>\n",
              "<style scoped>\n",
              "    .dataframe tbody tr th:only-of-type {\n",
              "        vertical-align: middle;\n",
              "    }\n",
              "\n",
              "    .dataframe tbody tr th {\n",
              "        vertical-align: top;\n",
              "    }\n",
              "\n",
              "    .dataframe thead th {\n",
              "        text-align: right;\n",
              "    }\n",
              "</style>\n",
              "<table border=\"1\" class=\"dataframe\">\n",
              "  <thead>\n",
              "    <tr style=\"text-align: right;\">\n",
              "      <th></th>\n",
              "      <th>beh_command_line</th>\n",
              "      <th>process_path</th>\n",
              "      <th>tree_command_line</th>\n",
              "      <th>tree_process_name</th>\n",
              "      <th>command_line</th>\n",
              "      <th>regkey_read</th>\n",
              "      <th>directory_enumerated</th>\n",
              "      <th>regkey_opened</th>\n",
              "      <th>file_created</th>\n",
              "      <th>dll_loaded</th>\n",
              "    </tr>\n",
              "  </thead>\n",
              "  <tbody>\n",
              "    <tr>\n",
              "      <th>0</th>\n",
              "      <td>3</td>\n",
              "      <td>3</td>\n",
              "      <td>3</td>\n",
              "      <td>3</td>\n",
              "      <td>0</td>\n",
              "      <td>11</td>\n",
              "      <td>5</td>\n",
              "      <td>0</td>\n",
              "      <td>0</td>\n",
              "      <td>0</td>\n",
              "    </tr>\n",
              "    <tr>\n",
              "      <th>1</th>\n",
              "      <td>2</td>\n",
              "      <td>2</td>\n",
              "      <td>2</td>\n",
              "      <td>2</td>\n",
              "      <td>0</td>\n",
              "      <td>1</td>\n",
              "      <td>0</td>\n",
              "      <td>0</td>\n",
              "      <td>0</td>\n",
              "      <td>0</td>\n",
              "    </tr>\n",
              "    <tr>\n",
              "      <th>2</th>\n",
              "      <td>2</td>\n",
              "      <td>2</td>\n",
              "      <td>2</td>\n",
              "      <td>2</td>\n",
              "      <td>0</td>\n",
              "      <td>0</td>\n",
              "      <td>0</td>\n",
              "      <td>0</td>\n",
              "      <td>0</td>\n",
              "      <td>0</td>\n",
              "    </tr>\n",
              "    <tr>\n",
              "      <th>3</th>\n",
              "      <td>1</td>\n",
              "      <td>1</td>\n",
              "      <td>1</td>\n",
              "      <td>1</td>\n",
              "      <td>1</td>\n",
              "      <td>66</td>\n",
              "      <td>0</td>\n",
              "      <td>0</td>\n",
              "      <td>1</td>\n",
              "      <td>7</td>\n",
              "    </tr>\n",
              "    <tr>\n",
              "      <th>4</th>\n",
              "      <td>2</td>\n",
              "      <td>2</td>\n",
              "      <td>2</td>\n",
              "      <td>2</td>\n",
              "      <td>0</td>\n",
              "      <td>11</td>\n",
              "      <td>0</td>\n",
              "      <td>27</td>\n",
              "      <td>0</td>\n",
              "      <td>6</td>\n",
              "    </tr>\n",
              "    <tr>\n",
              "      <th>...</th>\n",
              "      <td>...</td>\n",
              "      <td>...</td>\n",
              "      <td>...</td>\n",
              "      <td>...</td>\n",
              "      <td>...</td>\n",
              "      <td>...</td>\n",
              "      <td>...</td>\n",
              "      <td>...</td>\n",
              "      <td>...</td>\n",
              "      <td>...</td>\n",
              "    </tr>\n",
              "    <tr>\n",
              "      <th>1995</th>\n",
              "      <td>2</td>\n",
              "      <td>2</td>\n",
              "      <td>2</td>\n",
              "      <td>2</td>\n",
              "      <td>0</td>\n",
              "      <td>0</td>\n",
              "      <td>0</td>\n",
              "      <td>0</td>\n",
              "      <td>0</td>\n",
              "      <td>3</td>\n",
              "    </tr>\n",
              "    <tr>\n",
              "      <th>1996</th>\n",
              "      <td>6</td>\n",
              "      <td>6</td>\n",
              "      <td>3</td>\n",
              "      <td>3</td>\n",
              "      <td>5</td>\n",
              "      <td>31</td>\n",
              "      <td>9</td>\n",
              "      <td>8</td>\n",
              "      <td>1</td>\n",
              "      <td>15</td>\n",
              "    </tr>\n",
              "    <tr>\n",
              "      <th>1997</th>\n",
              "      <td>1</td>\n",
              "      <td>1</td>\n",
              "      <td>1</td>\n",
              "      <td>1</td>\n",
              "      <td>0</td>\n",
              "      <td>0</td>\n",
              "      <td>0</td>\n",
              "      <td>0</td>\n",
              "      <td>0</td>\n",
              "      <td>0</td>\n",
              "    </tr>\n",
              "    <tr>\n",
              "      <th>1998</th>\n",
              "      <td>2</td>\n",
              "      <td>2</td>\n",
              "      <td>2</td>\n",
              "      <td>2</td>\n",
              "      <td>0</td>\n",
              "      <td>18</td>\n",
              "      <td>0</td>\n",
              "      <td>0</td>\n",
              "      <td>0</td>\n",
              "      <td>2</td>\n",
              "    </tr>\n",
              "    <tr>\n",
              "      <th>1999</th>\n",
              "      <td>5</td>\n",
              "      <td>5</td>\n",
              "      <td>2</td>\n",
              "      <td>2</td>\n",
              "      <td>4</td>\n",
              "      <td>94</td>\n",
              "      <td>29</td>\n",
              "      <td>25</td>\n",
              "      <td>1</td>\n",
              "      <td>13</td>\n",
              "    </tr>\n",
              "  </tbody>\n",
              "</table>\n",
              "<p>2000 rows × 10 columns</p>\n",
              "</div>\n",
              "    <div class=\"colab-df-buttons\">\n",
              "\n",
              "  <div class=\"colab-df-container\">\n",
              "    <button class=\"colab-df-convert\" onclick=\"convertToInteractive('df-516a5ec0-64e3-4bee-b9ab-4a53f1ab1a00')\"\n",
              "            title=\"Convert this dataframe to an interactive table.\"\n",
              "            style=\"display:none;\">\n",
              "\n",
              "  <svg xmlns=\"http://www.w3.org/2000/svg\" height=\"24px\" viewBox=\"0 -960 960 960\">\n",
              "    <path d=\"M120-120v-720h720v720H120Zm60-500h600v-160H180v160Zm220 220h160v-160H400v160Zm0 220h160v-160H400v160ZM180-400h160v-160H180v160Zm440 0h160v-160H620v160ZM180-180h160v-160H180v160Zm440 0h160v-160H620v160Z\"/>\n",
              "  </svg>\n",
              "    </button>\n",
              "\n",
              "  <style>\n",
              "    .colab-df-container {\n",
              "      display:flex;\n",
              "      gap: 12px;\n",
              "    }\n",
              "\n",
              "    .colab-df-convert {\n",
              "      background-color: #E8F0FE;\n",
              "      border: none;\n",
              "      border-radius: 50%;\n",
              "      cursor: pointer;\n",
              "      display: none;\n",
              "      fill: #1967D2;\n",
              "      height: 32px;\n",
              "      padding: 0 0 0 0;\n",
              "      width: 32px;\n",
              "    }\n",
              "\n",
              "    .colab-df-convert:hover {\n",
              "      background-color: #E2EBFA;\n",
              "      box-shadow: 0px 1px 2px rgba(60, 64, 67, 0.3), 0px 1px 3px 1px rgba(60, 64, 67, 0.15);\n",
              "      fill: #174EA6;\n",
              "    }\n",
              "\n",
              "    .colab-df-buttons div {\n",
              "      margin-bottom: 4px;\n",
              "    }\n",
              "\n",
              "    [theme=dark] .colab-df-convert {\n",
              "      background-color: #3B4455;\n",
              "      fill: #D2E3FC;\n",
              "    }\n",
              "\n",
              "    [theme=dark] .colab-df-convert:hover {\n",
              "      background-color: #434B5C;\n",
              "      box-shadow: 0px 1px 3px 1px rgba(0, 0, 0, 0.15);\n",
              "      filter: drop-shadow(0px 1px 2px rgba(0, 0, 0, 0.3));\n",
              "      fill: #FFFFFF;\n",
              "    }\n",
              "  </style>\n",
              "\n",
              "    <script>\n",
              "      const buttonEl =\n",
              "        document.querySelector('#df-516a5ec0-64e3-4bee-b9ab-4a53f1ab1a00 button.colab-df-convert');\n",
              "      buttonEl.style.display =\n",
              "        google.colab.kernel.accessAllowed ? 'block' : 'none';\n",
              "\n",
              "      async function convertToInteractive(key) {\n",
              "        const element = document.querySelector('#df-516a5ec0-64e3-4bee-b9ab-4a53f1ab1a00');\n",
              "        const dataTable =\n",
              "          await google.colab.kernel.invokeFunction('convertToInteractive',\n",
              "                                                    [key], {});\n",
              "        if (!dataTable) return;\n",
              "\n",
              "        const docLinkHtml = 'Like what you see? Visit the ' +\n",
              "          '<a target=\"_blank\" href=https://colab.research.google.com/notebooks/data_table.ipynb>data table notebook</a>'\n",
              "          + ' to learn more about interactive tables.';\n",
              "        element.innerHTML = '';\n",
              "        dataTable['output_type'] = 'display_data';\n",
              "        await google.colab.output.renderOutput(dataTable, element);\n",
              "        const docLink = document.createElement('div');\n",
              "        docLink.innerHTML = docLinkHtml;\n",
              "        element.appendChild(docLink);\n",
              "      }\n",
              "    </script>\n",
              "  </div>\n",
              "\n",
              "\n",
              "<div id=\"df-da88a2b7-0a2e-495b-968a-a66ca1cc3710\">\n",
              "  <button class=\"colab-df-quickchart\" onclick=\"quickchart('df-da88a2b7-0a2e-495b-968a-a66ca1cc3710')\"\n",
              "            title=\"Suggest charts.\"\n",
              "            style=\"display:none;\">\n",
              "\n",
              "<svg xmlns=\"http://www.w3.org/2000/svg\" height=\"24px\"viewBox=\"0 0 24 24\"\n",
              "     width=\"24px\">\n",
              "    <g>\n",
              "        <path d=\"M19 3H5c-1.1 0-2 .9-2 2v14c0 1.1.9 2 2 2h14c1.1 0 2-.9 2-2V5c0-1.1-.9-2-2-2zM9 17H7v-7h2v7zm4 0h-2V7h2v10zm4 0h-2v-4h2v4z\"/>\n",
              "    </g>\n",
              "</svg>\n",
              "  </button>\n",
              "\n",
              "<style>\n",
              "  .colab-df-quickchart {\n",
              "      --bg-color: #E8F0FE;\n",
              "      --fill-color: #1967D2;\n",
              "      --hover-bg-color: #E2EBFA;\n",
              "      --hover-fill-color: #174EA6;\n",
              "      --disabled-fill-color: #AAA;\n",
              "      --disabled-bg-color: #DDD;\n",
              "  }\n",
              "\n",
              "  [theme=dark] .colab-df-quickchart {\n",
              "      --bg-color: #3B4455;\n",
              "      --fill-color: #D2E3FC;\n",
              "      --hover-bg-color: #434B5C;\n",
              "      --hover-fill-color: #FFFFFF;\n",
              "      --disabled-bg-color: #3B4455;\n",
              "      --disabled-fill-color: #666;\n",
              "  }\n",
              "\n",
              "  .colab-df-quickchart {\n",
              "    background-color: var(--bg-color);\n",
              "    border: none;\n",
              "    border-radius: 50%;\n",
              "    cursor: pointer;\n",
              "    display: none;\n",
              "    fill: var(--fill-color);\n",
              "    height: 32px;\n",
              "    padding: 0;\n",
              "    width: 32px;\n",
              "  }\n",
              "\n",
              "  .colab-df-quickchart:hover {\n",
              "    background-color: var(--hover-bg-color);\n",
              "    box-shadow: 0 1px 2px rgba(60, 64, 67, 0.3), 0 1px 3px 1px rgba(60, 64, 67, 0.15);\n",
              "    fill: var(--button-hover-fill-color);\n",
              "  }\n",
              "\n",
              "  .colab-df-quickchart-complete:disabled,\n",
              "  .colab-df-quickchart-complete:disabled:hover {\n",
              "    background-color: var(--disabled-bg-color);\n",
              "    fill: var(--disabled-fill-color);\n",
              "    box-shadow: none;\n",
              "  }\n",
              "\n",
              "  .colab-df-spinner {\n",
              "    border: 2px solid var(--fill-color);\n",
              "    border-color: transparent;\n",
              "    border-bottom-color: var(--fill-color);\n",
              "    animation:\n",
              "      spin 1s steps(1) infinite;\n",
              "  }\n",
              "\n",
              "  @keyframes spin {\n",
              "    0% {\n",
              "      border-color: transparent;\n",
              "      border-bottom-color: var(--fill-color);\n",
              "      border-left-color: var(--fill-color);\n",
              "    }\n",
              "    20% {\n",
              "      border-color: transparent;\n",
              "      border-left-color: var(--fill-color);\n",
              "      border-top-color: var(--fill-color);\n",
              "    }\n",
              "    30% {\n",
              "      border-color: transparent;\n",
              "      border-left-color: var(--fill-color);\n",
              "      border-top-color: var(--fill-color);\n",
              "      border-right-color: var(--fill-color);\n",
              "    }\n",
              "    40% {\n",
              "      border-color: transparent;\n",
              "      border-right-color: var(--fill-color);\n",
              "      border-top-color: var(--fill-color);\n",
              "    }\n",
              "    60% {\n",
              "      border-color: transparent;\n",
              "      border-right-color: var(--fill-color);\n",
              "    }\n",
              "    80% {\n",
              "      border-color: transparent;\n",
              "      border-right-color: var(--fill-color);\n",
              "      border-bottom-color: var(--fill-color);\n",
              "    }\n",
              "    90% {\n",
              "      border-color: transparent;\n",
              "      border-bottom-color: var(--fill-color);\n",
              "    }\n",
              "  }\n",
              "</style>\n",
              "\n",
              "  <script>\n",
              "    async function quickchart(key) {\n",
              "      const quickchartButtonEl =\n",
              "        document.querySelector('#' + key + ' button');\n",
              "      quickchartButtonEl.disabled = true;  // To prevent multiple clicks.\n",
              "      quickchartButtonEl.classList.add('colab-df-spinner');\n",
              "      try {\n",
              "        const charts = await google.colab.kernel.invokeFunction(\n",
              "            'suggestCharts', [key], {});\n",
              "      } catch (error) {\n",
              "        console.error('Error during call to suggestCharts:', error);\n",
              "      }\n",
              "      quickchartButtonEl.classList.remove('colab-df-spinner');\n",
              "      quickchartButtonEl.classList.add('colab-df-quickchart-complete');\n",
              "    }\n",
              "    (() => {\n",
              "      let quickchartButtonEl =\n",
              "        document.querySelector('#df-da88a2b7-0a2e-495b-968a-a66ca1cc3710 button');\n",
              "      quickchartButtonEl.style.display =\n",
              "        google.colab.kernel.accessAllowed ? 'block' : 'none';\n",
              "    })();\n",
              "  </script>\n",
              "</div>\n",
              "    </div>\n",
              "  </div>\n"
            ],
            "text/plain": [
              "      beh_command_line  process_path  tree_command_line  tree_process_name  \\\n",
              "0                    3             3                  3                  3   \n",
              "1                    2             2                  2                  2   \n",
              "2                    2             2                  2                  2   \n",
              "3                    1             1                  1                  1   \n",
              "4                    2             2                  2                  2   \n",
              "...                ...           ...                ...                ...   \n",
              "1995                 2             2                  2                  2   \n",
              "1996                 6             6                  3                  3   \n",
              "1997                 1             1                  1                  1   \n",
              "1998                 2             2                  2                  2   \n",
              "1999                 5             5                  2                  2   \n",
              "\n",
              "      command_line  regkey_read  directory_enumerated  regkey_opened  \\\n",
              "0                0           11                     5              0   \n",
              "1                0            1                     0              0   \n",
              "2                0            0                     0              0   \n",
              "3                1           66                     0              0   \n",
              "4                0           11                     0             27   \n",
              "...            ...          ...                   ...            ...   \n",
              "1995             0            0                     0              0   \n",
              "1996             5           31                     9              8   \n",
              "1997             0            0                     0              0   \n",
              "1998             0           18                     0              0   \n",
              "1999             4           94                    29             25   \n",
              "\n",
              "      file_created  dll_loaded  \n",
              "0                0           0  \n",
              "1                0           0  \n",
              "2                0           0  \n",
              "3                1           7  \n",
              "4                0           6  \n",
              "...            ...         ...  \n",
              "1995             0           3  \n",
              "1996             1          15  \n",
              "1997             0           0  \n",
              "1998             0           2  \n",
              "1999             1          13  \n",
              "\n",
              "[2000 rows x 10 columns]"
            ]
          },
          "execution_count": 67,
          "metadata": {},
          "output_type": "execute_result"
        }
      ],
      "source": [
        "new_X"
      ]
    },
    {
      "cell_type": "code",
      "execution_count": null,
      "metadata": {
        "colab": {
          "base_uri": "https://localhost:8080/"
        },
        "id": "AcSvAt2rjrLP",
        "outputId": "b9fd9167-4e1f-4b0c-ebc9-985ce1037de7"
      },
      "outputs": [
        {
          "name": "stdout",
          "output_type": "stream",
          "text": [
            "Random Forest Accuracy Score: 96.5 %\n"
          ]
        }
      ],
      "source": [
        "X_train, X_test, y_train, y_test = train_test_split(new_X, y, test_size = 0.2, random_state = 42)\n",
        "# create random forest object\n",
        "RF2= RandomForestClassifier()\n",
        "\n",
        "# train the model using the training set\n",
        "RF2.fit(X_train,y_train)\n",
        "\n",
        "# predict using the testing set\n",
        "rf_pred = RF2.predict(X_test)\n",
        "\n",
        "acc_score = accuracy_score(y_test, rf_pred)\n",
        "print('Random Forest Accuracy Score:',acc_score*100,'%')"
      ]
    },
    {
      "cell_type": "code",
      "execution_count": null,
      "metadata": {
        "id": "i6TNQukJG78r"
      },
      "outputs": [],
      "source": [
        "get_prediction_duration(RF2)"
      ]
    },
    {
      "cell_type": "markdown",
      "metadata": {
        "id": "k1wW8OQ-mPry"
      },
      "source": [
        "### 11) Experiment 2D: Feature Reduction Using Random Forest Feature Importance"
      ]
    },
    {
      "cell_type": "markdown",
      "metadata": {
        "id": "4MYyczyzDyFe"
      },
      "source": [
        "Feature Importance"
      ]
    },
    {
      "cell_type": "code",
      "execution_count": null,
      "metadata": {
        "id": "q_3kpDxLZ0uk"
      },
      "outputs": [],
      "source": [
        "X_train, X_test, y_train, y_test = train_test_split(X, y, test_size = 0.2, random_state = 42)"
      ]
    },
    {
      "cell_type": "code",
      "execution_count": null,
      "metadata": {
        "id": "chquKWc1Z6Lz"
      },
      "outputs": [],
      "source": [
        "# create random forest object\n",
        "RF3= RandomForestClassifier()\n",
        "\n",
        "# train the model using the training set\n",
        "RF3.fit(X_train,y_train)\n",
        "\n",
        "# predict using the testing set\n",
        "rf_pred = RF3.predict(X_test)"
      ]
    },
    {
      "cell_type": "code",
      "execution_count": null,
      "metadata": {
        "colab": {
          "base_uri": "https://localhost:8080/"
        },
        "id": "ISBxzFZiZ97d",
        "outputId": "d7e2e5d0-5283-4651-e990-65a7f9e8d407"
      },
      "outputs": [
        {
          "name": "stdout",
          "output_type": "stream",
          "text": [
            "Random Forest Accuracy Score: 96.75 %\n"
          ]
        }
      ],
      "source": [
        "acc_score = accuracy_score(y_test, rf_pred)\n",
        "print('Random Forest Accuracy Score:',acc_score*100,'%')"
      ]
    },
    {
      "cell_type": "code",
      "execution_count": null,
      "metadata": {
        "colab": {
          "base_uri": "https://localhost:8080/",
          "height": 447
        },
        "id": "Yp8_Y9dR-PCE",
        "outputId": "c904917f-33c1-4ddb-f004-927406b0d557"
      },
      "outputs": [
        {
          "data": {
            "text/plain": [
              "<Axes: >"
            ]
          },
          "execution_count": 36,
          "metadata": {},
          "output_type": "execute_result"
        },
        {
          "data": {
            "image/png": "[encoded data removed]",
            "text/plain": [
              "<Figure size 640x480 with 1 Axes>"
            ]
          },
          "metadata": {},
          "output_type": "display_data"
        }
      ],
      "source": [
        "feat_importances = pd.Series(RF3.feature_importances_, index=X.columns)\n",
        "feat_importances.nlargest(10).plot(kind='barh')"
      ]
    },
    {
      "cell_type": "code",
      "execution_count": null,
      "metadata": {
        "id": "r32D9BsY_c9L"
      },
      "outputs": [],
      "source": [
        "rf_new_features = feat_importances.nlargest(10).index"
      ]
    },
    {
      "cell_type": "code",
      "execution_count": null,
      "metadata": {
        "colab": {
          "base_uri": "https://localhost:8080/"
        },
        "id": "Jyeuhh1jBdFx",
        "outputId": "91b2b3f4-7339-46a1-9528-533cf8e4e084"
      },
      "outputs": [
        {
          "data": {
            "text/plain": [
              "Index(['regkey_read', 'dll_loaded', 'file_created', 'file_read',\n",
              "       'directory_enumerated', 'regkey_opened', 'command_line',\n",
              "       'regkey_written', 'process_path', 'beh_command_line'],\n",
              "      dtype='object')"
            ]
          },
          "execution_count": 38,
          "metadata": {},
          "output_type": "execute_result"
        }
      ],
      "source": [
        "rf_new_features"
      ]
    },
    {
      "cell_type": "code",
      "execution_count": null,
      "metadata": {
        "id": "RDV1Rz5wBghD"
      },
      "outputs": [],
      "source": [
        "new_X = X[rf_new_features]"
      ]
    },
    {
      "cell_type": "code",
      "execution_count": null,
      "metadata": {
        "colab": {
          "base_uri": "https://localhost:8080/",
          "height": 443
        },
        "id": "0gEp2d4XCEuD",
        "outputId": "51716a4b-0957-4649-b9ce-7003789ccd4a"
      },
      "outputs": [
        {
          "data": {
            "text/html": [
              "\n",
              "  <div id=\"df-1cc07f8e-af62-4171-b782-c38ad6f4fbba\" class=\"colab-df-container\">\n",
              "    <div>\n",
              "<style scoped>\n",
              "    .dataframe tbody tr th:only-of-type {\n",
              "        vertical-align: middle;\n",
              "    }\n",
              "\n",
              "    .dataframe tbody tr th {\n",
              "        vertical-align: top;\n",
              "    }\n",
              "\n",
              "    .dataframe thead th {\n",
              "        text-align: right;\n",
              "    }\n",
              "</style>\n",
              "<table border=\"1\" class=\"dataframe\">\n",
              "  <thead>\n",
              "    <tr style=\"text-align: right;\">\n",
              "      <th></th>\n",
              "      <th>regkey_read</th>\n",
              "      <th>dll_loaded</th>\n",
              "      <th>file_created</th>\n",
              "      <th>file_read</th>\n",
              "      <th>directory_enumerated</th>\n",
              "      <th>regkey_opened</th>\n",
              "      <th>command_line</th>\n",
              "      <th>regkey_written</th>\n",
              "      <th>process_path</th>\n",
              "      <th>beh_command_line</th>\n",
              "    </tr>\n",
              "  </thead>\n",
              "  <tbody>\n",
              "    <tr>\n",
              "      <th>0</th>\n",
              "      <td>11</td>\n",
              "      <td>0</td>\n",
              "      <td>0</td>\n",
              "      <td>0</td>\n",
              "      <td>5</td>\n",
              "      <td>0</td>\n",
              "      <td>0</td>\n",
              "      <td>0</td>\n",
              "      <td>3</td>\n",
              "      <td>3</td>\n",
              "    </tr>\n",
              "    <tr>\n",
              "      <th>1</th>\n",
              "      <td>1</td>\n",
              "      <td>0</td>\n",
              "      <td>0</td>\n",
              "      <td>0</td>\n",
              "      <td>0</td>\n",
              "      <td>0</td>\n",
              "      <td>0</td>\n",
              "      <td>0</td>\n",
              "      <td>2</td>\n",
              "      <td>2</td>\n",
              "    </tr>\n",
              "    <tr>\n",
              "      <th>2</th>\n",
              "      <td>0</td>\n",
              "      <td>0</td>\n",
              "      <td>0</td>\n",
              "      <td>0</td>\n",
              "      <td>0</td>\n",
              "      <td>0</td>\n",
              "      <td>0</td>\n",
              "      <td>0</td>\n",
              "      <td>2</td>\n",
              "      <td>2</td>\n",
              "    </tr>\n",
              "    <tr>\n",
              "      <th>3</th>\n",
              "      <td>66</td>\n",
              "      <td>7</td>\n",
              "      <td>1</td>\n",
              "      <td>0</td>\n",
              "      <td>0</td>\n",
              "      <td>0</td>\n",
              "      <td>1</td>\n",
              "      <td>0</td>\n",
              "      <td>1</td>\n",
              "      <td>1</td>\n",
              "    </tr>\n",
              "    <tr>\n",
              "      <th>4</th>\n",
              "      <td>11</td>\n",
              "      <td>6</td>\n",
              "      <td>0</td>\n",
              "      <td>0</td>\n",
              "      <td>0</td>\n",
              "      <td>27</td>\n",
              "      <td>0</td>\n",
              "      <td>0</td>\n",
              "      <td>2</td>\n",
              "      <td>2</td>\n",
              "    </tr>\n",
              "    <tr>\n",
              "      <th>...</th>\n",
              "      <td>...</td>\n",
              "      <td>...</td>\n",
              "      <td>...</td>\n",
              "      <td>...</td>\n",
              "      <td>...</td>\n",
              "      <td>...</td>\n",
              "      <td>...</td>\n",
              "      <td>...</td>\n",
              "      <td>...</td>\n",
              "      <td>...</td>\n",
              "    </tr>\n",
              "    <tr>\n",
              "      <th>1995</th>\n",
              "      <td>0</td>\n",
              "      <td>3</td>\n",
              "      <td>0</td>\n",
              "      <td>1</td>\n",
              "      <td>0</td>\n",
              "      <td>0</td>\n",
              "      <td>0</td>\n",
              "      <td>0</td>\n",
              "      <td>2</td>\n",
              "      <td>2</td>\n",
              "    </tr>\n",
              "    <tr>\n",
              "      <th>1996</th>\n",
              "      <td>31</td>\n",
              "      <td>15</td>\n",
              "      <td>1</td>\n",
              "      <td>0</td>\n",
              "      <td>9</td>\n",
              "      <td>8</td>\n",
              "      <td>5</td>\n",
              "      <td>1</td>\n",
              "      <td>6</td>\n",
              "      <td>6</td>\n",
              "    </tr>\n",
              "    <tr>\n",
              "      <th>1997</th>\n",
              "      <td>0</td>\n",
              "      <td>0</td>\n",
              "      <td>0</td>\n",
              "      <td>0</td>\n",
              "      <td>0</td>\n",
              "      <td>0</td>\n",
              "      <td>0</td>\n",
              "      <td>0</td>\n",
              "      <td>1</td>\n",
              "      <td>1</td>\n",
              "    </tr>\n",
              "    <tr>\n",
              "      <th>1998</th>\n",
              "      <td>18</td>\n",
              "      <td>2</td>\n",
              "      <td>0</td>\n",
              "      <td>0</td>\n",
              "      <td>0</td>\n",
              "      <td>0</td>\n",
              "      <td>0</td>\n",
              "      <td>3</td>\n",
              "      <td>2</td>\n",
              "      <td>2</td>\n",
              "    </tr>\n",
              "    <tr>\n",
              "      <th>1999</th>\n",
              "      <td>94</td>\n",
              "      <td>13</td>\n",
              "      <td>1</td>\n",
              "      <td>2</td>\n",
              "      <td>29</td>\n",
              "      <td>25</td>\n",
              "      <td>4</td>\n",
              "      <td>2</td>\n",
              "      <td>5</td>\n",
              "      <td>5</td>\n",
              "    </tr>\n",
              "  </tbody>\n",
              "</table>\n",
              "<p>2000 rows × 10 columns</p>\n",
              "</div>\n",
              "    <div class=\"colab-df-buttons\">\n",
              "\n",
              "  <div class=\"colab-df-container\">\n",
              "    <button class=\"colab-df-convert\" onclick=\"convertToInteractive('df-1cc07f8e-af62-4171-b782-c38ad6f4fbba')\"\n",
              "            title=\"Convert this dataframe to an interactive table.\"\n",
              "            style=\"display:none;\">\n",
              "\n",
              "  <svg xmlns=\"http://www.w3.org/2000/svg\" height=\"24px\" viewBox=\"0 -960 960 960\">\n",
              "    <path d=\"M120-120v-720h720v720H120Zm60-500h600v-160H180v160Zm220 220h160v-160H400v160Zm0 220h160v-160H400v160ZM180-400h160v-160H180v160Zm440 0h160v-160H620v160ZM180-180h160v-160H180v160Zm440 0h160v-160H620v160Z\"/>\n",
              "  </svg>\n",
              "    </button>\n",
              "\n",
              "  <style>\n",
              "    .colab-df-container {\n",
              "      display:flex;\n",
              "      gap: 12px;\n",
              "    }\n",
              "\n",
              "    .colab-df-convert {\n",
              "      background-color: #E8F0FE;\n",
              "      border: none;\n",
              "      border-radius: 50%;\n",
              "      cursor: pointer;\n",
              "      display: none;\n",
              "      fill: #1967D2;\n",
              "      height: 32px;\n",
              "      padding: 0 0 0 0;\n",
              "      width: 32px;\n",
              "    }\n",
              "\n",
              "    .colab-df-convert:hover {\n",
              "      background-color: #E2EBFA;\n",
              "      box-shadow: 0px 1px 2px rgba(60, 64, 67, 0.3), 0px 1px 3px 1px rgba(60, 64, 67, 0.15);\n",
              "      fill: #174EA6;\n",
              "    }\n",
              "\n",
              "    .colab-df-buttons div {\n",
              "      margin-bottom: 4px;\n",
              "    }\n",
              "\n",
              "    [theme=dark] .colab-df-convert {\n",
              "      background-color: #3B4455;\n",
              "      fill: #D2E3FC;\n",
              "    }\n",
              "\n",
              "    [theme=dark] .colab-df-convert:hover {\n",
              "      background-color: #434B5C;\n",
              "      box-shadow: 0px 1px 3px 1px rgba(0, 0, 0, 0.15);\n",
              "      filter: drop-shadow(0px 1px 2px rgba(0, 0, 0, 0.3));\n",
              "      fill: #FFFFFF;\n",
              "    }\n",
              "  </style>\n",
              "\n",
              "    <script>\n",
              "      const buttonEl =\n",
              "        document.querySelector('#df-1cc07f8e-af62-4171-b782-c38ad6f4fbba button.colab-df-convert');\n",
              "      buttonEl.style.display =\n",
              "        google.colab.kernel.accessAllowed ? 'block' : 'none';\n",
              "\n",
              "      async function convertToInteractive(key) {\n",
              "        const element = document.querySelector('#df-1cc07f8e-af62-4171-b782-c38ad6f4fbba');\n",
              "        const dataTable =\n",
              "          await google.colab.kernel.invokeFunction('convertToInteractive',\n",
              "                                                    [key], {});\n",
              "        if (!dataTable) return;\n",
              "\n",
              "        const docLinkHtml = 'Like what you see? Visit the ' +\n",
              "          '<a target=\"_blank\" href=https://colab.research.google.com/notebooks/data_table.ipynb>data table notebook</a>'\n",
              "          + ' to learn more about interactive tables.';\n",
              "        element.innerHTML = '';\n",
              "        dataTable['output_type'] = 'display_data';\n",
              "        await google.colab.output.renderOutput(dataTable, element);\n",
              "        const docLink = document.createElement('div');\n",
              "        docLink.innerHTML = docLinkHtml;\n",
              "        element.appendChild(docLink);\n",
              "      }\n",
              "    </script>\n",
              "  </div>\n",
              "\n",
              "\n",
              "<div id=\"df-5bb896a3-87cd-49ac-ada4-a3d22cdbce02\">\n",
              "  <button class=\"colab-df-quickchart\" onclick=\"quickchart('df-5bb896a3-87cd-49ac-ada4-a3d22cdbce02')\"\n",
              "            title=\"Suggest charts.\"\n",
              "            style=\"display:none;\">\n",
              "\n",
              "<svg xmlns=\"http://www.w3.org/2000/svg\" height=\"24px\"viewBox=\"0 0 24 24\"\n",
              "     width=\"24px\">\n",
              "    <g>\n",
              "        <path d=\"M19 3H5c-1.1 0-2 .9-2 2v14c0 1.1.9 2 2 2h14c1.1 0 2-.9 2-2V5c0-1.1-.9-2-2-2zM9 17H7v-7h2v7zm4 0h-2V7h2v10zm4 0h-2v-4h2v4z\"/>\n",
              "    </g>\n",
              "</svg>\n",
              "  </button>\n",
              "\n",
              "<style>\n",
              "  .colab-df-quickchart {\n",
              "      --bg-color: #E8F0FE;\n",
              "      --fill-color: #1967D2;\n",
              "      --hover-bg-color: #E2EBFA;\n",
              "      --hover-fill-color: #174EA6;\n",
              "      --disabled-fill-color: #AAA;\n",
              "      --disabled-bg-color: #DDD;\n",
              "  }\n",
              "\n",
              "  [theme=dark] .colab-df-quickchart {\n",
              "      --bg-color: #3B4455;\n",
              "      --fill-color: #D2E3FC;\n",
              "      --hover-bg-color: #434B5C;\n",
              "      --hover-fill-color: #FFFFFF;\n",
              "      --disabled-bg-color: #3B4455;\n",
              "      --disabled-fill-color: #666;\n",
              "  }\n",
              "\n",
              "  .colab-df-quickchart {\n",
              "    background-color: var(--bg-color);\n",
              "    border: none;\n",
              "    border-radius: 50%;\n",
              "    cursor: pointer;\n",
              "    display: none;\n",
              "    fill: var(--fill-color);\n",
              "    height: 32px;\n",
              "    padding: 0;\n",
              "    width: 32px;\n",
              "  }\n",
              "\n",
              "  .colab-df-quickchart:hover {\n",
              "    background-color: var(--hover-bg-color);\n",
              "    box-shadow: 0 1px 2px rgba(60, 64, 67, 0.3), 0 1px 3px 1px rgba(60, 64, 67, 0.15);\n",
              "    fill: var(--button-hover-fill-color);\n",
              "  }\n",
              "\n",
              "  .colab-df-quickchart-complete:disabled,\n",
              "  .colab-df-quickchart-complete:disabled:hover {\n",
              "    background-color: var(--disabled-bg-color);\n",
              "    fill: var(--disabled-fill-color);\n",
              "    box-shadow: none;\n",
              "  }\n",
              "\n",
              "  .colab-df-spinner {\n",
              "    border: 2px solid var(--fill-color);\n",
              "    border-color: transparent;\n",
              "    border-bottom-color: var(--fill-color);\n",
              "    animation:\n",
              "      spin 1s steps(1) infinite;\n",
              "  }\n",
              "\n",
              "  @keyframes spin {\n",
              "    0% {\n",
              "      border-color: transparent;\n",
              "      border-bottom-color: var(--fill-color);\n",
              "      border-left-color: var(--fill-color);\n",
              "    }\n",
              "    20% {\n",
              "      border-color: transparent;\n",
              "      border-left-color: var(--fill-color);\n",
              "      border-top-color: var(--fill-color);\n",
              "    }\n",
              "    30% {\n",
              "      border-color: transparent;\n",
              "      border-left-color: var(--fill-color);\n",
              "      border-top-color: var(--fill-color);\n",
              "      border-right-color: var(--fill-color);\n",
              "    }\n",
              "    40% {\n",
              "      border-color: transparent;\n",
              "      border-right-color: var(--fill-color);\n",
              "      border-top-color: var(--fill-color);\n",
              "    }\n",
              "    60% {\n",
              "      border-color: transparent;\n",
              "      border-right-color: var(--fill-color);\n",
              "    }\n",
              "    80% {\n",
              "      border-color: transparent;\n",
              "      border-right-color: var(--fill-color);\n",
              "      border-bottom-color: var(--fill-color);\n",
              "    }\n",
              "    90% {\n",
              "      border-color: transparent;\n",
              "      border-bottom-color: var(--fill-color);\n",
              "    }\n",
              "  }\n",
              "</style>\n",
              "\n",
              "  <script>\n",
              "    async function quickchart(key) {\n",
              "      const quickchartButtonEl =\n",
              "        document.querySelector('#' + key + ' button');\n",
              "      quickchartButtonEl.disabled = true;  // To prevent multiple clicks.\n",
              "      quickchartButtonEl.classList.add('colab-df-spinner');\n",
              "      try {\n",
              "        const charts = await google.colab.kernel.invokeFunction(\n",
              "            'suggestCharts', [key], {});\n",
              "      } catch (error) {\n",
              "        console.error('Error during call to suggestCharts:', error);\n",
              "      }\n",
              "      quickchartButtonEl.classList.remove('colab-df-spinner');\n",
              "      quickchartButtonEl.classList.add('colab-df-quickchart-complete');\n",
              "    }\n",
              "    (() => {\n",
              "      let quickchartButtonEl =\n",
              "        document.querySelector('#df-5bb896a3-87cd-49ac-ada4-a3d22cdbce02 button');\n",
              "      quickchartButtonEl.style.display =\n",
              "        google.colab.kernel.accessAllowed ? 'block' : 'none';\n",
              "    })();\n",
              "  </script>\n",
              "</div>\n",
              "    </div>\n",
              "  </div>\n"
            ],
            "text/plain": [
              "      regkey_read  dll_loaded  file_created  file_read  directory_enumerated  \\\n",
              "0              11           0             0          0                     5   \n",
              "1               1           0             0          0                     0   \n",
              "2               0           0             0          0                     0   \n",
              "3              66           7             1          0                     0   \n",
              "4              11           6             0          0                     0   \n",
              "...           ...         ...           ...        ...                   ...   \n",
              "1995            0           3             0          1                     0   \n",
              "1996           31          15             1          0                     9   \n",
              "1997            0           0             0          0                     0   \n",
              "1998           18           2             0          0                     0   \n",
              "1999           94          13             1          2                    29   \n",
              "\n",
              "      regkey_opened  command_line  regkey_written  process_path  \\\n",
              "0                 0             0               0             3   \n",
              "1                 0             0               0             2   \n",
              "2                 0             0               0             2   \n",
              "3                 0             1               0             1   \n",
              "4                27             0               0             2   \n",
              "...             ...           ...             ...           ...   \n",
              "1995              0             0               0             2   \n",
              "1996              8             5               1             6   \n",
              "1997              0             0               0             1   \n",
              "1998              0             0               3             2   \n",
              "1999             25             4               2             5   \n",
              "\n",
              "      beh_command_line  \n",
              "0                    3  \n",
              "1                    2  \n",
              "2                    2  \n",
              "3                    1  \n",
              "4                    2  \n",
              "...                ...  \n",
              "1995                 2  \n",
              "1996                 6  \n",
              "1997                 1  \n",
              "1998                 2  \n",
              "1999                 5  \n",
              "\n",
              "[2000 rows x 10 columns]"
            ]
          },
          "execution_count": 40,
          "metadata": {},
          "output_type": "execute_result"
        }
      ],
      "source": [
        "new_X"
      ]
    },
    {
      "cell_type": "code",
      "execution_count": null,
      "metadata": {
        "id": "5qHzpsDkCHnl"
      },
      "outputs": [],
      "source": [
        "X_train, X_test, y_train, y_test = train_test_split(new_X, y, test_size = 0.2, random_state = 42)"
      ]
    },
    {
      "cell_type": "code",
      "execution_count": null,
      "metadata": {
        "id": "AgTLGlPRCQa_"
      },
      "outputs": [],
      "source": [
        "# create random forest object\n",
        "RF2= RandomForestClassifier(n_estimators=4)\n",
        "\n",
        "# train the model using the training set\n",
        "RF2.fit(X_train,y_train)\n",
        "\n",
        "# predict using the testing set\n",
        "rf_pred = RF2.predict(X_test)"
      ]
    },
    {
      "cell_type": "code",
      "execution_count": null,
      "metadata": {
        "colab": {
          "base_uri": "https://localhost:8080/"
        },
        "id": "MZ-Q_uBDCcYl",
        "outputId": "cb60f839-3c1e-4fdd-cf23-92d4c9a93f75"
      },
      "outputs": [
        {
          "name": "stdout",
          "output_type": "stream",
          "text": [
            "Random Forest Accuracy Score: 96.75 %\n"
          ]
        }
      ],
      "source": [
        "acc_score = accuracy_score(y_test, rf_pred)\n",
        "print('Random Forest Accuracy Score:',acc_score*100,'%')"
      ]
    },
    {
      "cell_type": "code",
      "execution_count": null,
      "metadata": {
        "id": "-qELbTFMHDyd"
      },
      "outputs": [],
      "source": [
        "get_prediction_duration(RF2)"
      ]
    },
    {
      "cell_type": "markdown",
      "metadata": {
        "id": "cnCby4MV6r8f"
      },
      "source": [
        "Miscellaneous"
      ]
    },
    {
      "cell_type": "markdown",
      "metadata": {
        "id": "_mQKMSQtTuQT"
      },
      "source": [
        "### 12) Feature Reduction Using Principal Component Analysis"
      ]
    },
    {
      "cell_type": "code",
      "execution_count": null,
      "metadata": {
        "id": "QJk5_mGrG2Qw"
      },
      "outputs": [],
      "source": [
        "from sklearn.preprocessing import scale\n",
        "from sklearn.decomposition import PCA\n",
        "from sklearn import decomposition"
      ]
    },
    {
      "cell_type": "code",
      "execution_count": null,
      "metadata": {
        "colab": {
          "base_uri": "https://localhost:8080/"
        },
        "id": "DJYaPnpMG2Qx",
        "outputId": "82a8e500-315d-48e4-d45f-a9274a36deb7"
      },
      "outputs": [
        {
          "data": {
            "text/plain": [
              "(2000, 4)"
            ]
          },
          "execution_count": 19,
          "metadata": {},
          "output_type": "execute_result"
        }
      ],
      "source": [
        "pca = decomposition.PCA(0.95)\n",
        "X_pca = pca.fit_transform(X)\n",
        "X_pca.shape"
      ]
    },
    {
      "cell_type": "code",
      "execution_count": null,
      "metadata": {
        "colab": {
          "base_uri": "https://localhost:8080/"
        },
        "id": "wWmDldh9G2Qx",
        "outputId": "a52676a1-8bf2-4d63-b051-6258471aa1db"
      },
      "outputs": [
        {
          "data": {
            "text/plain": [
              "4"
            ]
          },
          "execution_count": 20,
          "metadata": {},
          "output_type": "execute_result"
        }
      ],
      "source": [
        "# how many components to get 95% variance\n",
        "pca.n_components_"
      ]
    },
    {
      "cell_type": "code",
      "execution_count": null,
      "metadata": {
        "colab": {
          "base_uri": "https://localhost:8080/"
        },
        "id": "H7ftGc7RG2Qx",
        "outputId": "66490cbd-d42d-46b1-b00f-bf8390caf8e4"
      },
      "outputs": [
        {
          "data": {
            "text/plain": [
              "array([0.70082714, 0.14491858, 0.09151757, 0.03167749])"
            ]
          },
          "execution_count": 21,
          "metadata": {},
          "output_type": "execute_result"
        }
      ],
      "source": [
        "# obtain variance of each component\n",
        "pca.explained_variance_ratio_"
      ]
    },
    {
      "cell_type": "code",
      "execution_count": null,
      "metadata": {
        "id": "_wO7cFJfG2Qx"
      },
      "outputs": [],
      "source": [
        "X_train_pca, X_test_pca, y_train, y_test = train_test_split(X_pca, y, test_size=0.2, random_state=42)"
      ]
    },
    {
      "cell_type": "code",
      "execution_count": null,
      "metadata": {
        "id": "FSdBukxLG2Qx"
      },
      "outputs": [],
      "source": [
        "# create rf object\n",
        "rfpca = RandomForestClassifier()\n",
        "\n",
        "# train the model using the training sets\n",
        "rfpca.fit(X_train_pca, y_train)\n",
        "\n",
        "# predict using the testing set\n",
        "rfpca_pred = rfpca.predict(X_test_pca)"
      ]
    },
    {
      "cell_type": "code",
      "execution_count": null,
      "metadata": {
        "colab": {
          "base_uri": "https://localhost:8080/"
        },
        "id": "EDoTmjI2G2Qy",
        "outputId": "346e6572-d2d8-498b-9800-efa287889c12"
      },
      "outputs": [
        {
          "name": "stdout",
          "output_type": "stream",
          "text": [
            "RF Score: 96.25 %\n"
          ]
        }
      ],
      "source": [
        "acc_score = accuracy_score(y_test, rfpca_pred)\n",
        "print('RF Score:',acc_score*100,'%')"
      ]
    },
    {
      "cell_type": "code",
      "execution_count": null,
      "metadata": {
        "id": "H3dP1jSUG2Qy"
      },
      "outputs": [],
      "source": [
        "def train_and_predict_PCA(num_of_components):\n",
        "\n",
        "  pca = PCA(n_components=num_of_components)\n",
        "  X_pca = pca.fit_transform(X)\n",
        "  X_train_pca, X_test_pca, y_train, y_test = train_test_split(X_pca, y, test_size=0.2, random_state=42)\n",
        "  # create rf\n",
        "  rfpca2 = RandomForestClassifier()\n",
        "\n",
        "  # train the model using the training sets\n",
        "  rfpca2.fit(X_train_pca, y_train)\n",
        "\n",
        "  # predict using the testing set\n",
        "  rfpca_pred2 = rfpca2.predict(X_test_pca)\n",
        "\n",
        "  acc_score = accuracy_score(y_test, rfpca_pred2)\n",
        "  print('Num of components: ',num_of_components,'RF Score:',acc_score*100,'%')\n",
        "\n"
      ]
    },
    {
      "cell_type": "code",
      "execution_count": null,
      "metadata": {
        "colab": {
          "base_uri": "https://localhost:8080/"
        },
        "id": "twDpMC_TG2Qy",
        "outputId": "5c1e9829-cc04-4048-d77c-87f40f6637da"
      },
      "outputs": [
        {
          "name": "stdout",
          "output_type": "stream",
          "text": [
            "Num of components:  1 RF Score: 94.25 %\n",
            "Num of components:  2 RF Score: 96.25 %\n",
            "Num of components:  3 RF Score: 96.25 %\n",
            "Num of components:  4 RF Score: 96.5 %\n",
            "Num of components:  5 RF Score: 96.5 %\n",
            "Num of components:  6 RF Score: 96.5 %\n",
            "Num of components:  7 RF Score: 96.5 %\n",
            "Num of components:  8 RF Score: 96.75 %\n",
            "Num of components:  9 RF Score: 96.75 %\n",
            "Num of components:  10 RF Score: 96.75 %\n",
            "Num of components:  11 RF Score: 96.75 %\n",
            "Num of components:  12 RF Score: 96.75 %\n",
            "Num of components:  13 RF Score: 96.75 %\n",
            "Num of components:  14 RF Score: 96.75 %\n"
          ]
        }
      ],
      "source": [
        "for i in range(1,15):\n",
        "  train_and_predict_PCA(i)"
      ]
    },
    {
      "cell_type": "code",
      "execution_count": null,
      "metadata": {
        "colab": {
          "base_uri": "https://localhost:8080/"
        },
        "id": "B9S-2oZ6G2Qy",
        "outputId": "cbee666f-9031-4c9e-a942-ccffa4a40997"
      },
      "outputs": [
        {
          "name": "stdout",
          "output_type": "stream",
          "text": [
            "RF Score: 93.75 %\n"
          ]
        }
      ],
      "source": [
        "pca = PCA(n_components=4)\n",
        "X_pca = pca.fit_transform(X)\n",
        "X_train_pca, X_test_pca, y_train, y_test = train_test_split(X_pca, y, test_size=0.2, random_state=42)\n",
        "# create rf\n",
        "rfpca2 = RandomForestClassifier()\n",
        "\n",
        "# train the model using the training sets\n",
        "rfpca2.fit(X_train_pca, y_train)\n",
        "\n",
        "# predict using the testing set\n",
        "rfpca_pred2 = rfpca2.predict(X_test_pca)\n",
        "\n",
        "acc_score = accuracy_score(y_test, rfpca_pred2)\n",
        "print('RF Score:',acc_score*100,'%')\n"
      ]
    },
    {
      "cell_type": "code",
      "execution_count": null,
      "metadata": {
        "colab": {
          "base_uri": "https://localhost:8080/"
        },
        "id": "DCONM_zMG2Qy",
        "outputId": "7f1cc983-98d3-4d63-eeb0-c3bd12e3ca53"
      },
      "outputs": [
        {
          "data": {
            "text/plain": [
              "array([0.70082714, 0.14491858, 0.09151757, 0.03167749])"
            ]
          },
          "execution_count": 58,
          "metadata": {},
          "output_type": "execute_result"
        }
      ],
      "source": [
        "pca.explained_variance_ratio_"
      ]
    },
    {
      "cell_type": "code",
      "execution_count": null,
      "metadata": {
        "colab": {
          "base_uri": "https://localhost:8080/"
        },
        "id": "N_CTPVjpG2Qy",
        "outputId": "512f7326-4fca-48c2-9985-1a8c1beba94c"
      },
      "outputs": [
        {
          "name": "stdout",
          "output_type": "stream",
          "text": [
            "RF Score: 94.75 %\n"
          ]
        }
      ],
      "source": [
        "pca = PCA(n_components=5)\n",
        "X_pca = pca.fit_transform(X)\n",
        "X_train_pca, X_test_pca, y_train, y_test = train_test_split(X_pca, y, test_size=0.2, random_state=30)\n",
        "# create rf object\n",
        "rfpca3 = RandomForestClassifier(n_estimators=4)\n",
        "\n",
        "# train the model using the training sets\n",
        "rfpca3.fit(X_train_pca, y_train)\n",
        "\n",
        "# predict using the testing set\n",
        "rfpca_pred3 = rfpca3.predict(X_test_pca)\n",
        "\n",
        "acc_score = accuracy_score(y_test, rfpca_pred3)\n",
        "print('RF Score:',acc_score*100,'%')"
      ]
    },
    {
      "cell_type": "code",
      "execution_count": null,
      "metadata": {
        "colab": {
          "base_uri": "https://localhost:8080/"
        },
        "id": "MTXiM93KG2Qz",
        "outputId": "05b21729-9deb-4dbc-a89d-427f602b8657"
      },
      "outputs": [
        {
          "name": "stdout",
          "output_type": "stream",
          "text": [
            "RF Score: 94.0 %\n"
          ]
        }
      ],
      "source": [
        "pca = PCA(n_components=3)\n",
        "X_pca = pca.fit_transform(X)\n",
        "X_train_pca, X_test_pca, y_train, y_test = train_test_split(X_pca, y, test_size=0.2, random_state=30)\n",
        "# create rf object\n",
        "rfpca4 = RandomForestClassifier(n_estimators=4)\n",
        "\n",
        "# train the model using the training sets\n",
        "rfpca4.fit(X_train_pca, y_train)\n",
        "\n",
        "# predict using the testing set\n",
        "rfpca_pred4 = rfpca4.predict(X_test_pca)\n",
        "\n",
        "acc_score = accuracy_score(y_test, rfpca_pred4)\n",
        "print('RF Score:',acc_score*100,'%')"
      ]
    },
    {
      "cell_type": "code",
      "execution_count": null,
      "metadata": {
        "colab": {
          "base_uri": "https://localhost:8080/"
        },
        "id": "i7YqIFOpG2Qz",
        "outputId": "86b7a0f6-f9af-4cb5-cad8-23c5d49d3063"
      },
      "outputs": [
        {
          "data": {
            "text/plain": [
              "array([0.70082714, 0.14491858, 0.09151757])"
            ]
          },
          "execution_count": 61,
          "metadata": {},
          "output_type": "execute_result"
        }
      ],
      "source": [
        "pca.explained_variance_ratio_"
      ]
    },
    {
      "cell_type": "code",
      "execution_count": null,
      "metadata": {
        "id": "7peg2X1QG2Qz"
      },
      "outputs": [],
      "source": [
        "X = scale(X)"
      ]
    },
    {
      "cell_type": "code",
      "execution_count": null,
      "metadata": {
        "colab": {
          "base_uri": "https://localhost:8080/",
          "height": 74
        },
        "id": "DjYRYwvtG2Qz",
        "outputId": "d658ca83-561e-43c6-a0dd-dffaed8c6e02"
      },
      "outputs": [
        {
          "data": {
            "text/html": [
              "<style>#sk-container-id-1 {color: black;background-color: white;}#sk-container-id-1 pre{padding: 0;}#sk-container-id-1 div.sk-toggleable {background-color: white;}#sk-container-id-1 label.sk-toggleable__label {cursor: pointer;display: block;width: 100%;margin-bottom: 0;padding: 0.3em;box-sizing: border-box;text-align: center;}#sk-container-id-1 label.sk-toggleable__label-arrow:before {content: \"▸\";float: left;margin-right: 0.25em;color: #696969;}#sk-container-id-1 label.sk-toggleable__label-arrow:hover:before {color: black;}#sk-container-id-1 div.sk-estimator:hover label.sk-toggleable__label-arrow:before {color: black;}#sk-container-id-1 div.sk-toggleable__content {max-height: 0;max-width: 0;overflow: hidden;text-align: left;background-color: #f0f8ff;}#sk-container-id-1 div.sk-toggleable__content pre {margin: 0.2em;color: black;border-radius: 0.25em;background-color: #f0f8ff;}#sk-container-id-1 input.sk-toggleable__control:checked~div.sk-toggleable__content {max-height: 200px;max-width: 100%;overflow: auto;}#sk-container-id-1 input.sk-toggleable__control:checked~label.sk-toggleable__label-arrow:before {content: \"▾\";}#sk-container-id-1 div.sk-estimator input.sk-toggleable__control:checked~label.sk-toggleable__label {background-color: #d4ebff;}#sk-container-id-1 div.sk-label input.sk-toggleable__control:checked~label.sk-toggleable__label {background-color: #d4ebff;}#sk-container-id-1 input.sk-hidden--visually {border: 0;clip: rect(1px 1px 1px 1px);clip: rect(1px, 1px, 1px, 1px);height: 1px;margin: -1px;overflow: hidden;padding: 0;position: absolute;width: 1px;}#sk-container-id-1 div.sk-estimator {font-family: monospace;background-color: #f0f8ff;border: 1px dotted black;border-radius: 0.25em;box-sizing: border-box;margin-bottom: 0.5em;}#sk-container-id-1 div.sk-estimator:hover {background-color: #d4ebff;}#sk-container-id-1 div.sk-parallel-item::after {content: \"\";width: 100%;border-bottom: 1px solid gray;flex-grow: 1;}#sk-container-id-1 div.sk-label:hover label.sk-toggleable__label {background-color: #d4ebff;}#sk-container-id-1 div.sk-serial::before {content: \"\";position: absolute;border-left: 1px solid gray;box-sizing: border-box;top: 0;bottom: 0;left: 50%;z-index: 0;}#sk-container-id-1 div.sk-serial {display: flex;flex-direction: column;align-items: center;background-color: white;padding-right: 0.2em;padding-left: 0.2em;position: relative;}#sk-container-id-1 div.sk-item {position: relative;z-index: 1;}#sk-container-id-1 div.sk-parallel {display: flex;align-items: stretch;justify-content: center;background-color: white;position: relative;}#sk-container-id-1 div.sk-item::before, #sk-container-id-1 div.sk-parallel-item::before {content: \"\";position: absolute;border-left: 1px solid gray;box-sizing: border-box;top: 0;bottom: 0;left: 50%;z-index: -1;}#sk-container-id-1 div.sk-parallel-item {display: flex;flex-direction: column;z-index: 1;position: relative;background-color: white;}#sk-container-id-1 div.sk-parallel-item:first-child::after {align-self: flex-end;width: 50%;}#sk-container-id-1 div.sk-parallel-item:last-child::after {align-self: flex-start;width: 50%;}#sk-container-id-1 div.sk-parallel-item:only-child::after {width: 0;}#sk-container-id-1 div.sk-dashed-wrapped {border: 1px dashed gray;margin: 0 0.4em 0.5em 0.4em;box-sizing: border-box;padding-bottom: 0.4em;background-color: white;}#sk-container-id-1 div.sk-label label {font-family: monospace;font-weight: bold;display: inline-block;line-height: 1.2em;}#sk-container-id-1 div.sk-label-container {text-align: center;}#sk-container-id-1 div.sk-container {/* jupyter's `normalize.less` sets `[hidden] { display: none; }` but bootstrap.min.css set `[hidden] { display: none !important; }` so we also need the `!important` here to be able to override the default hidden behavior on the sphinx rendered scikit-learn.org. See: https://github.com/scikit-learn/scikit-learn/issues/21755 */display: inline-block !important;position: relative;}#sk-container-id-1 div.sk-text-repr-fallback {display: none;}</style><div id=\"sk-container-id-1\" class=\"sk-top-container\"><div class=\"sk-text-repr-fallback\"><pre>PCA(n_components=3)</pre><b>In a Jupyter environment, please rerun this cell to show the HTML representation or trust the notebook. <br />On GitHub, the HTML representation is unable to render, please try loading this page with nbviewer.org.</b></div><div class=\"sk-container\" hidden><div class=\"sk-item\"><div class=\"sk-estimator sk-toggleable\"><input class=\"sk-toggleable__control sk-hidden--visually\" id=\"sk-estimator-id-1\" type=\"checkbox\" checked><label for=\"sk-estimator-id-1\" class=\"sk-toggleable__label sk-toggleable__label-arrow\">PCA</label><div class=\"sk-toggleable__content\"><pre>PCA(n_components=3)</pre></div></div></div></div></div>"
            ],
            "text/plain": [
              "PCA(n_components=3)"
            ]
          },
          "execution_count": 63,
          "metadata": {},
          "output_type": "execute_result"
        }
      ],
      "source": [
        "pca = decomposition.PCA(n_components=3)\n",
        "pca.fit(X)"
      ]
    },
    {
      "cell_type": "code",
      "execution_count": null,
      "metadata": {
        "id": "GM6040iPG2Qz"
      },
      "outputs": [],
      "source": [
        "scores = pca.transform(X)\n",
        "scores_df = pd.DataFrame(scores, columns=['PC1', 'PC2', 'PC3'])"
      ]
    },
    {
      "cell_type": "code",
      "execution_count": null,
      "metadata": {
        "id": "DkyOWCNvG2Qz"
      },
      "outputs": [],
      "source": [
        "y_list = []\n",
        "\n",
        "for a in y:\n",
        "  if a == 'G':\n",
        "    y_list.append('Goodware')\n",
        "  elif a == 'L':\n",
        "    y_list.append('Locker Ransomware')\n",
        "  else:\n",
        "    y_list.append('Encryptor Ransomware')\n",
        "\n",
        "family = pd.DataFrame(y_list, columns=['family'])"
      ]
    },
    {
      "cell_type": "code",
      "execution_count": null,
      "metadata": {
        "id": "-xRg0kOvG2Qz"
      },
      "outputs": [],
      "source": [
        "df_scores = pd.concat([scores_df, family], axis=1)"
      ]
    },
    {
      "cell_type": "code",
      "execution_count": null,
      "metadata": {
        "id": "cQ608CmIG2Q0"
      },
      "outputs": [],
      "source": [
        "loadings = pca.components_.T\n",
        "df_loadings = pd.DataFrame(loadings, columns=['PC1', 'PC2','PC3'], index=df.columns.drop('family'))"
      ]
    },
    {
      "cell_type": "code",
      "execution_count": null,
      "metadata": {
        "id": "CEXiM-H5G2Q0"
      },
      "outputs": [],
      "source": [
        "explained_variance = pca.explained_variance_ratio_"
      ]
    },
    {
      "cell_type": "code",
      "execution_count": null,
      "metadata": {
        "colab": {
          "base_uri": "https://localhost:8080/",
          "height": 174
        },
        "id": "g8aRTUVOG2Q0",
        "outputId": "c6f667df-e946-4ed8-b343-be39b1005ceb"
      },
      "outputs": [
        {
          "data": {
            "text/html": [
              "\n",
              "  <div id=\"df-3faabb50-eff4-4761-b44e-e8d3126b9fdb\" class=\"colab-df-container\">\n",
              "    <div>\n",
              "<style scoped>\n",
              "    .dataframe tbody tr th:only-of-type {\n",
              "        vertical-align: middle;\n",
              "    }\n",
              "\n",
              "    .dataframe tbody tr th {\n",
              "        vertical-align: top;\n",
              "    }\n",
              "\n",
              "    .dataframe thead th {\n",
              "        text-align: right;\n",
              "    }\n",
              "</style>\n",
              "<table border=\"1\" class=\"dataframe\">\n",
              "  <thead>\n",
              "    <tr style=\"text-align: right;\">\n",
              "      <th></th>\n",
              "      <th>PC</th>\n",
              "      <th>Explained Variance</th>\n",
              "      <th>Cumulative Variance</th>\n",
              "    </tr>\n",
              "  </thead>\n",
              "  <tbody>\n",
              "    <tr>\n",
              "      <th>0</th>\n",
              "      <td></td>\n",
              "      <td>0.000000</td>\n",
              "      <td>0.000</td>\n",
              "    </tr>\n",
              "    <tr>\n",
              "      <th>1</th>\n",
              "      <td>PC1</td>\n",
              "      <td>0.305343</td>\n",
              "      <td>0.305</td>\n",
              "    </tr>\n",
              "    <tr>\n",
              "      <th>2</th>\n",
              "      <td>PC2</td>\n",
              "      <td>0.091467</td>\n",
              "      <td>0.396</td>\n",
              "    </tr>\n",
              "    <tr>\n",
              "      <th>3</th>\n",
              "      <td>PC3</td>\n",
              "      <td>0.084558</td>\n",
              "      <td>0.481</td>\n",
              "    </tr>\n",
              "  </tbody>\n",
              "</table>\n",
              "</div>\n",
              "    <div class=\"colab-df-buttons\">\n",
              "\n",
              "  <div class=\"colab-df-container\">\n",
              "    <button class=\"colab-df-convert\" onclick=\"convertToInteractive('df-3faabb50-eff4-4761-b44e-e8d3126b9fdb')\"\n",
              "            title=\"Convert this dataframe to an interactive table.\"\n",
              "            style=\"display:none;\">\n",
              "\n",
              "  <svg xmlns=\"http://www.w3.org/2000/svg\" height=\"24px\" viewBox=\"0 -960 960 960\">\n",
              "    <path d=\"M120-120v-720h720v720H120Zm60-500h600v-160H180v160Zm220 220h160v-160H400v160Zm0 220h160v-160H400v160ZM180-400h160v-160H180v160Zm440 0h160v-160H620v160ZM180-180h160v-160H180v160Zm440 0h160v-160H620v160Z\"/>\n",
              "  </svg>\n",
              "    </button>\n",
              "\n",
              "  <style>\n",
              "    .colab-df-container {\n",
              "      display:flex;\n",
              "      gap: 12px;\n",
              "    }\n",
              "\n",
              "    .colab-df-convert {\n",
              "      background-color: #E8F0FE;\n",
              "      border: none;\n",
              "      border-radius: 50%;\n",
              "      cursor: pointer;\n",
              "      display: none;\n",
              "      fill: #1967D2;\n",
              "      height: 32px;\n",
              "      padding: 0 0 0 0;\n",
              "      width: 32px;\n",
              "    }\n",
              "\n",
              "    .colab-df-convert:hover {\n",
              "      background-color: #E2EBFA;\n",
              "      box-shadow: 0px 1px 2px rgba(60, 64, 67, 0.3), 0px 1px 3px 1px rgba(60, 64, 67, 0.15);\n",
              "      fill: #174EA6;\n",
              "    }\n",
              "\n",
              "    .colab-df-buttons div {\n",
              "      margin-bottom: 4px;\n",
              "    }\n",
              "\n",
              "    [theme=dark] .colab-df-convert {\n",
              "      background-color: #3B4455;\n",
              "      fill: #D2E3FC;\n",
              "    }\n",
              "\n",
              "    [theme=dark] .colab-df-convert:hover {\n",
              "      background-color: #434B5C;\n",
              "      box-shadow: 0px 1px 3px 1px rgba(0, 0, 0, 0.15);\n",
              "      filter: drop-shadow(0px 1px 2px rgba(0, 0, 0, 0.3));\n",
              "      fill: #FFFFFF;\n",
              "    }\n",
              "  </style>\n",
              "\n",
              "    <script>\n",
              "      const buttonEl =\n",
              "        document.querySelector('#df-3faabb50-eff4-4761-b44e-e8d3126b9fdb button.colab-df-convert');\n",
              "      buttonEl.style.display =\n",
              "        google.colab.kernel.accessAllowed ? 'block' : 'none';\n",
              "\n",
              "      async function convertToInteractive(key) {\n",
              "        const element = document.querySelector('#df-3faabb50-eff4-4761-b44e-e8d3126b9fdb');\n",
              "        const dataTable =\n",
              "          await google.colab.kernel.invokeFunction('convertToInteractive',\n",
              "                                                    [key], {});\n",
              "        if (!dataTable) return;\n",
              "\n",
              "        const docLinkHtml = 'Like what you see? Visit the ' +\n",
              "          '<a target=\"_blank\" href=https://colab.research.google.com/notebooks/data_table.ipynb>data table notebook</a>'\n",
              "          + ' to learn more about interactive tables.';\n",
              "        element.innerHTML = '';\n",
              "        dataTable['output_type'] = 'display_data';\n",
              "        await google.colab.output.renderOutput(dataTable, element);\n",
              "        const docLink = document.createElement('div');\n",
              "        docLink.innerHTML = docLinkHtml;\n",
              "        element.appendChild(docLink);\n",
              "      }\n",
              "    </script>\n",
              "  </div>\n",
              "\n",
              "\n",
              "<div id=\"df-ee5d621b-9d18-4a8c-bd4e-7267612701be\">\n",
              "  <button class=\"colab-df-quickchart\" onclick=\"quickchart('df-ee5d621b-9d18-4a8c-bd4e-7267612701be')\"\n",
              "            title=\"Suggest charts.\"\n",
              "            style=\"display:none;\">\n",
              "\n",
              "<svg xmlns=\"http://www.w3.org/2000/svg\" height=\"24px\"viewBox=\"0 0 24 24\"\n",
              "     width=\"24px\">\n",
              "    <g>\n",
              "        <path d=\"M19 3H5c-1.1 0-2 .9-2 2v14c0 1.1.9 2 2 2h14c1.1 0 2-.9 2-2V5c0-1.1-.9-2-2-2zM9 17H7v-7h2v7zm4 0h-2V7h2v10zm4 0h-2v-4h2v4z\"/>\n",
              "    </g>\n",
              "</svg>\n",
              "  </button>\n",
              "\n",
              "<style>\n",
              "  .colab-df-quickchart {\n",
              "      --bg-color: #E8F0FE;\n",
              "      --fill-color: #1967D2;\n",
              "      --hover-bg-color: #E2EBFA;\n",
              "      --hover-fill-color: #174EA6;\n",
              "      --disabled-fill-color: #AAA;\n",
              "      --disabled-bg-color: #DDD;\n",
              "  }\n",
              "\n",
              "  [theme=dark] .colab-df-quickchart {\n",
              "      --bg-color: #3B4455;\n",
              "      --fill-color: #D2E3FC;\n",
              "      --hover-bg-color: #434B5C;\n",
              "      --hover-fill-color: #FFFFFF;\n",
              "      --disabled-bg-color: #3B4455;\n",
              "      --disabled-fill-color: #666;\n",
              "  }\n",
              "\n",
              "  .colab-df-quickchart {\n",
              "    background-color: var(--bg-color);\n",
              "    border: none;\n",
              "    border-radius: 50%;\n",
              "    cursor: pointer;\n",
              "    display: none;\n",
              "    fill: var(--fill-color);\n",
              "    height: 32px;\n",
              "    padding: 0;\n",
              "    width: 32px;\n",
              "  }\n",
              "\n",
              "  .colab-df-quickchart:hover {\n",
              "    background-color: var(--hover-bg-color);\n",
              "    box-shadow: 0 1px 2px rgba(60, 64, 67, 0.3), 0 1px 3px 1px rgba(60, 64, 67, 0.15);\n",
              "    fill: var(--button-hover-fill-color);\n",
              "  }\n",
              "\n",
              "  .colab-df-quickchart-complete:disabled,\n",
              "  .colab-df-quickchart-complete:disabled:hover {\n",
              "    background-color: var(--disabled-bg-color);\n",
              "    fill: var(--disabled-fill-color);\n",
              "    box-shadow: none;\n",
              "  }\n",
              "\n",
              "  .colab-df-spinner {\n",
              "    border: 2px solid var(--fill-color);\n",
              "    border-color: transparent;\n",
              "    border-bottom-color: var(--fill-color);\n",
              "    animation:\n",
              "      spin 1s steps(1) infinite;\n",
              "  }\n",
              "\n",
              "  @keyframes spin {\n",
              "    0% {\n",
              "      border-color: transparent;\n",
              "      border-bottom-color: var(--fill-color);\n",
              "      border-left-color: var(--fill-color);\n",
              "    }\n",
              "    20% {\n",
              "      border-color: transparent;\n",
              "      border-left-color: var(--fill-color);\n",
              "      border-top-color: var(--fill-color);\n",
              "    }\n",
              "    30% {\n",
              "      border-color: transparent;\n",
              "      border-left-color: var(--fill-color);\n",
              "      border-top-color: var(--fill-color);\n",
              "      border-right-color: var(--fill-color);\n",
              "    }\n",
              "    40% {\n",
              "      border-color: transparent;\n",
              "      border-right-color: var(--fill-color);\n",
              "      border-top-color: var(--fill-color);\n",
              "    }\n",
              "    60% {\n",
              "      border-color: transparent;\n",
              "      border-right-color: var(--fill-color);\n",
              "    }\n",
              "    80% {\n",
              "      border-color: transparent;\n",
              "      border-right-color: var(--fill-color);\n",
              "      border-bottom-color: var(--fill-color);\n",
              "    }\n",
              "    90% {\n",
              "      border-color: transparent;\n",
              "      border-bottom-color: var(--fill-color);\n",
              "    }\n",
              "  }\n",
              "</style>\n",
              "\n",
              "  <script>\n",
              "    async function quickchart(key) {\n",
              "      const quickchartButtonEl =\n",
              "        document.querySelector('#' + key + ' button');\n",
              "      quickchartButtonEl.disabled = true;  // To prevent multiple clicks.\n",
              "      quickchartButtonEl.classList.add('colab-df-spinner');\n",
              "      try {\n",
              "        const charts = await google.colab.kernel.invokeFunction(\n",
              "            'suggestCharts', [key], {});\n",
              "      } catch (error) {\n",
              "        console.error('Error during call to suggestCharts:', error);\n",
              "      }\n",
              "      quickchartButtonEl.classList.remove('colab-df-spinner');\n",
              "      quickchartButtonEl.classList.add('colab-df-quickchart-complete');\n",
              "    }\n",
              "    (() => {\n",
              "      let quickchartButtonEl =\n",
              "        document.querySelector('#df-ee5d621b-9d18-4a8c-bd4e-7267612701be button');\n",
              "      quickchartButtonEl.style.display =\n",
              "        google.colab.kernel.accessAllowed ? 'block' : 'none';\n",
              "    })();\n",
              "  </script>\n",
              "</div>\n",
              "    </div>\n",
              "  </div>\n"
            ],
            "text/plain": [
              "    PC  Explained Variance  Cumulative Variance\n",
              "0                 0.000000                0.000\n",
              "1  PC1            0.305343                0.305\n",
              "2  PC2            0.091467                0.396\n",
              "3  PC3            0.084558                0.481"
            ]
          },
          "execution_count": 69,
          "metadata": {},
          "output_type": "execute_result"
        }
      ],
      "source": [
        "import plotly.express as px\n",
        "\n",
        "explained_variance = np.insert(explained_variance, 0, 0)\n",
        "cumulative_variance = np.cumsum(np.round(explained_variance, decimals=3))\n",
        "\n",
        "pc_df = pd.DataFrame(['','PC1', 'PC2', 'PC3'], columns=['PC'])\n",
        "explained_variance_df = pd.DataFrame(explained_variance, columns=['Explained Variance'])\n",
        "cumulative_variance_df = pd.DataFrame(cumulative_variance, columns=['Cumulative Variance'])\n",
        "\n",
        "df_explained_variance = pd.concat([pc_df, explained_variance_df, cumulative_variance_df], axis=1)\n",
        "df_explained_variance"
      ]
    },
    {
      "cell_type": "markdown",
      "metadata": {
        "id": "h6z1VqKCG2Q0"
      },
      "source": [
        "Scree Plot"
      ]
    },
    {
      "cell_type": "code",
      "execution_count": null,
      "metadata": {
        "colab": {
          "base_uri": "https://localhost:8080/",
          "height": 542
        },
        "id": "BpciHlk5G2Q0",
        "outputId": "6476f97d-17dd-497d-abb3-eadaa0eea405"
      },
      "outputs": [
        {
          "data": {
            "text/html": [
              "<html>\n",
              "<head><meta charset=\"utf-8\" /></head>\n",
              "<body>\n",
              "    <div>            <script src=\"https://cdnjs.cloudflare.com/ajax/libs/mathjax/2.7.5/MathJax.js?config=TeX-AMS-MML_SVG\"></script><script type=\"text/javascript\">if (window.MathJax && window.MathJax.Hub && window.MathJax.Hub.Config) {window.MathJax.Hub.Config({SVG: {font: \"STIX-Web\"}});}</script>                <script type=\"text/javascript\">window.PlotlyConfig = {MathJaxConfig: 'local'};</script>\n",
              "        <script charset=\"utf-8\" src=\"https://cdn.plot.ly/plotly-2.24.1.min.js\"></script>                <div id=\"03d85089-1d4d-4dfd-a7b4-3f81e4be5509\" class=\"plotly-graph-div\" style=\"height:525px; width:100%;\"></div>            <script type=\"text/javascript\">                                    window.PLOTLYENV=window.PLOTLYENV || {};                                    if (document.getElementById(\"03d85089-1d4d-4dfd-a7b4-3f81e4be5509\")) {                    Plotly.newPlot(                        \"03d85089-1d4d-4dfd-a7b4-3f81e4be5509\",                        [{\"marker\":{\"color\":\"LightSeaGreen\",\"size\":15},\"x\":[\"\",\"PC1\",\"PC2\",\"PC3\"],\"y\":[0.0,0.305,0.396,0.48100000000000004],\"type\":\"scatter\"},{\"marker\":{\"color\":\"RoyalBlue\"},\"x\":[\"\",\"PC1\",\"PC2\",\"PC3\"],\"y\":[0.0,0.3053434204611409,0.0914674718339616,0.08455776737845536],\"type\":\"bar\"}],                        {\"template\":{\"data\":{\"histogram2dcontour\":[{\"type\":\"histogram2dcontour\",\"colorbar\":{\"outlinewidth\":0,\"ticks\":\"\"},\"colorscale\":[[0.0,\"#0d0887\"],[0.1111111111111111,\"#46039f\"],[0.2222222222222222,\"#7201a8\"],[0.3333333333333333,\"#9c179e\"],[0.4444444444444444,\"#bd3786\"],[0.5555555555555556,\"#d8576b\"],[0.6666666666666666,\"#ed7953\"],[0.7777777777777778,\"#fb9f3a\"],[0.8888888888888888,\"#fdca26\"],[1.0,\"#f0f921\"]]}],\"choropleth\":[{\"type\":\"choropleth\",\"colorbar\":{\"outlinewidth\":0,\"ticks\":\"\"}}],\"histogram2d\":[{\"type\":\"histogram2d\",\"colorbar\":{\"outlinewidth\":0,\"ticks\":\"\"},\"colorscale\":[[0.0,\"#0d0887\"],[0.1111111111111111,\"#46039f\"],[0.2222222222222222,\"#7201a8\"],[0.3333333333333333,\"#9c179e\"],[0.4444444444444444,\"#bd3786\"],[0.5555555555555556,\"#d8576b\"],[0.6666666666666666,\"#ed7953\"],[0.7777777777777778,\"#fb9f3a\"],[0.8888888888888888,\"#fdca26\"],[1.0,\"#f0f921\"]]}],\"heatmap\":[{\"type\":\"heatmap\",\"colorbar\":{\"outlinewidth\":0,\"ticks\":\"\"},\"colorscale\":[[0.0,\"#0d0887\"],[0.1111111111111111,\"#46039f\"],[0.2222222222222222,\"#7201a8\"],[0.3333333333333333,\"#9c179e\"],[0.4444444444444444,\"#bd3786\"],[0.5555555555555556,\"#d8576b\"],[0.6666666666666666,\"#ed7953\"],[0.7777777777777778,\"#fb9f3a\"],[0.8888888888888888,\"#fdca26\"],[1.0,\"#f0f921\"]]}],\"heatmapgl\":[{\"type\":\"heatmapgl\",\"colorbar\":{\"outlinewidth\":0,\"ticks\":\"\"},\"colorscale\":[[0.0,\"#0d0887\"],[0.1111111111111111,\"#46039f\"],[0.2222222222222222,\"#7201a8\"],[0.3333333333333333,\"#9c179e\"],[0.4444444444444444,\"#bd3786\"],[0.5555555555555556,\"#d8576b\"],[0.6666666666666666,\"#ed7953\"],[0.7777777777777778,\"#fb9f3a\"],[0.8888888888888888,\"#fdca26\"],[1.0,\"#f0f921\"]]}],\"contourcarpet\":[{\"type\":\"contourcarpet\",\"colorbar\":{\"outlinewidth\":0,\"ticks\":\"\"}}],\"contour\":[{\"type\":\"contour\",\"colorbar\":{\"outlinewidth\":0,\"ticks\":\"\"},\"colorscale\":[[0.0,\"#0d0887\"],[0.1111111111111111,\"#46039f\"],[0.2222222222222222,\"#7201a8\"],[0.3333333333333333,\"#9c179e\"],[0.4444444444444444,\"#bd3786\"],[0.5555555555555556,\"#d8576b\"],[0.6666666666666666,\"#ed7953\"],[0.7777777777777778,\"#fb9f3a\"],[0.8888888888888888,\"#fdca26\"],[1.0,\"#f0f921\"]]}],\"surface\":[{\"type\":\"surface\",\"colorbar\":{\"outlinewidth\":0,\"ticks\":\"\"},\"colorscale\":[[0.0,\"#0d0887\"],[0.1111111111111111,\"#46039f\"],[0.2222222222222222,\"#7201a8\"],[0.3333333333333333,\"#9c179e\"],[0.4444444444444444,\"#bd3786\"],[0.5555555555555556,\"#d8576b\"],[0.6666666666666666,\"#ed7953\"],[0.7777777777777778,\"#fb9f3a\"],[0.8888888888888888,\"#fdca26\"],[1.0,\"#f0f921\"]]}],\"mesh3d\":[{\"type\":\"mesh3d\",\"colorbar\":{\"outlinewidth\":0,\"ticks\":\"\"}}],\"scatter\":[{\"fillpattern\":{\"fillmode\":\"overlay\",\"size\":10,\"solidity\":0.2},\"type\":\"scatter\"}],\"parcoords\":[{\"type\":\"parcoords\",\"line\":{\"colorbar\":{\"outlinewidth\":0,\"ticks\":\"\"}}}],\"scatterpolargl\":[{\"type\":\"scatterpolargl\",\"marker\":{\"colorbar\":{\"outlinewidth\":0,\"ticks\":\"\"}}}],\"bar\":[{\"error_x\":{\"color\":\"#2a3f5f\"},\"error_y\":{\"color\":\"#2a3f5f\"},\"marker\":{\"line\":{\"color\":\"#E5ECF6\",\"width\":0.5},\"pattern\":{\"fillmode\":\"overlay\",\"size\":10,\"solidity\":0.2}},\"type\":\"bar\"}],\"scattergeo\":[{\"type\":\"scattergeo\",\"marker\":{\"colorbar\":{\"outlinewidth\":0,\"ticks\":\"\"}}}],\"scatterpolar\":[{\"type\":\"scatterpolar\",\"marker\":{\"colorbar\":{\"outlinewidth\":0,\"ticks\":\"\"}}}],\"histogram\":[{\"marker\":{\"pattern\":{\"fillmode\":\"overlay\",\"size\":10,\"solidity\":0.2}},\"type\":\"histogram\"}],\"scattergl\":[{\"type\":\"scattergl\",\"marker\":{\"colorbar\":{\"outlinewidth\":0,\"ticks\":\"\"}}}],\"scatter3d\":[{\"type\":\"scatter3d\",\"line\":{\"colorbar\":{\"outlinewidth\":0,\"ticks\":\"\"}},\"marker\":{\"colorbar\":{\"outlinewidth\":0,\"ticks\":\"\"}}}],\"scattermapbox\":[{\"type\":\"scattermapbox\",\"marker\":{\"colorbar\":{\"outlinewidth\":0,\"ticks\":\"\"}}}],\"scatterternary\":[{\"type\":\"scatterternary\",\"marker\":{\"colorbar\":{\"outlinewidth\":0,\"ticks\":\"\"}}}],\"scattercarpet\":[{\"type\":\"scattercarpet\",\"marker\":{\"colorbar\":{\"outlinewidth\":0,\"ticks\":\"\"}}}],\"carpet\":[{\"aaxis\":{\"endlinecolor\":\"#2a3f5f\",\"gridcolor\":\"white\",\"linecolor\":\"white\",\"minorgridcolor\":\"white\",\"startlinecolor\":\"#2a3f5f\"},\"baxis\":{\"endlinecolor\":\"#2a3f5f\",\"gridcolor\":\"white\",\"linecolor\":\"white\",\"minorgridcolor\":\"white\",\"startlinecolor\":\"#2a3f5f\"},\"type\":\"carpet\"}],\"table\":[{\"cells\":{\"fill\":{\"color\":\"#EBF0F8\"},\"line\":{\"color\":\"white\"}},\"header\":{\"fill\":{\"color\":\"#C8D4E3\"},\"line\":{\"color\":\"white\"}},\"type\":\"table\"}],\"barpolar\":[{\"marker\":{\"line\":{\"color\":\"#E5ECF6\",\"width\":0.5},\"pattern\":{\"fillmode\":\"overlay\",\"size\":10,\"solidity\":0.2}},\"type\":\"barpolar\"}],\"pie\":[{\"automargin\":true,\"type\":\"pie\"}]},\"layout\":{\"autotypenumbers\":\"strict\",\"colorway\":[\"#636efa\",\"#EF553B\",\"#00cc96\",\"#ab63fa\",\"#FFA15A\",\"#19d3f3\",\"#FF6692\",\"#B6E880\",\"#FF97FF\",\"#FECB52\"],\"font\":{\"color\":\"#2a3f5f\"},\"hovermode\":\"closest\",\"hoverlabel\":{\"align\":\"left\"},\"paper_bgcolor\":\"white\",\"plot_bgcolor\":\"#E5ECF6\",\"polar\":{\"bgcolor\":\"#E5ECF6\",\"angularaxis\":{\"gridcolor\":\"white\",\"linecolor\":\"white\",\"ticks\":\"\"},\"radialaxis\":{\"gridcolor\":\"white\",\"linecolor\":\"white\",\"ticks\":\"\"}},\"ternary\":{\"bgcolor\":\"#E5ECF6\",\"aaxis\":{\"gridcolor\":\"white\",\"linecolor\":\"white\",\"ticks\":\"\"},\"baxis\":{\"gridcolor\":\"white\",\"linecolor\":\"white\",\"ticks\":\"\"},\"caxis\":{\"gridcolor\":\"white\",\"linecolor\":\"white\",\"ticks\":\"\"}},\"coloraxis\":{\"colorbar\":{\"outlinewidth\":0,\"ticks\":\"\"}},\"colorscale\":{\"sequential\":[[0.0,\"#0d0887\"],[0.1111111111111111,\"#46039f\"],[0.2222222222222222,\"#7201a8\"],[0.3333333333333333,\"#9c179e\"],[0.4444444444444444,\"#bd3786\"],[0.5555555555555556,\"#d8576b\"],[0.6666666666666666,\"#ed7953\"],[0.7777777777777778,\"#fb9f3a\"],[0.8888888888888888,\"#fdca26\"],[1.0,\"#f0f921\"]],\"sequentialminus\":[[0.0,\"#0d0887\"],[0.1111111111111111,\"#46039f\"],[0.2222222222222222,\"#7201a8\"],[0.3333333333333333,\"#9c179e\"],[0.4444444444444444,\"#bd3786\"],[0.5555555555555556,\"#d8576b\"],[0.6666666666666666,\"#ed7953\"],[0.7777777777777778,\"#fb9f3a\"],[0.8888888888888888,\"#fdca26\"],[1.0,\"#f0f921\"]],\"diverging\":[[0,\"#8e0152\"],[0.1,\"#c51b7d\"],[0.2,\"#de77ae\"],[0.3,\"#f1b6da\"],[0.4,\"#fde0ef\"],[0.5,\"#f7f7f7\"],[0.6,\"#e6f5d0\"],[0.7,\"#b8e186\"],[0.8,\"#7fbc41\"],[0.9,\"#4d9221\"],[1,\"#276419\"]]},\"xaxis\":{\"gridcolor\":\"white\",\"linecolor\":\"white\",\"ticks\":\"\",\"title\":{\"standoff\":15},\"zerolinecolor\":\"white\",\"automargin\":true,\"zerolinewidth\":2},\"yaxis\":{\"gridcolor\":\"white\",\"linecolor\":\"white\",\"ticks\":\"\",\"title\":{\"standoff\":15},\"zerolinecolor\":\"white\",\"automargin\":true,\"zerolinewidth\":2},\"scene\":{\"xaxis\":{\"backgroundcolor\":\"#E5ECF6\",\"gridcolor\":\"white\",\"linecolor\":\"white\",\"showbackground\":true,\"ticks\":\"\",\"zerolinecolor\":\"white\",\"gridwidth\":2},\"yaxis\":{\"backgroundcolor\":\"#E5ECF6\",\"gridcolor\":\"white\",\"linecolor\":\"white\",\"showbackground\":true,\"ticks\":\"\",\"zerolinecolor\":\"white\",\"gridwidth\":2},\"zaxis\":{\"backgroundcolor\":\"#E5ECF6\",\"gridcolor\":\"white\",\"linecolor\":\"white\",\"showbackground\":true,\"ticks\":\"\",\"zerolinecolor\":\"white\",\"gridwidth\":2}},\"shapedefaults\":{\"line\":{\"color\":\"#2a3f5f\"}},\"annotationdefaults\":{\"arrowcolor\":\"#2a3f5f\",\"arrowhead\":0,\"arrowwidth\":1},\"geo\":{\"bgcolor\":\"white\",\"landcolor\":\"#E5ECF6\",\"subunitcolor\":\"white\",\"showland\":true,\"showlakes\":true,\"lakecolor\":\"white\"},\"title\":{\"x\":0.05},\"mapbox\":{\"style\":\"light\"}}}},                        {\"responsive\": true}                    ).then(function(){\n",
              "                            \n",
              "var gd = document.getElementById('03d85089-1d4d-4dfd-a7b4-3f81e4be5509');\n",
              "var x = new MutationObserver(function (mutations, observer) {{\n",
              "        var display = window.getComputedStyle(gd).display;\n",
              "        if (!display || display === 'none') {{\n",
              "            console.log([gd, 'removed!']);\n",
              "            Plotly.purge(gd);\n",
              "            observer.disconnect();\n",
              "        }}\n",
              "}});\n",
              "\n",
              "// Listen for the removal of the full notebook cells\n",
              "var notebookContainer = gd.closest('#notebook-container');\n",
              "if (notebookContainer) {{\n",
              "    x.observe(notebookContainer, {childList: true});\n",
              "}}\n",
              "\n",
              "// Listen for the clearing of the current output cell\n",
              "var outputEl = gd.closest('.output');\n",
              "if (outputEl) {{\n",
              "    x.observe(outputEl, {childList: true});\n",
              "}}\n",
              "\n",
              "                        })                };                            </script>        </div>\n",
              "</body>\n",
              "</html>"
            ]
          },
          "metadata": {},
          "output_type": "display_data"
        }
      ],
      "source": [
        "import plotly.graph_objects as go\n",
        "\n",
        "fig = go.Figure()\n",
        "\n",
        "fig.add_trace(\n",
        "    go.Scatter(\n",
        "        x=df_explained_variance['PC'],\n",
        "        y=df_explained_variance['Cumulative Variance'],\n",
        "        marker=dict(size=15, color=\"LightSeaGreen\")\n",
        "    ))\n",
        "\n",
        "fig.add_trace(\n",
        "    go.Bar(\n",
        "        x=df_explained_variance['PC'],\n",
        "        y=df_explained_variance['Explained Variance'],\n",
        "        marker=dict(color=\"RoyalBlue\")\n",
        "    ))\n",
        "\n",
        "fig.show()"
      ]
    },
    {
      "cell_type": "markdown",
      "metadata": {
        "id": "wik4qjyxG2Q0"
      },
      "source": [
        "Scores Plot"
      ]
    },
    {
      "cell_type": "code",
      "execution_count": null,
      "metadata": {
        "colab": {
          "base_uri": "https://localhost:8080/",
          "height": 542
        },
        "id": "d8nsgtXFG2Q0",
        "outputId": "f6b8d0cc-20f7-4197-8114-091042c2cca3"
      },
      "outputs": [
        {
          "data": {
            "text/html": [
              "<html>\n",
              "<head><meta charset=\"utf-8\" /></head>\n",
              "<body>\n",
              "    <div>            <script src=\"https://cdnjs.cloudflare.com/ajax/libs/mathjax/2.7.5/MathJax.js?config=TeX-AMS-MML_SVG\"></script><script type=\"text/javascript\">if (window.MathJax && window.MathJax.Hub && window.MathJax.Hub.Config) {window.MathJax.Hub.Config({SVG: {font: \"STIX-Web\"}});}</script>                <script type=\"text/javascript\">window.PlotlyConfig = {MathJaxConfig: 'local'};</script>\n",
              "        <script charset=\"utf-8\" src=\"https://cdn.plot.ly/plotly-2.24.1.min.js\"></script>                <div id=\"dfbf3367-6a25-43f4-b885-8041d666c814\" class=\"plotly-graph-div\" style=\"height:525px; width:100%;\"></div>            <script type=\"text/javascript\">                                    window.PLOTLYENV=window.PLOTLYENV || {};                                    if (document.getElementById(\"dfbf3367-6a25-43f4-b885-8041d666c814\")) {                    Plotly.newPlot(                        \"dfbf3367-6a25-43f4-b885-8041d666c814\",                        [{\"hovertemplate\":\"family=Encryptor Ransomware\\u003cbr\\u003ePC1=%{x}\\u003cbr\\u003ePC2=%{y}\\u003cbr\\u003ePC3=%{z}\\u003cextra\\u003e\\u003c\\u002fextra\\u003e\",\"legendgroup\":\"Encryptor Ransomware\",\"marker\":{\"color\":\"#636efa\",\"opacity\":0.5,\"symbol\":\"circle\"},\"mode\":\"markers\",\"name\":\"Encryptor Ransomware\",\"scene\":\"scene\",\"showlegend\":true,\"x\":[-0.9289343100790064,-1.6175274263332542,-1.6924317632182921,-1.9951324643744333,-1.4757550616454143,-2.622973146683895,-3.349932012456805,-3.5058388535579526,8.358462251690298,1.7415146076693906,-1.1332201206434294,4.782517541800699,-1.2601195363910251,1.2326851550025157,-1.238369412644198,7.672084772883887,-1.5846805325427291,-3.3173649336440008,1.0629680746846197,-1.3067553290934197,-1.2574876565779585,3.4989662064795155,1.0723050521370994,-1.2077581028350723,-1.946882991484992,-1.9868538137757947,11.510500211493108,-0.28111631941425796,6.433092903742552,-0.5052533625062338,-1.2525977081773019,-2.725682252735667,-1.6070627714514052,-0.938673560223732,1.7562100333194164,6.98416945373112,-1.6259179440338722,-0.7966764933385151,-2.6010520890457705,-1.4310977350141376,-1.3127199554848492,-0.6555668345655995,-1.724558852979769,-2.521866272926677,9.937083850566284,1.724566208921616,1.6890786040120875,6.792123312152376,1.3574775492173197,-1.6397411271862503,0.6529004916573858,-2.6497322051428998,-2.347620964054066,8.018978796954475,-3.28000416206904,-1.9876130369950489,-2.066512076627736,-3.4697599208162595,-3.5147293076307626,0.49928346283857516,-3.1872003942100324,-2.4462380936027213,-1.549795526271458,1.5468549785409962,-1.2586295568868344,2.099074554445308,9.889840830222674,-3.4630349224097965,-1.2726045934220447,0.2943713217942686,-3.3981781010972067,2.793030080786591,1.3021389587959376,-1.1332201206434294,1.5954534702145902,4.85110183469952,2.2577237270640036,3.8223115597000525,-0.4277653507944197,-1.300977747617948,-1.8788347621108161,4.26409117708787,-1.2491732057318436,-1.3410481540988133,-2.252407870149129,-1.6160223186276728,3.406669256996263,6.717344845071666,7.359448745092741,-3.560140815220157,2.4765426688161574,9.38322357115842,-1.8237938017487367,-3.8151469192594116,-1.6073158458578232,-3.4006842255148615,2.1467624215320344,-2.0264506022065243,2.567520221952033,1.8768089124743985,-1.450483193716146,-3.4700116431640713,-3.249702069588892,26.0810297514863,-0.5744205827849197,-3.484332179849121,-0.9570071599882679,-1.9745029348377363,-1.3710029061369498,-0.5889967611782624,0.11464922550388466,-1.9398080863374907,-2.243139286876813,-1.9302220182157837,-0.7966764933385151,7.038231000983166,1.1557708719442745,2.6730037916659413,4.534632412095073,3.2233128361864707,-3.277330466312197,-3.2909283843758788,-2.812793442642914,-1.5464078662922467,-1.321882059240134,0.7124557719357093,-1.4104039215433275,7.711091421767788,3.9200540919996856,-2.3086648616557386,-2.1300220466515487,-0.8739985500994015,-1.5547663614255085,3.080798973106479,-1.107121986184015,-1.6070627714514052,7.2203616058243405,-3.593517832994553,-2.41024880357821,-1.4397669721359336,-3.4395481105836563,0.5797259782371226,-0.8023129830467504,7.825427117341817,-1.5201601546027605,-1.0266217942425961,3.5027725948914097,6.033088675494144,1.5925067801334987,-3.2442860445763166,-2.260644074149622,7.2962100094005775,-2.5123902761435093,-1.1150604104810014,-1.550281982264881,4.473642647192052,-1.5428339805922686,7.772967583033334,-3.5071581375396472,1.6341103502465855,-1.5227108493687904,-3.6011883483516822,-1.2997678544431615,-1.0544523708240765,-3.4585018747221667,0.5235431175661673,-2.7696470766078782,-1.2273600078539337,-3.548597456076232,3.901439334270319,-2.6010193098270027,-1.6874336456293741,3.509420415949629,-1.18036624672497,-2.307071294614185,0.6488754007475389,-1.0011526422615231,-3.564126628382827,-3.2154326659486783,7.542765165084072,-1.455827742840633,3.844684674129008,-2.626468814210286,-1.4104039215433275,1.7502665328560325,-2.1341881748617286,-1.9613928326804237,-3.219495180859259,3.8401276965972855,2.720056974547411,-1.7817342871311994,-1.1080242854457827,-2.6696111777925977,-1.482653300899929,12.70024870345892,-1.948029656116693,6.792934776505271,-1.6874336456293741,-3.2397243490977314,-1.6874336456293741,7.441328997144515,1.5084924611896657,-3.4088615198155994,-2.606147604407863,-3.4672993070870146,3.7678390926919154,0.8068744173130581,-1.7312706530828168,-3.203649390356432,1.5902828225738739,-3.3430299264303183,17.620716235770708,1.6364174488056422,2.218926742821083,-3.5076543437707928,-2.6013051634521887,-0.4048785860700616,-1.274541156980793,7.761170324231747,9.870423845337848,6.704678835568835,-2.409742654765374,-2.1243738706285002,2.7583029543782818,-1.75186042205642,-1.646155557165932,0.7408487552143689,-2.6304834179778793,-2.251275534519961,1.7642897163484172,6.1867004807132,-1.9280867603971799,4.647408707508836,-1.3013978364702594,-3.304420581014902,-1.4698336137596324,2.8064611241719186,0.8665887825725966,-1.386745872901032,-1.210938800784642,-0.8635338952175524,-0.5744205827849197,2.071171275045488,1.8758037613329637,-1.9477539643012907,-3.5087943026055477,-2.5348467724007855,-1.5847890260170168,-1.1889886412852475,7.052806839888065,-1.6500968237597162,1.885243237967457,-2.621199136032232,-1.9398080863374907,-2.0564795838449976,-1.5201601546027605,-3.8291187239879436,0.9065391004786252,-2.306565145801349,6.421217142322981,0.8172016131450935,-2.0444358953836526,4.200449670447281,3.9933384603950035,-2.5472224533624375,-3.30289672573374,0.9424428704597038,3.4569484523563703,1.726929012063646,-1.9894483638120952,0.8407763701842552,-2.206743938049917,-0.4153766392629149,6.615390985810973,5.747946446527864,-2.285360459620598,1.4344460666005372,-0.6585332796043094,-1.18036624672497,0.13987026748445325,-3.251300643600473,-1.9693434869853088,-0.989574718110091,3.549555121075973,-3.2594154793480596,0.977863114904817,10.32837939127424,8.542773715962761,-1.5201601546027605,1.5737212255617603,-1.438659575223548,-1.2736109184105775,-1.1034535615152998,-1.4488059129805801,1.4647606858779738,5.667153211135708,-0.5744205827849197,-3.231752059411874,-0.5736613595656656,-3.095977179115139,-2.5547267730627796,-1.4434477997242836,-1.5234700725880443,-3.3427768520239005,25.08761262545332,-2.0963588618682354,-2.680647751281927,-2.4099957291717917,4.3755511216138405,-2.6116678671855977,-1.0687028932324956,-3.5082159631781495,-0.5711603875408673,-2.555294657737223,-0.6089843965921112,-3.7767191702573046,-1.6874336456293741,4.774027304010579,-1.9416547277854626,-0.9743956085220834,-1.946005060865349,4.551089207865459,-3.5695508644002367,-0.8900412550365059,-2.3086648616557386,-1.9593682374290797,-1.9975216382188636,-3.300714132224103,-2.3094240848749927,7.36968672071741,-2.278244066771026,-3.381419278383603,0.5368584482946137,-3.529131938327975,-3.170786160062916,-2.0269192762447372,-3.4540174895080185,-1.5953349165982982,-1.6874336456293741,-2.4670352283473003,-3.2406700439754013,-1.1332201206434294,-1.2572345821715405,-2.060976188958438,-1.2752656183271494,-1.704173229962296,-0.9252242568576068,-3.279856609037283,-1.9398080863374907,-0.6152177716190562,-2.3073243690206033,-1.211367214409611,0.6975477045812308,-1.6070627714514052,-1.403009078854699,-2.234841449188938,0.1282470200812598,4.081995632814357,-1.6070627714514052,-2.3941824845214317,-3.3461774818745944,-1.5201601546027605,2.107511178172372,0.1253525390434018,-2.30732226074908,-3.2346480481577866,5.397797401962461,-1.9336541819272903,8.309703776828224,-0.3521782668449911,1.8240860353543318,10.182063111513903,-1.163549329315665,-0.8635338952175524,-1.4710087829957978,0.1166548806392848,5.908891382093733,1.4174651232672486,-1.64640863157235,6.996861083088119,-2.3809308990361195,-0.9469074443096136,-2.243139286876813,-0.633987233168881,-3.3512879658154127,2.528972504121395,-3.286041872111415,-3.45013267722536,-1.1806786748315827,-1.5306248094846095,-2.6020643866714424,-0.1243992605903872,-1.2808078140883583,-3.1082327210744287,-1.8876616070132695,0.6753117941524263,-1.2578987321000012,-1.3357036049743263,-3.222035569935839,3.334130466845595,0.11954936167714279,-2.323137613670963,4.081596952636821,-2.6791910474160128,-2.0105657335756386,-1.1090004449800535,-1.1052853115883772,-1.4538838235668399,6.64227419263912,2.2791936622828155,-1.5871306006293584,-1.1312646802387936,-2.0947801597944196,0.7904752600176325,-0.9390758536407064,-1.9305368284838087,3.9422572086558336,1.2911756133104304,-0.9202827450492145,7.513718746087692,-2.558700428780515,-0.6272970680005948,-1.048153219291501,-0.9570071599882679,-2.634899182917442,0.5924300153784172,-1.646155557165932,7.193613623702175,1.8643490118602026,4.3375110929965865,-0.6406988275512545,2.8060701009420357,-1.2439307243742255,-2.308917936062157,1.7488283467347905,-1.1034535615152998,-1.4004104679689222,-1.646155557165932,1.5446197717839667,-0.9044162677128176,-1.3499120377664124,-0.8330311462298085,-1.5532986354741176,-0.9043283141566313,1.7004136675011603,-3.5035225622008004,-1.6093955805196756,-1.2002300863398874,-3.515754283698999,0.4525559826924118,2.827813421999651,-1.5303023453448914,-2.610655569559926,4.655335841018373,-2.3946886333342676,4.258407310398454,1.699975113612759,-1.646155557165932,-1.3142627932751367,-1.9667470397140212,-1.2665821752135753,8.053351747833359,-2.7975983570702514,-2.6291102208417256,1.8585449586216316,-1.2474303374801115,-1.9601257413279274,-0.5889967611782624,1.4297886289590018,-1.6259179440338722,-3.3696336661868282,-0.9570071599882679,-1.6874336456293741,-1.207609418435824,-2.3281318105632103,8.582013211673939,-1.475248912832578,-1.8163522235315486,-3.3673337679413864,0.7282174966959017,-3.328311574063914,0.5363522994817778,-2.2706092586031414,-0.8635338952175524,-0.7981583917435549,-2.4234083616332223,-2.6010520890457705,-1.1034535615152998,-1.7436586308525863,-1.988490967614692,-1.4104039215433275,-3.3990272466799825,2.707422477049085,-2.1099986967584377,1.541057788166924,-1.2002300863398874,-2.2071883510011463,1.1684838030185791,-1.5737097288480442,-1.8812848301974452,-3.2009803014239067,-2.338347431682665,-3.2341236835441305,-1.2468087461015858,-2.239137470537586,1.4568826007573412,-1.6175274263332542,-0.26058761059916996,6.606513686407468,10.853183461611504,-1.4726075062011381,4.085039008581285,-1.9707560749258455,2.26379836432129,2.283005205825004,2.1034995647550914,7.986440043912742,0.7497249458151289,1.7548737435890973,-2.544685578338268,-3.5058567591715977,-0.5973760557903508,1.6536256681712957,2.8302539632679067,0.748510545876833,-1.398565890759697,-1.708526951434291,-1.5232169981816264,-0.42675305316874756,-0.6401926787384186,-0.9564409952792614,-2.1194637330874153,1.4251419470958369,-3.220282989206857,-1.9283398348035978,23.23283514453919,-2.154597458725696,-1.321623135575655,-1.6082088521431908,6.479726855504365,-2.343998864586947,-2.413143284616068,5.3932214240353655,1.7529582034340263,-1.279254078517607,-2.959721480214113,-3.3072171793461433,1.5288816553190852,-3.4551274967068686,3.4559008969664826,-1.6474934932858698,-2.4099957291717917,-2.6109086439663436,1.611320204683949,-1.9283398348035978,-1.9716449008283035,4.280403705862486,-3.1174225103008744,-2.3073243690206033,-1.676693201967659,-1.1889886412852475,-3.4508699340637423,2.9004306069557755,5.713273399764514,-2.307575335155498,4.573128403838441,-2.079413293685286,-1.9331774446946677,-2.6104024951535076,-1.1944411242641713,-2.584796258044796,-0.9570071599882679,1.652660345516908,0.1137603996014268,-3.429773286991335,-3.341083748244699,-2.307828409561916,-1.4589190197964157,12.395829828354072,-3.580407785367809,-3.111927515647833,1.5927598545399166,-3.4214867776537434,-1.482289423033492,-2.882233028266412,2.142625133479506,-1.5201601546027605,-0.4143643416372429,-0.5194726932891058,6.855670332867923,-1.5484767988890347,-3.258305606950988,7.326180051336639,1.467204595651733,-1.491384988625694,-3.468396265725676,-1.3914628228272963,-1.9302837540773905,-2.307828409561916,-3.2741217822157913,3.807656833979875,-2.6470369457315495,-2.307575335155498,-1.6459024827595143,-3.238893437069253,-1.0832472824193635,-1.6011752965344181,-1.6070627714514052,-3.3396410502147016,0.6341606583812232,3.9898975000811565,-1.5842361195915002,-1.174645902223203,-0.7472155485898162,5.658555696547103,6.879868984769664,4.722301358499647,-2.3704392312688016,1.324232536522359,10.283114610592886,-1.4789227431116172,5.412212727192386,-0.41512356485649693,-0.8739985500994015,-1.951685467105348,-1.1770723600894801,-1.1997856733886585,-1.3586010292320647,-2.627925524787187,-1.5823160614083058,-3.4083553710027634,1.7280908846026304,7.74918774289087,-1.6259179440338722,1.8187463669988777,-2.61490402514368,-2.423425949593335,-3.4546496098221953,-3.5324707991404902,-3.4558143208331136,4.439039433180721,-3.3453661094378213,2.559852984290199,0.7282174966959017,-1.959621311835498,-1.0536699293179854,12.864045897324816,-1.0470385369069701,-0.8167727285574918,6.594479745101032,-1.1885442283340186,-1.5651111042832924,-1.6259179440338722,0.5918376727950861,-3.478861070064126,4.26142026057911,-1.415749039049417,-0.6094288095433402,-1.048153219291501,-2.2387539086096977,-2.3104363825006646,-2.2577837543636075,-1.9416547277854626,-1.4580945691140468,-3.3353787177927883,-1.1332201206434294,2.3627247859436618,6.510465067980869,-1.4533803964976355,1.5097769219667045,-0.5656178924146621,5.042190732228769,-1.906226681274724,-2.243139286876813,0.7279674398533096,-2.392271950757174,-2.3073243690206033,-2.3981279956252335,-1.472860580607556,-0.6485012381802817,-1.6910337517531706,7.123225271563914,9.132442414517415,-2.6168653336961305,0.8923575530033556,1.6484395110737387,-3.255414957026151,3.8644614114175586,-3.6013290714158805,-2.292158899960776,-0.5313036918469558,-3.208950766246066,-3.296879038210204,8.299767191983731,-0.9867021395253077,-3.5257568892410522,-1.5227108493687904,1.875046475020935,2.631938815742063,-2.606624722690636,-3.476083288705502,-1.9442083356687951,-1.1075663991352438,-2.308334558374752,-0.5656178924146621,4.514820424023585,-1.0544523708240765,6.721156895893525,-1.1332201206434294,0.11954936167714279,-2.307071294614185,0.8271601192141067,-1.2538401418061804,3.834863787724466,-3.5793979842231884,-1.6289744611315176,23.11066623755445,2.578757215276616,-1.0290718623292252,-2.611161718372762,9.36538791484273,0.8583034404619573,-4.0101165855861485,-2.0059520069260195,-1.255047776263931,-2.0892680108842434,-2.243139286876813,1.255619399626087,6.424111623360839,7.407077305267715,-1.6175274263332542,-3.4680957428521597,0.8281360104642519,0.6239245380474586,4.451899326134438,-0.8813946808108533,-2.323390688077381,-1.2494426956908486,-1.5522863378484457,1.7489777218778317,-3.445838106592884,-2.408969459622875,-0.6306359619896819,-1.9398080863374907,-3.4736104099168306,-0.7966764933385151,-0.6272970680005948,4.691821974737017,-2.134346424533286,-1.7830781007036705,-1.5761922303112563,-3.025011636935763,-2.0606438321354617,-2.6010520890457705,-2.6888655133096964,-3.553023171128306,-1.9937103663279012,10.145362544624357,-1.7241888868380721,-1.5709257822621336,-3.4564250376123113,1.7086585567263328,4.184918810903709,1.013847201978905,-0.41461741604366087,-2.658099435379277,-3.2130961207972395,-1.1034535615152998,-2.307828409561916,-2.3656453521053726,4.258154235992035,-0.9187300060406131,-1.3014134960758987,-2.265397934302946,-1.6781309724286162,-2.075264222157235,1.7785441853734356,3.898908598693336,-3.646806737675116,7.4535428607205105,-1.0642195383482786,2.777396195224108,1.4331624288291844,-0.9568854082304904,6.624382384291543,4.5955999741486115,5.334834107405824,0.427072870013586,-2.61014942074709,-2.3233596127632232,2.076039223076262,6.650776132289193,6.3493333340065545,-2.0014823623716156,4.111753625839145,-2.882233028266412,2.4917370793313025,-1.033446330006485,-1.7548478261925835,-1.9928654668235875,-1.4593331888302532,1.8761270847223908,-0.6094288095433402,-2.369710134056403,-2.239137470537586,-0.9474001136769377,2.2978221614714367,1.6607993223682003,-3.7343455517992554,0.8680088721245522,-3.927612031015994,-3.7459194641528515,-1.9747924562725794,1.042385034947005,6.7390309098619205,4.177612835904224,-1.4069336350996138,-1.026177381291367,1.8204479236930093,4.5446635459880875,-1.6369515435897053,-1.3520840132823453,0.6972819820441531,-2.4115141756103,-1.0642195383482786,-1.7117395319694055,1.6863101288101663,-3.5815713308765593,-1.6314245292181464,-1.0544523708240765,0.8541395467479859,-3.477174116384173,-1.2775014977886248,-0.757030978906875,1.7225278821028993,-3.268420210515583,4.1910102672756135,26.075816565078544,-2.4786002384864254,-2.2735352631523598,-2.5837084929901444,-1.2942995518935314,-1.7064949036800356,-1.530522748067993,-0.9978137482724361,1.9637978799342386,-0.5352972037992394,-1.5837917066402711,-1.4554881460283304,-3.502430806954736,-2.284798723861701,9.807271276713523,7.714818977197844,0.11954936167714279,-1.6070627714514052,-1.0945469327658914,-1.3152650722496573,-1.8848268561110522,-2.621960849058223,-1.8473658969214333,-2.0334254487471837,-1.297385779222443,-2.626959040640644,-3.325144563716869,7.322347005407156,4.133444327200114,-3.4737267892701533,-2.0269192762447372,1.7455345767493757,0.7622304604516632,-1.0642195383482786,-0.4342328900249174,-1.3582770297756026,-2.558700428780515,7.400620477602892,-2.086848961533225,-1.3357036049743263,3.444447807197021,-1.048153219291501,-0.6406988275512545,-1.7284695853227001,-1.5227108493687904,-2.727528894183639,-0.6580888666530805,-2.992618104448094,6.7415652974937865,-3.264040387861531,1.7449152375200845,-3.2622054844284554,1.7461903004755237,-1.426326020689272,-1.6363825989157215,-1.58409153865937,0.11923693357053011,-3.2762174444601695,2.326692368917363,1.4373235598391363,-1.5766366432624852,4.573944554146392,-1.1332201206434294,-0.8699892920839059,2.4575608435475873,-1.0063133259317567,-0.9867021395253077,-2.039920471429739,-1.6259179440338722,4.565886817510634,-2.751105611677551,-3.496829142779807,-1.2606352120222346,-1.3178185545621617,1.2385684606323937,3.773674741295246,-0.4143643416372429,-3.2993826343415797,1.5233343537816812,6.872272822914403,-2.447218274033523,5.852441962349135,-3.236291613046051,-1.501596569101125,-1.5424464911966616,-0.48929783741286853,7.25791093616154,-2.6205230785972655,-1.5428339805922686,-2.324727140068493,-1.6261710184402902,-1.7803456546088274,-1.5423278317794327,5.887751510780044,-1.7078331254034704,-3.313410626579641,-3.4193325797191956,-1.116357774235284,2.2476471012436203,-3.4489630801838467,-2.324477431763557,-1.9450426557185314,-1.2937125366359414,-1.9747727969205164,2.8208091472549817,3.4449634828282303,-0.8606832791693839,2.106129444117067,-2.3249842551189346,-1.9416547277854626,-1.500837345881871,8.116229135490459,4.8220715889507275,-0.4275122763880017,5.8860504611607904,1.4120424260144055,-3.12035071126048,20.440121094901986,1.3426853567197479,10.434924484237765,-2.068228140480533,3.8632149732903294,12.012144980799965,-3.422133156022094,-1.7200608754805942,-1.5306248094846095,-1.2686497988174548,6.556246133291489,-1.7401649032732087,-2.395194782147104,-1.8356935144352722,1.548932326867205,1.6660420613851807,-1.7004924023739456,4.019898549534834,-3.200501834912156,1.7573838958118253,-3.112357961614008,-1.18036624672497,-3.482868395151639,-0.6073580301578002,-1.688503198305929,-1.7117804725073935,-2.5560159764353596,4.633747335806464,0.6439465097371313,-3.61327409506192,11.288659601793215,-2.3252373295253523,-1.472860580607556,-1.4104039215433275,1.9800677829315403,-3.5187596943495048,-3.294491806533757,-1.9949381752254254,5.346053035265746,-2.559459651999769,-2.560218875219023,-3.491788494642837,2.3840628341645407,1.5221273130018265,-3.2881803046130496,-2.549052442367451,-1.1075663991352438,-0.41106566745109413,-1.5937484333749208,-0.41512356485649693,10.971759020629932,-1.4038418079750248,-1.0642195383482786,12.064891141746891,-2.3249842551189346,-1.6874336456293741,-2.6262157398038677,-1.1911022302750844,-1.8876178411437132,-0.992564073474145,3.518433949332546,-3.6328212061414145,-0.46606611452154534,-1.18036624672497,-2.246033767914671,1.8608013060020374,7.048037172600185,-1.4104039215433275,-1.3841591270053302,-2.0143655973035144,-0.44089676690050045,-3.1677003404802466,-2.044625207802242,28.732315162650096,-1.6070627714514052,2.2169262460486174,2.339866506496293,-3.336301811205904,3.987184990214242,1.596638914835647,-1.5428339805922686,-1.047656143373312,-1.5424464911966616,-1.9395861968189263,2.9154677109172447,-0.8982641512713351,-3.227727254185733,-3.445094639515219,-0.3854646646955495,-1.0610336665446947,-1.5653037042489848,-1.1880998153827897,-1.6903281266672323,-3.413774465609925,-1.5306248094846095,-3.2871777491188796,1.5844693698227237,1.104311169119246,-3.8918093022268376,-0.5744205827849197,-1.3769581356815432,-1.4561856333859773,-3.296830930724495,-1.18036624672497,6.61574710801214,-1.5339347274698933,-3.602711465564987,3.30629552989051,-1.8420798371566605,-0.9570071599882679,-2.5741747575650784,-3.4425911344206623,-2.1729450196877966,1.1740646726773547,0.647733500438663,-1.2468087461015858,1.1327537470238007,13.923202783082747,2.5324517243272844,-2.6258363562110394,-2.2714355472979704,-1.6071320831017863,-1.1889886412852475,-0.8635338952175524,4.112616230971316,8.097040207433325,-3.133912445374479,-1.307075563863368,-1.921251002233064,6.449733727621741,-3.2566506009934058,-2.2551423537223863,-2.0615326580379194,1.4092750731603312,1.9638399731174074,-0.9987244766279686,9.90349697212738,-0.8186926885505634,1.4410387615034224,4.34863321203146,16.89656385049907,-0.5744205827849197,0.6428422518104318,-1.579975537251572,10.416566149862026,-0.33425132190019347,9.79881312114199,-0.5656178924146621,-2.0226598467104,7.020768596393703,-0.5744205827849197,-2.0302441210710165,17.047438424659376,0.3960926517055252,-3.443795825941846,-1.7050733809274237,-2.1165446805196124,2.656899727639001,-2.221417076328231,-1.491131914219276,-0.8954105371265597,-0.989574718110091,1.6740507282695953,7.510662995434499,-2.0269192762447372,0.49732978311683174,-3.4384603455290046,2.212470668673132,-1.9598085767220466,-1.6683150878917477,-0.8536702990715997,-1.2468087461015858,-0.9982581612236651,-3.23512190784522,-2.6018113122650246,-1.424476918574746,-3.197416015329487,-0.5744205827849197,-2.3091710104685745,-2.16990634850005,-1.9859325521836906,-2.3579704289596073,-3.3031500677902135,3.7489089902418806,-1.2581851439356055,-3.1200075321227496,-2.4047427294987207,-1.3740025326145118,9.549147534509254,-3.416615669299684,0.6477769093513718,2.1842534278106207,2.6004167722385234,-1.1332201206434294,-1.1170660656164013,-1.5201601546027605,-2.6360291472352104,-1.3046037679660971,-1.6394880527798323,-1.9950715701322346,-2.5789162268768417,-1.6259179440338722,6.955323543233465,-2.444232438467321,-1.4068969174022852,-1.4980200638836134,-1.7675396284401077,-2.3224988968569646,-1.6175274263332542,-3.60674025329324,1.2372250945328966,-2.1214236138087057,-1.8908578495755932,-0.8635338952175524,-1.8244912891063836,0.3335179819573183,-1.143711801625581,-2.5960513068321474,-1.9264021605574353,-1.1942664292300824,-3.3019797800195203,-2.016660541784184,-3.444596789556062,-1.6289744611315176,6.051935722010569,-0.5889967611782624,-1.2635171508755916,-2.727528894183639,2.3327187427772844,-3.441117905415696,0.21377844222433207,-1.690934733436094,-2.342480418148439,-2.2573941480488484,-2.163607196967474,-3.349603596927738,-2.1140216684589674,4.081153624149087,-3.4877198196714683,1.5317185151262722,-1.5339347274698933,1.5983061614479859,-1.7185688890759996,-3.336749579737545,-2.1697150099552385,-1.9343495175950627,-1.1118949260179114,-2.622911410822288,9.780874174979203,-3.395649214069648,-3.2909429240558774,6.877574997298138,-2.605894530001445,-2.307071294614185,-2.239137470537586,-2.4236119801419402,-2.034027428011332,-1.7461542918480526,-1.4789227431116172,2.418223910468159,-3.4764766290265263,1.438277481975375,-0.7966764933385151,2.8060701009420357,-1.589999819826216,-1.1075663991352438,4.4556494036448875,-2.179983337905531,2.8300008888614885,0.7293159880920689,22.819379161495718,-2.407101248133934,-1.2492004337164417,-2.095266632451821,-1.5306248094846095,-1.5201601546027605,-3.3163027383015837,-0.8819262248516753,1.7072568929277585,-3.4224272628068007,1.3924900714016637,1.399470200313663,-2.093885698874576,2.2352673825146265,-1.6557447206140297,5.915438325707598,2.778551896894914,3.8308443235575314,-0.8662751515965309,-1.9809663704968932,-2.2594176336824185,1.8092197607480622,-2.2566346002732827,5.873081329244843,-3.332896629483655,-1.875242793715311,0.803838436581363,-1.2588208954316453,-0.003290428995483386,-3.334768532198489,-0.6406988275512545,-2.076811981170022,1.387896105441915,0.7282174966959017,0.7469381388469756,4.639995519630361,-1.4104039215433275,-1.646155557165932,-1.6053955737713825,0.5392467805196357,-1.5326693554378032,-3.321416176060031,2.0674814328939854,-0.3972918478587956,2.0822496773443615,4.039864635485678,8.222429472754483,-2.0457094335054555,-1.18036624672497,-3.2025139023361766,-3.5300810689328253,-2.3085897410526934,-2.109783774293573,-3.62461280777046,-1.2468087461015858,2.79220912170573,-1.048153219291501,-0.41512356485649693,-1.2197381617592573,-2.272776039933106,-2.010241462679171,-1.1213658442629786,3.740249387055806,-2.413143284616068,-1.9803900798034846,-1.4560569192084054,-1.4104039215433275,-2.239137470537586,-3.253870483363325,-3.4184333949626695,1.550107496103371,1.929369556859419,-1.6889980670169245,-1.1061059639421955,-3.3517791460495228,-3.5355157506999455,-3.411708534897206,5.645355159086972,7.936803223418624,-2.62466399155127,0.5268820115552543,8.366326746094922,-1.6259179440338722,1.3446055338846246,-3.3892151143567624,-1.337681721659425,-0.3760632844214272,-1.294744372591003,-1.316476204709939,-0.30022312606558055,-1.2577407309843764,3.4454078957794594,-1.9360947231955463,0.28685273211842033,1.8563507377525637,-2.6579739704833565,-1.5532986354741176,-1.733702979955856,1.4093851217515359,0.4222589618773521,-0.9973693353212072,1.6355806876961618,-0.9964511529185085,-1.1332201206434294,-2.3941824845214317,-2.237819887616181,-3.30599920439881,-1.6911684434415069,-0.5744205827849197,-3.2265490359171185,-1.472860580607556,-1.6259179440338722,1.67121557485918,-2.6181307057282206,-0.41512356485649693,1.7969835687159503,-3.1860046780362246,7.416898599615114,4.257087440464898,-1.1007614148177085,-1.6363825989157215,-2.395194782147104,7.459323294055412,1.9168516133855922,-1.2930479832104032,-1.5761922303112563,-1.309387250981096,-3.2913278600573257,0.2746160613866113,1.5341343822407982,1.3675201123407585,-1.5201601546027605,-0.6364249240653979,-2.6007990146393523,-1.549795526271458,16.85705169179821,-3.216751566025515,0.3182456934993927,11.48297689320589,-3.902511856279857,-3.5648641818035096,-1.7173835864926608,-1.3180311671801501,-1.240151014080475,-2.5236015111139865,-2.048599853287369,-1.1211624571971222,7.911266248161939,-0.4142967613579563,-2.320940619990752,-3.0480942777512987,-3.313474941828784,2.0019872477471568,-2.1209074246201043,7.994168803280869,2.2895958883912058,-1.4104039215433275,2.117175168197968,4.051711262908036,-0.8756897573471378,-3.857988655530465,-2.080572243160625,-1.4598696725394449,-1.724330669266277,-1.4564387077923953,0.5938344403854594,-2.3282597489364814,-1.1473736465599385,1.37500267085542,-3.343400275846475,-1.029516275280454,-1.7225011742521699,0.6307922931140754,-2.0012292879651974,-1.5532986354741176,4.665518452416097,-0.7966764933385151,-2.3941824845214317,-3.34230958017738,-1.6175274263332542,-1.631606994465218,-3.940365865410859,-1.4990279137057823,-1.2915884183182187,-0.6799027333502187,-0.6408933673753228,-3.8765776738182938,6.103459727282978,-2.0222312395067683,-1.2503666351999296,-2.4417810521376127,-1.2572012447423542,1.4207262309131172,6.034585543611986,-2.622911410822288,0.9627575591241129,-1.1150604104810014,-1.3340125245966301,-2.256126343188924,-2.2096384190877756,-0.693797330697269,-3.9068842686611194,-1.436799890152313,-1.5658253599602618,1.5954534702145902,-2.0390837717808656,-1.9398080863374907,-3.209026611164236,-0.7460736482809404,0.39189126751629283,-3.3106632231330946,7.213683000423416,-2.146839745515793,7.080833890125415,0.5464571628313056,2.051498625310271,-0.7494638536119406,1.6473922931443505,-1.2049510636617082,-0.6530674937987001,-1.658223469054672,-1.3912967876972382,-0.821537260507155,-3.585185438902482,4.100353962789513,-1.9398080863374907,2.9823747121252717,-1.1915466432263133,-1.1674191696865304,-2.3281318105632103,0.8181775043952387,-2.2416483896475556,-0.41512356485649693,3.615431578307775,-1.6772349181550898,-1.5939473419801042,-1.3178176196882518,0.6506618635708563,-1.3352591920230972,-3.2823640125495737,12.184695470202612,-3.4538767664438206,-2.1556352760026685,0.5913932598438572,-3.2925262184038777,-1.8965553753169364,6.769959937724744,-1.5331755042506392,-1.3357036049743263,0.5128213476338767,-1.9295245308581366,-1.306492769943238,2.806323175348454,-2.394996327280322,7.532300676218168,-2.9728651576115412,-1.720195242486623,1.2826068414975729,-3.4955635737559416,-1.7700362146297184,1.7145712321667015,-1.9305368284838087,6.035207797952637,-1.5341878018763113,-0.6580888666530805,-3.559614441887942,7.13634361762228,-3.310101362251174,-3.221941208301865,-3.207188087434255,-0.7989176149628089,-1.0642195383482786,5.030867762191146,-1.3357036049743263,3.8986554384926664,-2.6023174610778605,-3.2952495220449562,-1.3048244349289326,-3.4634144704523453,-1.7741133453242874,-3.454205196870966,-0.41319502450843854,-1.6442548822088983,-1.3029248557920634,-1.5306248094846095,-0.7151294098489441,-1.5232169981816264,-1.879055364180728,-2.307828409561916,-1.310078548853409,1.8755046106705777,-1.3357036049743263,6.141584607673993,18.847692432954553,-3.5110675315666082,-1.31807069409467,2.3640901766001416,-3.206570868894679,-1.3228330287504413,1.2173965441941945,-1.4491784966141614,-3.75346100695755,-2.2538456406100864,-1.028161133973693,-3.5563184619160677,-3.4266430144983473,-1.5576348636691235,0.32189307900610015,-1.7084244720823252,-1.318323768501088,4.23162870263438,-3.320312942726605,0.7996745428673916,0.5913932598438572,-2.186273956145738,6.925902484077106,-0.4113323638201082,2.0398366590469243,-1.2042700845561418,0.6189848067135884,-2.7225174219336585,-0.8742516245058196,-0.42725920198158374,-3.3366043778572894,-3.5332286243771014,-1.472860580607556,-2.8004928381081093,1.8368881003780577,-2.6118161600166934,-1.5933409191744459,-0.6123232905811983,-1.9866007393693768,-3.2631545384844656,1.8726607266301616,7.351358509515361,12.62544048647418,1.4147732809533842,7.4501310337038325,-1.476983484360175,-1.1034535615152998,-2.979959923324672,-1.2608265505670455,6.037639288156991,-1.7318204472819068,-1.3519024848446044,-1.9748747166445435,-2.806191155647259,0.6773608473126583,-0.5284709466707048,0.5906957724862102,-0.9079382512252153,-1.1034535615152998,-2.239137470537586,0.03479655053840113,-0.6368817142067389,4.738560393502881,-1.1997856733886585,-3.5320867240682254,-1.2463643331503569,3.9403952437422407,-1.13934783068131,1.9747733108064338,-3.5910677649079243,-3.4595725930565875,2.7749065387780627,-3.2334548272257764,4.627950181177324,0.5923924445706436,-1.7675651600293172,-1.3198503981548901,-1.2579320695291876,-1.5201601546027605,7.524765731404221,-2.6890971241452064,7.242839169258985,-2.009596601554695,-0.4209504534789176,-1.9822305030720806,0.8312876065525513,-1.8032578788843143,-1.5334285786570574,2.7950829979965373,-1.6363825989157215,-3.1949086352811524,-3.488049162535307,-1.6323733409002257,0.576535013880138,-3.431030699406493,-1.2835571256501048,4.693521471851696,-1.6874336456293741,2.271191788667439,1.471446844665137,7.190951152767342,6.627266747230545,-1.2497032271394437,-1.889508248461241,-0.488522941436964,-3.3771729007843114,-1.4554881460283304,-3.1633062272889756,7.905224654178608,7.058360931755482,0.5310774207563357,3.8026802287236774,-1.0642195383482786,-0.7989176149628089,-2.231755629606269,-1.9724041240475574,-2.1962345741578817,-3.5189148860493056,-3.375449582666249,-1.2002300863398874,-1.18036624672497,6.860100066053434,-2.6205230785972655,10.930705654779578,12.090141009828281,-1.2302544888917917,-2.1734511685006326,2.2515099517371686,-1.3589131890178858,1.7357256455936743,2.5481404302494526,-2.151338756716862,4.104982310513525,-0.4982179685143716,18.805324024392988,-1.3747767339496562,2.804135708486616,-0.9198383320979855,1.2836335075558525,-3.1131393953671562,-0.81183182884456,6.027973775071221,-1.303872228655806,-1.5224577749623724,-3.165853699032275,-3.435154123223234,-3.1546313745501755,0.2506870113341904,-2.6262157398038677,4.731115945494241,-1.4555438743480171,-0.4527712119388912,-3.3248825539159665,5.850902499935439,9.38682779554354,-2.725682252735667,-2.394941707740686,1.172023385864481,4.761445712193364,-2.6534805994192494,-1.5596413028337768,-1.5393665771750997,1.6022288802642852,5.294084321458096,-1.309387250981096,-2.0266221189081532,-1.381264645967472,0.7293159880920689,-2.12575020554719,-1.4922883898660009,6.020060487389714,5.855934543340051,-1.2207177700947065,-3.5369784099251067,-1.7174932279156943,-2.11963274814267,-3.233721567702264,0.27476448635526524,-0.6368817142067389,-0.3760632844214272,-1.8783903491595872,0.6457712542159716,-2.557239203902184,-3.4757391777658952,0.5247467537366503,-1.6070627714514052,0.7509884884084187,21.47890747227469,3.406697849869793,-0.4277653507944197,-1.0642195383482786,1.0939429433302623,-1.6647668407120968,-1.6741714265012664,-3.4425157527746397,4.522888088340873,7.8807968159938975,-1.4726075062011381,-1.6175274263332542,-0.7966764933385151,-1.7644137118394085,-1.5428339805922686,2.685447525237879,2.414974440866954,-2.0359341640812856,-2.127780460558865,0.8166954643322576,-1.3357036049743263,-2.138243196005067,-2.707244501726184,1.5826545867992605,-0.8635338952175524,-1.18036624672497,-1.8436912830218217,-1.327412097651371,1.4877401574464586,2.8551391068238496,-2.232960905889958,-1.3470821904600356,-1.3824995717029194,-0.7966764933385151,-1.44269790716255,6.787708672382212,-3.273831697027821,-3.3376166754829613,5.229341295168528,1.9826281230291434,-0.6551943856152225,-1.8090983760987105,1.8201954847392254,1.390053057829373,-3.9947880261777176,-1.7899568690481789,6.793576929910082,2.3148285948978327,-1.1075663991352438,0.10514986829683029,-3.419295758124408,0.5243885345559165,-3.539301259352167,2.560203859634119,-1.8963921152944427,-3.554331628625062,-3.652392211377056,-2.566270602624506,-1.2132517123258943,-1.583838464252952,-2.6104021744342893,-3.450531507570233,8.788725370648086,2.4743201521500686,-1.7176725432555722,0.9089148111658544,-0.9891386032116859,1.604503178151037,-2.060060872544157,7.435908820733841,0.5397529293324718,-3.445851291911437,-3.157609378151433,-1.6774484923086288,-1.5601886368834768,0.8685150209373883,-0.6585332796043094,-2.394941707740686,-1.1364533496434521,7.5076993906965335,-0.6261226491579118,0.6483692519347029,4.283377322702455,-3.592504905238108,-1.7695300658168822,-1.458438355385875,10.786232721179879,-2.3874975802212868,-2.290146810202399,3.4425134147416014,-0.63643730125551,-2.057990115504767,-3.880930917688357,-1.5034383401091744,-2.2463753983467027,-0.7966764933385151,7.486180970232206,-0.8625215975918804,-1.6649595066460108,6.881953534556606,1.2779820028167037,5.1581767539590055,4.390715861472999,1.2220549764363082,0.35794847664640606,-2.4033163732237246,-2.2803793245896298,6.049941975854955,2.0373828642697105,1.6972652382570288,-1.4104039215433275,7.187616545065598,2.26876501814246,-3.2073048590486635,-1.6497976760577848,4.260379339976957,-0.8912636341764175,-3.541877502483168,-1.421158514234564,-2.321385032941981,2.6380940426406525,-1.3845270726216603,1.4593346073955467,9.170082633249166,-3.490872923467822,6.551018320562917,-1.1075663991352438,-1.0544523708240765,7.342492983126015,1.463214601465646,-3.2298011229686647,1.0312249082176632,-2.7185612390070704,-1.9870765047478713,3.5323922171307056,-3.5931663198801935,-1.7773886438685185,2.076482272547551,-3.4839531339413625,-2.532294037394827,6.040455754092882,-1.2599377246645878,-2.323137613670963,-3.2531112898143606,-3.881534781530334,5.9027182808025485,-1.6438175686832732,6.0829223720144014,-1.501849643507543,2.027374661292888,-1.2468087461015858,-2.0700107214686336,-1.21148884257873,0.5732395288037597,-1.64640863157235,-2.6031891801759754,-3.749963752951553,-0.5550115096054332,0.6769164343614295,-1.055399651047341,-1.1003170018664794,-1.2575445993538,-3.2926972457560226,6.029838619386918,-2.620997955899388,-2.243139286876813,-3.3160225864748765,-3.4204886293104297,-3.5654221012751974,-2.0228267333481704,-1.1034535615152998,-2.557563756104499,-1.5428339805922686,-1.6874336456293741,-3.1794699500024235,4.732924263127859,-1.2577407309843764,6.547574987299092,0.2727709269744447,3.1702672051128933,10.748093619069227,-3.260595538354621,1.1247034786666485,-0.7966764933385151,-0.40819035672791026,-3.153192050470215,-2.239137470537586,0.63176613880344,-2.492443847631294,-0.8635338952175524,-1.1222546701654363,-2.073253720816663,-3.385650921156791,-1.6175274263332542,-2.3078305178334393,7.709734726221957,4.141069360231889,2.6774750531593616,-2.063574624376895,7.704845318950708,-3.32785370530864,-1.3579626272538208,-2.307575335155498,-2.3094240848749927,-2.246033767914671,-3.469901044636991,6.052919090914177,-2.626468814210286,-3.1781370689447197,-3.769985914758675,-2.310183308094247,-1.5764453047176743,-2.243139286876813,-0.8627746719982984,-0.8061084193639095,6.058982289148458,-0.989574718110091,1.2614816741625832,4.097911621551408,-2.325779020302403,-1.494472088801706,-1.9360947231955463,-3.2822568642088332,-2.5500166649477225,-1.7640349274954195,-1.1034535615152998,-1.471768006215052,-3.3048214976565236,-1.1152338200069984,-3.6330424624735516,-3.518582943181663,-1.4071249736444247,10.030862195477003,-1.646155557165932,1.5287546106590308,-2.359305960424471,-2.043570114430907,-1.5428339805922686,4.15772732034312,0.44350547563307624,-3.26868695099207,1.8628700654634855,0.6957278119835736,-1.1889886412852475,-1.6637779397247985,1.401687601039603,-1.4803529581561288,2.828351659061664,-0.4740441628255052,4.105092099412112,-1.1172394751423986,2.802930891638021,-2.4208080587881073,5.886162251591141,-3.315448953398357,-0.6580888666530805,-0.41461741604366087,-2.2025382754212073,-3.484059039854438,-3.2912580100872297,-3.369888541705766,5.910305096449438,-1.0642195383482786,-3.5521894244717367,-3.270477186274117,8.054543293670022,3.368558133801494,-2.08809673679886,-1.4104039215433275,-0.24469885944781739,-1.0237273132047382,4.623028328866876,2.8060701009420357,-1.9331480331144544,-1.8776928618019402,-2.2761766697838,-1.5420747573730147,-3.2625515995489796,22.320984332190587,-0.5661619727064554,-0.4901060813615865,0.680279404100973,-0.9891386032116859,-1.5733363206960673,-1.9606336094611698,-0.4277653507944197,-1.3322504612181243,1.0862185369187145,0.8040551046122542,-0.501271116413724,-1.1332201206434294,-1.048153219291501,2.7509887921409044,-2.1219238025418714,-1.6456009085756718,2.8065762497548716],\"y\":[0.15982152127388954,-0.2868879144165112,0.9291881578633135,1.2631049893844533,-1.2164915565207586,-1.7164723233897852,0.3136617197030771,0.8678983226048723,7.581134295632754,5.52057699129074,-0.21711489283102803,1.4977193215262397,-0.8963993157097571,-0.6655071833790189,-1.1323082087270329,0.0022674732997628026,-0.8575719869403716,0.12055022403460754,-0.39710253668799017,-1.312888305592485,-0.89712930909189,8.961040954430537,-0.5895139518221891,-0.6083063490158279,-0.4518425742703132,-0.2787818550357103,1.876210515474008,5.826921896457563,7.5536448239963105,6.517986226841319,-0.7429119655466015,-0.9337451782899537,-0.3270717297393048,1.1735396014797592,5.766425386264038,-2.7631409071050257,-0.9048042962794413,-1.7312590376445882,-1.8116275678883282,2.7187578130643604,-0.893825110273151,1.1497882522767757,1.275717375319788,0.521977796816727,-2.5341917547734925,2.139146911157554,-1.3474356955483713,5.883581219716274,-0.007483259084007988,-1.1563382021421449,-0.8243790922099288,0.673178122903137,1.6236368798350935,-0.6041885000018453,0.3963045945720636,-0.27821804168360525,-1.1946931752578624,1.139865991417955,0.685672079229769,-0.5886312026791546,0.38931088258084134,1.196276332237649,-1.269231739886163,2.1468474399026576,-0.8963523050166923,-2.3926787428589553,-2.5307188484192875,1.9942264856332257,-0.47024223566563894,0.6129718792645096,0.5748995089720115,1.6378320206105508,-0.8721106563902048,-0.21711489283102803,-1.6422054977735832,-1.3465949037931537,-0.9225176586414541,3.5762165804501587,-3.0078393683472413,-0.12396358477000968,-2.0237868992334005,-2.1724860817729073,-1.43871757269877,-1.3435349364353204,-0.5339201592036606,1.0934692039710359,-0.35923061460232614,-1.1906391982394726,0.22822909165676802,-1.3187786522634743,-1.0526792485906091,-2.1959219539232087,-2.026984502690593,0.36585382642853825,-0.3268837919552698,1.5898822996543691,5.643933031925891,1.2885725759356588,-0.7986442366076483,-2.131990525713069,-1.1012450044786666,2.412537348038423,0.3725074241040065,6.3337409882953315,-2.8473042424368713,-0.8624098168034986,0.09722352886528193,-0.33576069595188046,1.3031209932229542,-2.8074390699318226,-1.45002615449072,-1.3775598873685466,-3.082196650950264,-2.0311046734561997,-1.7312590376445882,-2.802040381325608,-1.1519459162140018,-0.8910860225787074,-0.9805076346240845,7.289515376873395,0.425963128900203,0.7480313056032813,-1.3654037621568245,3.305407961511227,0.8354350260412601,-0.6930866540556913,-0.5704376329831751,-0.0850555905025853,-1.5771268478214187,-1.0646739429587317,0.21188281717620505,0.8280251130021156,-0.6661511565781812,-2.645611662054561,-1.1864337847793212,-0.3270717297393048,7.5717345224132435,-1.4029531431191609,-1.1996187876860513,-1.3605900654062968,2.15990254847127,-1.671716787075856,0.6510143006897374,-0.3437609340484991,-0.6582941220584551,-2.086278302797647,-0.8899202152774899,0.7591083901170944,-1.6412062241849266,0.6246566411093879,0.6302966627758034,0.9891709116062116,0.9426700946686479,-1.1842684687615084,1.3203100553740752,5.158437176105281,-1.5191907322811855,0.3854663581626563,-1.1103053095990871,-1.5931319891922402,-0.7851321045806952,-0.5985670004540076,-0.36052136593610096,-1.178786576379183,0.5976243655169088,-1.667742179543466,2.189474761237913,-0.4234283553606168,-0.5921075727288942,-0.9959970334807515,2.3135243599450273,-2.349895367750639,8.949082652290171,-1.4513438990612844,-0.8355357648378328,-1.9433676644518472,0.21535644168507184,1.252626733786652,0.44694185891172383,-3.3734487471029233,-1.0816364089684734,-1.6717860242495426,-2.472596967400898,-0.5704376329831751,2.0410462484415897,1.6858557017645872,-0.3933033502201553,0.3733357107597003,-1.7044162836807069,-2.610239019969331,1.4997124530945851,2.9384057185270938,2.357140944262422,-0.8866816835252692,-2.1140115403982427,-0.45103394227246546,-2.6786089188202094,-2.349895367750639,0.8411041253525259,-2.349895367750639,1.0603780060599766,-2.3611505371111177,1.6193611170699607,-1.784611697760541,2.01313941949071,-1.5202528391744652,-2.1400750941031275,1.5334225418841791,0.4570996343225852,-1.6024565012275178,-0.2745138364173974,-0.7515869821822727,2.5158495537325187,-2.451088494629299,-0.6876397266966846,-1.8114396301042934,6.178690407137571,-1.4266345436012955,7.758337068333959,-2.5578047167868903,7.201424588460709,-1.1999946632541212,-1.1842831370226568,-2.565558111437794,-1.7938028045727579,-0.1998432238903139,-1.4839461668709075,2.2187839855312332,1.3612227525680274,5.496376850384895,-2.469848800471464,-2.040492424431982,-0.2835564185252747,-1.3187116910365968,0.5945464870813967,-0.7777673196648307,1.5801575180416716,0.12236556146698048,2.754777400627553,-0.8705788149269672,0.787841297679322,-2.8473042424368713,-2.3715429391868383,-2.1312862164609037,0.9947121191859956,-1.53164483743135,0.5794951981459444,-0.9393265932696041,-0.68572687900082,1.371302711332314,1.0097771840449654,-2.22418599946227,0.5652072382817744,-1.3775598873685466,1.62268198159128,-0.6582941220584551,0.20385767708073202,0.23161619704153205,-0.8359116404059026,7.38011831412346,0.38050723559825145,1.842287278611081,-2.7746835827600322,-1.6071106980901761,1.939009614010775,0.8751126373899256,-0.9819343754372135,-0.9939920550858203,5.542251909281893,1.0231150577218175,0.28278076600718255,-1.3969430448805493,-3.047269080615739,7.137962949555703,-0.7565802198468842,-0.04483586440504744,-0.6139091539795866,0.39644168080367737,-1.4513438990612844,-0.18740751291392133,1.9696295967303799,1.460667424142931,0.175550184373523,-1.0471959264357955,0.15747168433348427,0.5951520320301938,-2.2150273231013893,-3.3145810207189204,-0.6582941220584551,-0.719669327571327,-0.39273734591604004,-1.0777436530589848,-0.02832074666378158,1.1587672696953528,-0.5793092719540761,-2.0904039334581466,-2.8473042424368713,0.51470535771441,-2.847868055788976,0.6916443935961377,-2.239308673921517,-1.1299468178190606,-0.7845682912285901,-0.27470177420143244,-2.814941573344538,-1.289220358948564,0.9428536577743082,-1.1998067254700862,-1.085976745552662,-2.5392328394993746,-1.1576113792350393,1.6921941950209283,1.1256211393352602,-2.2388514559309582,1.0002817149632381,0.21042370016739162,-2.349895367750639,1.6575076021336228,-1.6065101277054106,-0.44030330052996985,-0.4525374445447456,-0.08176030836988493,1.5389005952673827,2.2349327242978845,-1.0646739429587317,-0.3948068524924355,0.9874161027172029,2.17310882230075,-1.0641101296066267,-0.5899384452886105,1.4769776784399529,1.9185224877470353,-1.6784935439792277,1.4532195440174895,0.32253926101962055,-1.8092184712354162,1.3253252541280274,-0.7127113747604247,-2.349895367750639,1.465656014979532,0.6458289071956506,-0.21711489283102803,-0.8973172468759251,-1.214408366129602,-0.24638558673520664,1.4173034635214226,-0.5025046789541547,0.7086009238598026,-1.3775598873685466,1.0204793767645937,-0.8353478270537977,0.6616095384894549,-0.7991576149906422,-0.3270717297393048,2.611081461588579,1.3960186085351953,-1.4800343485407685,-2.363296734437826,-0.3270717297393048,-1.2671943487047024,-0.264374334305475,-0.6582941220584551,-2.181118003258272,-1.4700827842128814,-0.16986457929717913,0.30568361422149537,-0.2689830916165605,-0.5095162854609157,-1.8167560795697384,-2.785173047909399,-2.1384088865377997,-2.2654013074885517,-1.5767276948452003,0.787841297679322,-0.7780836105644193,-1.4593886525274447,7.021172626259368,-1.3436966317362407,-0.19965528610627886,7.099173670494692,1.3281087551210158,-1.2242684898149852,-3.082196650950264,1.0978999067495854,2.520793953448075,-1.7688052730285464,0.9204063492537887,2.1910980588822344,-1.4510904328160856,-0.6181103067356614,-1.8108758167521881,-0.3608183712523362,3.3112648185848372,0.2815955365883807,-1.3708059264978518,-1.9567957890958896,-0.3060949727025299,-1.3631435319455136,0.24094336273708902,-1.3460836740536533,-1.4693402168553318,-0.7679602038191815,-1.9996368698525617,2.4043309056956823,0.26823493739172183,-2.0108636944554354,-1.2283017030553718,-1.0909175645827094,6.208398211540202,-2.476749004543942,-0.8479149557580659,3.6666787156784575,-1.0895680155479204,0.49596841970287214,1.6055247361513283,-2.0308353932496765,-2.489600309436729,-1.1574427015932,0.4184955090352098,0.07450269886013942,-2.5331240344032744,0.2786258272159739,-1.2066607930046567,0.09722352886528193,-2.4429302122012717,-1.6819859749872377,-0.1998432238903139,7.257838833163724,-2.1190266232586543,5.150903123362189,-2.8144875639480986,1.3614039617853042,0.7360666435865687,-1.0644860051746967,5.729973087396034,-0.02832074666378158,2.6092581732316598,-0.1998432238903139,1.7120910592256209,0.10368295659039525,2.617165013745622,1.030968241001401,-1.479006916958392,1.6260138698142514,1.1377741758920326,1.3088076667134803,-0.6544983117784982,-0.4589067257178402,1.316377378917201,0.5258512387784103,1.3570482760677725,-0.7546436983083872,-2.5399845906355147,-0.5372529829398501,-1.2668184731366323,5.404391579400333,2.2452203442863925,-0.1998432238903139,-0.5986473886172747,1.1551009956028535,-0.2762402797188682,-0.4763587513093775,-0.753888131852427,-2.462833340857046,-2.3195055206146336,0.9657938595111197,1.5414450033644518,-2.8074390699318226,-1.1163807045904666,-0.9048042962794413,1.2916198701459467,0.09722352886528193,-2.349895367750639,0.3344929709516975,-0.9867709420441235,-1.6964850101580229,-1.2168674320888286,0.875643079437712,0.04159519226013554,-1.9506056415772999,1.5181694462583504,-1.6781176684111576,1.642766026966034,0.787841297679322,1.0505034956559232,-2.6696266914498157,-1.8116275678883282,-0.02832074666378158,0.8037983777410891,-0.27752317140917276,-0.5704376329831751,1.2982397515439505,-2.5965690463226303,1.5721364635943973,-1.6484426559852376,-0.4589067257178402,-1.396648511734968,-0.24141862722871366,-0.8981316778312353,-2.0141298680510946,0.07712981073794183,-0.9391798521037354,0.2887207080183372,-0.7628150942023759,-2.3264478825072215,2.5717798013395563,-0.2868879144165112,0.9783869029825578,-2.8793526398060014,-2.035385126372192,-1.2266310586326807,-2.650638557202651,0.11230717571333496,-1.0004420936907727,-1.0155347951852978,5.68162831583038,-0.641177565673261,0.8974218385817241,5.47044161164006,1.9372676680763448,1.3350482152092447,0.9602457631079613,2.4474969886386697,1.3564248780471857,-1.72455377989823,1.207039801381857,-1.3996594023719016,-0.7847562290126251,-3.0085911194833814,-2.8148634395161687,-1.8439220444271225,1.4820576722120242,-1.2898623415074735,0.23176880248439966,-2.0403044866479467,5.4119635840231055,-1.3901890840098547,-0.2730426762616756,-1.440297465821427,-0.37499720711190987,-1.2590182279842161,-1.189667223358164,-0.5787462282685799,-2.1964597151508634,-1.0298598317471974,-2.3954366172099846,0.0729030446107886,-0.8437253710018412,2.371234767741478,-1.0302210203394329,0.9402387928723354,-1.1998067254700862,-2.53979665285148,2.6222988624294272,-2.0403044866479467,0.11289624200449758,5.399847955898767,1.790373404456446,-0.8353478270537977,1.0899003706455248,-0.68572687900082,1.315185752016105,2.039250150747607,-2.923375936192986,-0.1696766415131441,-1.4827336491654233,0.024995079584453763,1.3287522541066956,-2.54017252841955,-0.4788098543736146,0.5632721438769792,0.09722352886528193,-1.3669392004222,-1.4494370881995573,-0.5527725305599048,2.1096958065985243,-0.16948870372910907,3.2081008990785826,-3.4721296584884005,1.3755147182957257,0.31888287237781204,-1.6413941619689616,1.554140002672015,2.953599728826428,-0.8454056498699711,-0.9295428058871241,-0.6582941220584551,-3.048020831751879,6.56755611069672,5.975092039273374,-0.897808256221198,0.5289790277439397,-0.4976164185074541,1.6391652479709693,-1.5119543004808746,2.420134242883227,3.0887493191746094,-2.0310233310337114,-0.16948870372910907,0.6720329354680808,-1.0915545417662316,2.294594417882399,-0.1696766415131441,-0.20003116167434892,0.07087659409580264,3.3872248776375438,-1.1760817704127018,-0.3270717297393048,1.1658881270070771,-1.8846970890741261,-1.5657362970443505,-0.8578665200859529,-1.5286579415805874,1.0581158030243036,-2.130074332448091,7.053227520891393,-0.5842275075703938,0.903263524329639,2.406781121320133,-2.194180137084186,-0.6110618127193853,-1.925540749363081,-3.0474570183997742,0.8280251130021156,1.8163466386104472,-0.5201643026862702,-0.45920125886342156,2.4356416113101114,-2.4715506831191765,2.0556926653314416,1.6189852415018906,5.5042157588625455,0.3890611480749957,-0.9048042962794413,-2.1897926917349912,0.5449282340579299,0.702385394066882,-0.987903907658495,0.9745283897989321,1.9652806450253657,-1.3501880964924493,1.8989557725458581,-2.305087208860888,-1.9506056415772999,-0.3946189147084005,3.172494967217601,-2.144293772588462,0.29924018487301407,0.9731726516497585,-2.8749289842316568,-0.6860214121464013,-0.7153723708867937,-0.9048042962794413,-1.6816098050139316,-0.3494567812127887,-2.1695373010205414,1.2833887941460702,1.0005762481088194,-1.2066607930046567,-0.010771500260984326,-1.0633583784704865,-1.056980293167862,-1.6065101277054106,-0.5219060932519891,1.375099490727201,-0.21711489283102803,-1.0275065692765364,5.817805396674322,0.717636294065317,-2.2110626317322755,-2.5914453679421854,-0.8872490256741139,1.539024403982457,-3.082196650950264,-0.11119084290639746,0.9825020989972632,-0.8353478270537977,1.2137588615114285,-1.2264431208486457,1.2061216475284402,1.4272852100445406,7.243361251772879,0.27369182651403073,-1.7442399446537125,0.42796851948593406,-1.3751785600831905,0.11942978898248742,-2.493335725709448,1.2749141453867003,1.3149318145923077,6.607550305792303,0.740169835545492,0.5654687981729326,-3.534646918674099,-2.2339488493690123,-0.9171307431826514,-0.7851321045806952,-2.3418908159149434,7.465772148680549,0.4898720975733419,2.0516877974790124,1.0112157441796557,-1.18613925163374,-0.169112828161039,-2.5914453679421854,-0.853748215818174,-1.178786576379183,7.142304268784548,-0.21711489283102803,-1.4693402168553318,-0.8355357648378328,0.34069929584352776,2.24614533655233,3.545866842561464,1.5783878707975836,-0.04806791907691846,4.564835705713419,7.43045113078878,-2.076621271615341,-2.5396087150674447,-2.0481816970669167,0.20656370830518075,0.2809194531094146,1.0170828579168294,-0.7332549343642956,1.3295984341676637,-3.082196650950264,1.767111392615577,7.3701667497955725,0.029960228569293257,-0.2868879144165112,2.1922520684930875,0.3399860177107005,-1.9641135633186892,5.162792861822813,1.7682153819953557,-0.7677722660351465,-1.3118511348043558,-1.479758668094532,-2.181184221576014,1.5623668636302135,0.8385910336225991,0.28887192468944234,-1.3775598873685466,-0.9103767823119566,-1.7312590376445882,0.2786258272159739,1.6594456852847932,1.2853928854685035,-1.5749060322715098,-0.041715086713351585,-1.882633173428629,-0.05242545040053845,-1.8116275678883282,0.6001569862151532,1.508909164017454,1.0420121776179765,-2.3594585042208074,-1.4053613992433898,-0.6155900574524993,1.4790334767074713,2.2153656513027307,-1.6178994956465476,-0.4778428988675732,-3.0478328939678443,1.8130855611519505,2.0344655636606737,-0.02832074666378158,-0.16948870372910907,1.0871443232391056,5.404579517184368,0.1620839573563569,-1.3187858670972166,1.4195171579724426,1.0988056506916903,1.591930630622876,-2.207313595647188,-3.045121168768811,0.6024949739564759,-0.5160110007598108,-1.1390852319860054,-0.9340864985765331,1.362082767312451,-1.8436275112815412,-0.8556155978704367,-1.2904074519289324,-0.4577823807699745,-0.6217513479234432,-2.540360466203585,0.6930737303420818,-1.621268824387506,-0.24998447117792771,-2.4199607675194024,-0.22011157406322507,-1.9688015444338682,-0.8454056498699711,-0.8335541917593959,0.2809650744529004,-1.5068702674837766,1.351075982144465,-1.0641524383552583,-2.131433878722833,1.0005762481088194,-1.8974669309537715,-2.3264478825072215,0.12274358267619699,-0.2715096630733633,-0.5804479261341593,-0.2740886680161585,0.1669437063344921,0.6864247404710129,0.016907043637652223,0.12303574411641983,-1.053123175191691,-2.897377648068118,-2.0770111138574188,-1.0575864152685985,-2.0865728359432283,-1.9371266756357024,-0.45891807780820126,1.6874497347477515,-1.0606774233642449,-1.9260980314959244,-1.1986790987658762,-1.1390852319860054,1.4972406934853324,-0.9571233443558802,2.3013422820614107,-0.03841088789461258,-1.178786576379183,0.22505017395487228,2.4588200527774493,-1.039034391999887,-0.2716077281890422,2.15725918368235,0.43441414311786414,-1.1499367429055756,-2.6026658465936285,-1.2504848027221862,-0.9896740123557348,0.5458302800658343,0.7281345501335487,2.0351567823715064,-0.7632055350124238,0.2051103442116034,-1.7217429738649002,-1.6002491898154902,-0.8581610532315344,-1.074774411396797,-1.0284318578886082,-0.7031811177505954,-2.2128357680895885,0.76969039256072,-1.4693402168553318,-0.3270717297393048,3.530547546212596,2.4898311565630995,-0.2453671626741486,-1.7172240745259248,-0.17989320633112998,1.7097163163409912,-0.13439762002751318,2.056302331206228,1.4285893195003572,0.25333526263577116,-0.6498512976068441,0.0462808854660315,-1.8092184712354162,5.537956579474996,0.6125572305117029,-1.1390852319860054,6.439297977117599,0.7613747843584381,-2.5331240344032744,0.3273181723550585,1.3170467740662066,-1.3631435319455136,8.935754525732317,-1.2066607930046567,-2.8144875639480986,3.982871642553419,-0.7851321045806952,-1.1626954186268177,0.396147147658096,-0.9531283358019564,7.314332222744551,0.422261732421813,5.510249551394784,0.42098051779957096,5.500296304623721,0.16962732920159698,-0.8646204809566477,-0.9398090641992206,-1.469086750610133,2.0758665060824724,-0.050588303175741894,-0.9610080408924578,-0.041420553567770274,-1.2668012570515619,-0.21711489283102803,1.0374244145062748,-0.3397520849925287,3.1362365327341983,-2.2339488493690123,1.3249013635476123,-0.9048042962794413,-1.5971597216307258,0.6577150645042249,-1.055823603584466,-0.8869898069799677,0.604578587730931,-1.2048649792105355,-1.5526670404654788,-3.048020831751879,0.30217031851700266,2.0331938584899203,-2.841417578801567,1.3962895978299028,-3.027778073842237,0.3068582334821912,-1.471958422942116,-0.06384571841059856,6.3995253078911984,0.35420563981736114,-1.726129354572091,-1.5191907322811855,-1.0046935943417101,-0.9046163584954064,0.9503670391972004,-1.5195666078492556,-3.0815794812671515,2.339830963875383,0.3516336070108574,1.552611247460677,-0.4530276518126017,-2.4922994220248733,-0.1625984532966149,1.0063097485499957,1.4832896255475239,0.779916107740688,-1.8024645103647219,-1.0213109987203537,8.926345017002527,-0.04976487845124939,-2.3725982272783317,-0.9969104441560459,-1.6065101277054106,-1.4725222362942212,0.009158711601351977,1.4781446917847894,-3.0080273061312766,-3.049057300328282,-1.295898537216218,-0.3012573648420796,-1.7403284746233565,-1.299322110139249,-2.6763948249394334,1.4541429956870042,-0.14684468179707266,-3.510989010255227,2.455622449320256,-1.3586741214131295,-0.6181103067356614,-0.8564630228394798,-2.895181734178274,1.1580774738673476,-1.2664425975685623,1.7663234414368996,-1.6507186740042394,-0.7514728899385421,1.1866602159341861,-1.252086455011346,0.44696013221066294,-2.3432271205285646,0.5125333173211986,-1.4513438990612844,2.317900534938592,0.9584540702651487,1.857219147025075,-1.3413232056465476,1.765507892184686,-1.2663995712876963,0.31337338415864924,1.2278995279786487,2.424629164415354,-0.9967225063720109,-1.2264431208486457,-0.5704376329831751,-2.1179424608020794,-0.1861945945694303,0.2436978786432142,1.0426747301104484,-0.5469386392972141,-2.532560221051169,-2.531996407699064,1.2600889500688823,-0.9968856814820266,-0.8390361129795642,-0.27760484451304374,1.7360779849656423,-1.18613925163374,1.8109631188288555,0.15443388846873304,-3.0474570183997742,-1.6282275293972301,-0.38801961671347296,-1.1390852319860054,-3.509538516220504,-0.9969104441560459,-2.349895367750639,-2.472784905184933,-0.4890559518470831,1.4587344980173713,0.1681579903019674,-0.6381069485390992,0.7018410511063379,6.210000757643995,-1.4513438990612844,-3.072245086622377,-2.3290401424740677,7.212291807046996,-0.5704376329831751,-0.4353230002361211,-1.1879392143871679,2.0664062512043135,0.31248110133018697,0.3868291085376059,5.723581758328171,-0.3270717297393048,-0.21085058102174073,-1.001056766023651,2.4539140540821327,-1.6319223838169596,-1.6036048925423094,-1.5191907322811855,3.3367008902637507,-0.06384571841059856,0.9742669349321232,7.079579555780089,0.2869483049603365,0.022615095441763225,1.65079325259913,-2.078968898979519,0.015878867502771524,1.413696835333518,-0.6863159452919826,-2.3399438034227518,1.4747624063274738,-0.6181103067356614,0.7462404494723033,-1.6399982482016535,-0.6060695579268335,0.6004747155957482,-2.8473042424368713,1.331127144910639,-1.0742919404671805,0.31215005945849095,-1.4513438990612844,7.137569778788721,-0.7443844759057965,-1.3651273621658002,-2.647021462424538,1.5312928881108234,0.09722352886528193,1.8345308659921864,2.1620203699737703,-0.5238834383260721,-0.6114184735428779,-1.9425906603766494,-0.7628150942023759,-0.6236785239275026,-4.1629311442537915,-2.2882324896075366,2.1996578609506563,-0.7609117098029057,1.5794544014906222,-0.68572687900082,0.787841297679322,-1.748884694152819,-3.4640597555359514,0.5496720987051439,0.9801772493619563,0.12882476312788183,-2.1646941787027765,0.14754537294465467,1.3807003040809076,-0.05183638410937583,1.3567187631785225,0.07202207667049687,-2.193848058911882,-2.5846129900388415,-0.00546273499997093,3.971559564689833,-1.5808477763590183,-0.6924152210351607,-2.8473042424368713,-1.674078840068039,-0.031174456094301722,-2.0023873576839035,6.192627834784905,1.6684362961878891,-2.5914453679421854,0.502706833672931,1.1277602047351407,-2.8473042424368713,2.0030222705108987,-0.7987869679645663,0.020853563694235248,-1.2701877941809134,1.173302639841566,1.2479089716604665,-0.8491207796880009,0.22531326816846162,-1.5121422382649097,3.423603855794567,0.175550184373523,1.7691363038429764,-0.2040298743958156,-1.8092184712354162,0.7995881123005991,2.142460684660125,0.43446426667642846,1.1176746607134456,2.184514612262666,1.7337060559617778,-0.7628150942023759,0.20540487735718466,0.34548165066155734,-1.8110637545362234,2.6983153326172618,0.43690197252122936,-2.8473042424368713,-1.0642980673906617,0.23246835754628395,1.1022715518358845,0.6347439031493193,0.8982068165294937,-1.1001312055892598,-0.8966468381622735,0.11013029384230359,1.1322184563203201,2.511484475887218,-2.1336559453432233,2.020802232737206,-1.9426156189104713,0.02268453626068802,7.656712688005893,-0.21711489283102803,-1.174905970724784,-0.6582941220584551,0.6231746783146672,-0.41968999700445364,-1.1565261399261797,0.977759071534897,1.8624881074833235,-0.9048042962794413,7.451087473694447,1.1869138342009244,2.6296437728170505,-0.5697658467504013,1.4767552538159545,0.48934668363854844,-0.2868879144165112,1.4565983029651624,-0.3011359937891683,1.8661284041637345,1.471931313893422,0.787841297679322,-2.0265020317609763,1.0391265925126068,1.072843490286248,2.2942663870638467,-0.07979753430107968,-1.1102055780115583,2.326040040804996,1.9538535151626253,2.171382868010495,-0.04806791907691846,0.7547702051166792,-2.8074390699318226,-1.130149771611714,-1.1626954186268177,0.15273271217860276,1.9066664535363116,0.21401405167317042,1.9679570969209252,-1.2601458546884263,-1.4876149315826808,0.20459414092081027,1.21329127916343,1.204006189343581,-1.5894425632722118,-1.1870537484272525,-1.6079807283609322,-0.7443844759057965,-1.1722043545747207,0.6544858695758613,1.0699376791210269,0.23236176218473767,1.0413723573154592,-2.0009121301275483,-1.716553665812274,-2.1497125221536444,1.9339126093539434,2.1258122655059433,-3.032938400161429,-1.7847996355445763,-0.8355357648378328,-2.3264478825072215,-1.141888195633741,2.0135629011299483,0.4954111492207921,-0.6110618127193853,-1.025265566797864,2.458337581847833,-1.2011188589222765,-1.7312590376445882,1.3614039617853042,0.01631003848453994,-1.18613925163374,5.162428873840107,1.272023555829214,1.3566128158312207,-1.9513576871186757,4.343257959466269,-1.2097582897979733,-0.8933386089005324,0.582466620617429,-0.6181103067356614,-0.6582941220584551,0.3989242542376596,0.3202657248711944,-1.3698422707338114,0.46057579198708215,-0.9157532647559535,-0.5184823640121758,0.07475290122388989,-2.4891187841550146,-1.3933065700083345,-0.7734863690055622,1.3493763840309096,-1.7851541342722084,0.2485817973957814,1.2046708794582546,1.3995074339551221,-2.1159276574228625,-0.8275475819013818,-1.9927370453777933,0.9833203699918709,-2.0342209344909037,0.438237827650562,-0.8962457096551458,-1.6532752256489582,0.196604596891632,-2.8144875639480986,0.5053153708389608,1.4358567775371633,-1.9506056415772999,0.26999311833752765,1.273935836642311,-0.5704376329831751,-0.1998432238903139,1.323483197270487,-1.688069232739045,-0.7453241648259715,1.189974105803538,-1.1453435560322698,-0.8213621519961908,-2.318606245381864,-2.671463392919583,-3.46726341865356,1.3448044922033868,-1.4513438990612844,0.3895058000049949,-0.669340164929851,-0.8344081381336226,-1.231408424473765,1.2253570111237073,-0.7628150942023759,1.6384771763851447,-1.2066607930046567,-3.0474570183997742,-1.3526456303505592,-0.9902378257078397,1.0279993641039493,-0.24640516033097798,-1.5080911920391422,-1.189667223358164,0.1428322774106479,1.2198944360213557,-0.5704376329831751,-2.3264478825072215,0.33998359912411064,-1.1554865191847385,-1.6504023831046508,-0.2816095988462545,1.8832427523856685,-2.0208152587833226,-0.23698258860961768,2.674892074639211,0.9451957105185846,-0.7268189618790711,-0.6258333841116944,-1.707379105559584,-1.6779882770169345,-3.4445749731476814,-0.9048042962794413,-1.31873019388999,2.4644701087219794,0.7436833294544016,-3.0007908743309653,-0.1441612465713654,-0.30391222148198854,-2.7783124916771587,-0.896941371307855,8.926050483856946,-0.5088928874403291,0.736767190734731,-0.3206604065671087,1.1760760328519968,-1.479006916958392,-1.3658479926342475,1.3204831219984892,-0.019095624127966716,0.20481581106602204,-0.10681697294284415,-1.1996122989883806,-0.21711489283102803,-1.2671943487047024,0.5637685081779489,-0.20085472324170292,1.1563727665207466,-2.8473042424368713,0.26071623877382716,-1.2264431208486457,-0.9048042962794413,2.6833938192840803,-1.7433002557335375,-3.0474570183997742,5.545193011275307,0.10266239801996084,0.9716589133896865,-2.1647537233555925,-2.0404238542935156,-0.8646204809566477,-1.2664425975685623,0.05185815972180146,-2.1126658331549417,-1.4837814678956167,-0.041715086713351585,2.2497188155775927,-0.2674653424011216,1.6405567297224521,-1.1676086190363766,2.1398115924521726,-0.6582941220584551,0.30877505334521677,-1.8118155056723635,-1.269231739886163,-1.9168296326770757,0.17492603699366271,0.6411248605438998,1.8870689085418357,0.5043091472845795,1.1209061789753456,-1.4336114914369336,-0.2834767115191791,-0.6055252060035452,0.8728368866665753,0.3974763345182021,3.709703941841469,-0.5971959407554607,1.4578457847714452,-0.7774292972174522,-0.14259781805144275,1.4147041643993514,-1.9373378262715995,0.24936182052890074,0.08272977902047914,-0.22612722397601195,-0.5704376329831751,-1.1566439412190066,-1.93773719108622,1.7242860936633502,0.4729449499640312,1.9794171945633965,-1.2822859359845609,-1.3413054122990047,-1.0741040026831454,-1.9401700609946546,0.7123877927066935,-1.1198484554002506,1.9265697582946817,1.4888877717588433,-2.07632673846976,1.5121865664662621,-1.6642671645524525,-0.2202995118472601,-1.479006916958392,-1.2923647282837698,-1.7312590376445882,-1.2671943487047024,1.3957796234581732,-0.2868879144165112,1.6678411392375583,0.8114110170451583,-0.6698312309649904,-0.333035829805007,3.650499242374263,1.1554535489268052,0.550153080604207,0.7620152845164454,1.516270979623443,-0.5579341160631571,1.075305545303062,-0.3065774436321463,1.300223184570245,0.756932378728164,-1.716553665812274,-0.799975952611597,-1.1842684687615084,-0.447493721863252,-0.16244020971283302,-1.3869914805526622,1.8460479048863259,0.09174136875470493,2.74657602696801,-0.27983942040023513,-1.6422054977735832,0.5784920130850387,-1.3775598873685466,0.4854580043208502,1.0573387989491063,-0.25889355244974654,2.3558947337886575,7.281032971258464,-0.13487500352693912,-4.451231064268548,0.5781938269422737,-0.19548031121927326,1.6212732452078022,2.467694650440026,-0.9073548164135564,1.7377521446814397,1.5640083512968543,2.571218323415322,0.8345097936662866,1.1202231765028674,-1.8067025072993994,-1.3775598873685466,7.092660159885426,-0.48876141870150175,-1.5574663502825277,-0.9867709420441235,0.3797939574654242,-0.0008199359330971331,-3.0474570183997742,3.792495580946129,1.1167831268070956,-0.19317060544210787,2.2793855707772197,-1.943533550076639,-1.3634380650910949,2.1039792531317034,-3.8102730591526335,-0.5481558917126806,1.6103817241928364,-1.6813152718683502,2.295727338452499,0.01472964938962184,-2.775480922042959,-0.7449482892579015,-1.3631435319455136,-1.619775214035008,-2.0315871443858167,2.2397672512497055,1.3612160240012692,1.3863534460255924,0.2885266428802151,-1.8758792125579342,-1.3586172405514216,-0.414056768303841,-0.2913030858390358,-1.439989576739558,-1.724867755821319,-2.0308353932496765,0.7576544935849936,-0.7441965381217615,0.396147147658096,0.8701562371418896,7.2481970249975385,-0.18244960001450014,0.3753975295403771,0.6287597944928155,1.051067309008028,-1.1390852319860054,1.4323501549654876,-1.3631435319455136,-1.7049035626982545,-1.8106878789681533,0.46323499981612093,0.9873730156996328,-1.284189469283985,0.6030622477575158,-0.9881984408040763,5.996144377677829,-1.4275661257704706,-0.5731433182763424,-0.6181103067356614,-0.2975091080562204,-0.7847562290126251,1.6219378713374348,-0.16948870372910907,-0.9035887368170034,-2.130942760193761,-1.3631435319455136,-3.119402609607239,-2.050515342066185,0.9040904354285239,2.2795735085612545,-0.7846544334754417,0.5272777472721439,-0.036484895095584086,-0.2884693634355671,-1.3613346154487027,0.04598473254611629,-0.5250148791574949,0.32233713150814414,2.7361230365309885,2.4579771188033392,1.0632793008819386,0.6772560016018194,-1.179556785403715,2.2797614463452898,-1.5907199057246142,-0.14245372247574137,0.4567242933002536,-1.6813152718683502,1.525168128342312,-2.7640203357003275,6.1903262322348915,-2.349095295185158,0.6328263827265723,-0.5975805243592672,-0.530845935846515,0.8282130507861506,-3.0082152439153114,0.494081181179378,-0.6592006628179287,-1.2264431208486457,-0.7439365675245398,-0.1168172496877605,1.769269308993984,-1.1756795025005258,1.0105278124367065,-0.2789697928197453,0.6406242343340238,-1.6814510853099747,-0.4858754189294138,-3.738529351523968,-1.2877061882482923,-0.37875189023228256,-1.2227644878012724,-0.02832074666378158,0.03222226267897933,-0.8868832116184214,0.7580566982218255,-1.567563005109653,3.1274112198543706,-0.33544170124551803,0.5230836819098396,-1.9582182433509168,6.597680083886906,-1.6808328009387339,2.977415756533117,-0.02832074666378158,-2.3264478825072215,-0.09815933968370072,1.1078514710774727,1.482316293641249,-0.45920125886342156,-0.6599776668931264,-0.7631096273479572,-1.7288143630124828,-1.893636907158895,-0.24340549251375765,-1.4126101743014667,1.4891729788193937,1.5788585086903624,0.28939279917516353,1.271171387842442,0.37981550578952944,0.5825953057496362,2.508875938721188,-0.8968347759463086,-0.6582941220584551,8.537779354627219,0.6257595582232072,7.278472470057695,1.4103842396046604,6.034887872737051,1.8462635293885163,0.3222513031971491,0.5080209652145481,-0.7447603514738664,-2.5498018417681108,-0.8646204809566477,0.5808758538500213,1.7283376205104102,-0.6552211794524884,-1.6615523264301124,-0.5747464142954595,-1.3563895710748188,-0.46230417180344935,-2.349895367750639,-0.258631653835963,-0.6262405544282393,7.268178783306136,7.311489459428554,-0.7528635298744887,-1.5997561668347162,1.2982443411935676,-1.3207868673512841,-1.074774411396797,0.13364159324807248,-0.6554311539981966,8.310322760459961,0.27673832081560973,-1.486984135000755,-1.1390852319860054,1.051067309008028,1.3859604488457617,0.11346005535660265,1.3580251491108348,-0.7176016635838904,1.8643330014812216,-0.4589067257178402,-1.4513438990612844,-2.774426263580183,-1.726129354572091,-2.071279981473449,-3.4159341020720673,-0.41347679103272955,-0.523507562758002,-2.464726863763948,-0.11081441698492972,5.5404801199465155,-2.4077501733969275,0.24756690957079933,-2.0254550835510536,6.489284413500925,-2.1094612501520924,-0.7222725201267286,1.3616514842378207,0.41820097588962857,-1.0861249384996616,0.3939940899961725,0.794889791695598,0.7594977551742177,-0.1140120204421225,-0.7853200423647302,0.541431341667051,2.1409643616747283,0.4249956888851993,-0.31994123693483445,-2.472784905184933,-0.9364503313468183,-0.3950681107297488,6.245435999057356,2.4054646176440584,-2.0906229064632837,-3.7940125053192664,-0.9337451782899537,-1.2666305353525973,-0.6628510031446114,-1.7048547905160425,2.3070396792808565,0.8612320755768409,-0.9616620569184151,-0.7573841651684823,-2.0599598822155163,2.2497188155775927,1.2855973959722955,-0.4452745645640083,-1.9513576871186757,1.6394427444065245,-0.6904047683344161,-2.2223771143483306,-2.0571392400737256,-0.8964927205041106,1.1464302273256608,0.672848917387449,-0.9652844610136797,-0.007445808624872554,0.23986616291637253,1.1078514710774727,-3.0007908743309653,-2.0240814323789817,-1.9332531208737467,0.8055965357533594,-0.9070189699275486,-1.6686005260411523,-0.3270717297393048,0.21076524813828537,-0.886976563978539,8.46460951540114,-3.0078393683472413,-1.1390852319860054,-0.5966906182070341,-1.362059662654357,1.046729396555008,1.4297012451359439,1.9630383261054294,-0.5604726839646438,-1.2266310586326807,-0.2868879144165112,-1.7312590376445882,0.5725480931514928,-1.5191907322811855,-0.7809096982623815,-0.299683241762784,0.3402282133955081,1.8864887508100678,0.3808831111663215,-1.3631435319455136,-1.1261766694022766,1.058289588939871,2.066308921314818,0.787841297679322,-1.4513438990612844,0.6728135895124197,-0.2531395476059012,1.2402283029973247,1.5971828293248922,-0.038269841318387954,-0.15080861208051363,1.139464240363206,-1.7312590376445882,-0.26828758626054156,-2.420233800129655,-0.004229931868740668,0.4948329323155181,-1.4019216467162703,0.018505466307245203,0.38619558333020876,-1.7811361077172945,-2.347939244964286,-0.8303626857966026,0.23932233966688776,0.4057875849906502,-2.4118014472920586,-1.60044360693675,-1.18613925163374,1.0745277346963993,2.2259983289956864,-1.668306287300807,0.10378216341705952,7.443698751334906,-0.3379101692167841,0.8506289840541852,1.6583924763878246,-2.5028917834083675,-1.3730312299359497,-0.9399970019832556,0.6525416896823828,1.9457533919376613,-1.9016041065340188,-1.225189229459628,-1.3682498101729466,0.30672035062212677,-0.9160430359800928,-1.6441652248929963,1.2015042475390973,-0.16195201038006063,-1.688445108307115,0.8730902458740913,2.0480625820134626,2.003285742972737,0.19525328115283833,0.16656783076642204,0.39644168080367737,-1.2666305353525973,-1.9035884714867821,-0.04029025794484717,-2.8543527364531474,-1.942991788883777,-0.33170034760327965,-0.6284216934376691,-1.4403654523076281,-0.38511654640186155,-2.0546173074908185,1.3652160953040615,0.5572269466520705,8.936002048184834,1.1075569379318915,2.132559327937163,0.7892752267914239,-1.0355606288229646,1.3419086902034156,-1.7312590376445882,0.21090910669841043,0.7870895465431819,1.0764943985659303,-2.8206581778672346,-0.8454405726965851,0.18390065892750482,-1.3678990178194754,-0.03965343851323448,-0.2956891437726368,1.2212256231195053,1.486365429415735,0.7550832560303593,-2.3595397598875203,0.2236847312933826,-0.5704376329831751,1.035689617349259,-0.9934742219425333,0.13691231825626685,1.744910255215261,-2.840507780550394,-0.46294493948865717,-1.395823306680396,-1.2193946268323699,-0.777134764071871,7.473763985889025,-1.3806404663834715,1.3367061762674544,-2.0036184194085154,-1.3882923417345034,-2.728548276429994,-1.18613925163374,-1.178786576379183,0.9702295384790862,-1.2986010957683776,0.2788774214951712,-1.8545226198434832,1.9935427160125088,1.3311728534886904,-1.4246083722683056,-1.1754432515333795,1.2773365090658042,-2.369873685457023,1.4510072827670586,1.0041214265704015,-2.5627315675556726,-0.8874722779095839,-0.7679602038191815,0.7040436526207521,0.5695168574686572,-1.9813989752276864,1.1744191091466312,0.765329089428629,-1.471770485158081,-2.3403472123522877,-0.7628150942023759,0.4846604910470463,3.1612697321279373,-1.6513311874904655,-0.19965528610627886,2.1028655834360546,0.10363094812835458,6.501656577210807,-1.9579237102053353,0.20062122045165898,-2.0407183874390973,-1.145319214077636,0.26493192141162963,-0.6645790499145542,2.1804251410085334,-3.082196650950264,0.3218937302602291,1.0925524692470359,0.48404937711775564,1.2700923985079524,-0.02832074666378158,0.44743508420428885,-1.5191907322811855,-2.349895367750639,0.5993498715033961,1.4803112039306043,-0.896941371307855,-0.37436047759946733,1.8886950150049409,-2.277053950835037,-2.053475457072067,2.0085854782094024,-0.6259636115986725,-1.7312590376445882,5.968808634703795,0.49177843294598644,-2.3264478825072215,-1.664876369728951,1.0678203278187526,0.787841297679322,-0.24581609403981525,1.6547332890421982,1.4351410527523765,-0.2868879144165112,-0.8349719514857277,-0.03275988403164436,-2.0652963879385737,-1.1128544774512554,1.541062156665265,0.07298136690274318,1.6532576724443242,-0.11148482569858115,-0.1696766415131441,-1.0641101296066267,-3.072245086622377,2.0657512403486384,-2.689096751431493,-2.472596967400898,-1.3656910612711375,0.10596420302325399,-1.0635463162545216,-0.041527148929316554,-3.082196650950264,0.7872774843272169,1.191515925999217,0.7492023336472727,0.175550184373523,-0.8272236604930807,-2.383619362147458,-0.7581965772753292,0.18938157378147602,-0.5088928874403291,0.48377083625017264,0.6297354907149969,0.5722426129146214,-0.02832074666378158,-0.7775197972123142,1.2411257098939477,-1.9906660326540795,1.1025527094450527,-1.2732339685801857,-1.0574798199070523,-1.9734233123225124,-0.1998432238903139,-0.6361765485037252,-1.1920064803176702,0.37813701921453263,-1.5191907322811855,-1.9552326236021502,1.0231349407498165,0.13757553531782832,-2.3293445457882918,-0.6905385977989654,-0.68572687900082,1.6246107968224357,1.699086283650406,-1.2465769699766975,1.5857660756156675,6.163377643610422,-2.7414117830290454,-1.9813035346173549,1.5905102108766862,0.8953314308766189,-3.0710972393110367,0.36974587953565363,0.396147147658096,-3.0478328939678443,1.6995129419554675,0.7971097456054517,2.278073075296538,0.32538754930617814,-3.0912968429293626,-1.1390852319860054,-0.5816735374713906,0.4592904521257231,7.4695359290225065,-2.680589168303161,0.05484977256811541,-0.5704376329831751,1.0546448989197525,-2.096229867125534,-1.3151756586994399,1.3614039617853042,-0.5098921610289857,-2.024563903308598,-0.9799103858118823,-1.5197545456332906,1.7974461348508104,4.673208150552775,5.966283149048438,2.231785526737974,0.6855083705529224,-0.9160430359800928,1.645494862067505,-0.39386716357226037,-3.0078393683472413,3.136331843221124,-1.0371014370511444,0.4380883628698397,6.490592798702287,-0.21711489283102803,-1.2066607930046567,-0.840802549668848,-1.1939401682049624,1.142090465182615,1.3610280862172344],\"z\":[0.7042806617424509,-1.2810860132886304,0.3423724124930224,1.1130961898339924,-0.7223977406839217,-1.7593078478553357,0.21201838967066602,1.7912253210629068,-3.4655240117779327,-2.2362666195432475,-1.4329170900238763,-2.3840915630193127,-0.741132760405862,-1.448956611564386,-0.6281916292447403,-1.9581625508655935,-1.3573755407811658,0.18411462085743133,-1.096987049384789,-0.9147480879447638,-0.7373428720135372,-2.5482603463005753,-1.394577739521672,-1.1959091061682303,-0.4020107883764853,-0.13373979996824994,-2.107089440841371,-0.6780805558909858,-3.7157392611470748,0.3527068521127747,-1.1298792183142776,-2.0033560397541725,-1.3372941263954852,1.3362874917338743,-2.200756456068735,0.6132498571182985,-1.4243362181626644,-2.3575731333219165,-1.9083207869492187,0.895223637203252,-0.7380948476007501,1.0602873549534308,0.8588229864098058,1.05220906951007,9.977618604792434,1.1672964096136516,-0.4191566296701304,-3.3232846583180358,0.3921793907714492,-1.2412113519941657,1.2047278129265468,1.5368223079259808,1.5075310080570115,11.484172850477679,0.5902461678209122,-0.13707465844049113,-1.1961756824556264,1.2580205359272087,1.5241092153799924,1.5302551987488555,-0.004868430014415659,2.280869662851012,-0.9073997807348622,1.509729981765651,-0.7424142598231692,-0.9371830769539466,9.908896494554742,2.3100353307870996,2.81530861075101,2.274104008524016,1.0866786978527287,-0.41004242772355587,2.26454104256282,-1.4329170900238763,-0.27159644125209614,1.9200975512237242,-0.7440495054272221,-1.5405345189022124,0.051037168468934434,0.08970239979991383,-0.9387630051626568,-1.2764335004475558,1.9874584000447542,-1.026787436761724,-1.269076508748601,0.7760349623589078,-0.43816496703261604,9.557159097252427,-1.6277338142153241,0.3650919707896026,-0.860086652528444,-0.2867402706178135,-0.9388792942441393,1.8853896594035549,-1.3384057458862324,1.967598144917339,-2.362774006761558,1.6844699015946345,-0.8170101313503467,0.3682401090071825,2.2124653710202784,2.049908566521514,0.23593544606032144,-2.8329393346296925,0.061494443829328234,-0.8952367598042779,-2.0003566785936893,-0.22763561159271734,3.0378222613992363,0.11795832424643637,-0.6266424722419326,-2.2483143664487404,-1.918137789123821,-0.9481605951245015,-2.3575731333219165,0.49836358978599904,-1.6765842188573208,-1.5427383959273935,2.064385729334924,-2.105753165422059,0.3066038807032858,0.7892105731294164,-2.1093089301977734,1.3294570441353881,2.7080559837262355,1.4172629155180538,-1.4867372478031435,-2.0699187576738174,-0.7287585195540028,-1.4425425581891107,-0.6257308036428049,-1.8004897862759792,2.875552531261942,-1.382519969493541,-1.2644547256441718,-1.3372941263954852,-3.679705247323778,0.2354761843255099,-1.3891682897877888,1.8268584921398177,1.9608895920709621,0.656582561399361,0.8619868861665543,11.823475661344686,-1.2128713765422243,-0.46744220731629943,-1.27005939438582,-0.5793584981816543,-0.2767413039572196,0.8125808413216448,0.265707786158597,-2.002906018244326,0.7348604430712232,-1.2693049883886023,0.6106754749364559,-2.0840262158663814,-1.2838594656535889,-2.3607516416968513,0.666077297747898,-0.20902561119427818,-1.410145182535776,-0.49728374901483435,-0.28916015466647066,-1.4775387069499624,1.1147157009468422,0.6516274626712113,2.1400058402142377,-0.36636886884136305,-0.482571416421306,-1.6944973181646832,2.071018038558741,-1.4468541674926674,-2.5623468567223124,-1.1182605930337455,-1.3863817351899312,0.23574329413606507,-1.0885679055357909,2.105612698750185,0.3439295636453784,6.890663534770972,2.2401427302108576,-1.0036830014481442,-0.95303882201927,-1.4867372478031435,1.02978698436214,1.6643950764929474,-0.3181965647449437,0.5629392291929537,-1.0013830845410723,-1.1608366062168929,1.1846770514840892,0.8218315754121601,2.119203525262945,2.329549729253614,-0.3727581199671203,-0.4076458984064229,0.3649653719048504,-1.4468541674926674,0.3858639657064853,-1.4468541674926674,-1.374172726368057,-0.009040955778005084,2.0083675964455368,-1.859139325228837,2.3425407229652593,-1.8723650507762808,-0.04333194191294029,1.4052350779559901,0.09656137649393623,-0.21966097406229082,-0.4231695511223048,1.7002829179540715,1.7404444793175893,-0.9993300052654327,0.6635894280563799,-1.9094324064399657,0.1091165898663368,-1.0742655614476688,-4.289164134568779,9.97122222260512,-4.039209011962071,-1.3869450508062948,-1.6532396169573456,-1.2893908943181798,-0.9194256610168684,-1.1314125796843695,0.26302973164726834,1.9331381927446087,0.837740709001213,-2.271815802265917,0.3184181845309599,-0.9643441911123108,-2.0458555245672256,-0.9169480092307154,0.5680552949214955,-1.4020290919912388,-0.499110206360443,0.3639282312244604,0.9504620665029275,-0.6980446838796194,-1.8566978993828345,0.061494443829328234,-0.9155497643095402,0.36463921437465247,1.2676432780575835,0.04385584522755237,1.1433949325089403,-0.9113188353983979,-1.3127924441982366,-1.7782485009789286,0.6433276722446254,-0.7499148561607475,1.3862207903368498,-2.2483143664487404,1.9442872816774421,-1.2128713765422243,1.6417386837375938,1.4242161204000097,-1.3841584962084372,-3.966009544301768,1.646590452395737,1.5627622485492751,-2.2967841612791333,-1.9862334028239932,1.7677519750823276,1.1983600776065317,-1.5646289549399504,-1.537363897705896,-2.2069382526978876,0.7562397833467562,1.4998213861366558,-1.7147688024265881,-0.0072367161810561395,-4.124726790360591,-2.3657224308149973,-0.8608585133240075,-1.250011333541327,-1.3526228984287982,-1.1182605930337455,2.0888959770425894,1.783495413475245,1.0741519835678848,-1.139962855598064,-1.6113419315660518,-0.02569190749748389,0.7519606945866142,-0.0698453645278586,7.536150703450237,-1.2128713765422243,-1.5380450341310887,-1.3089504085540034,2.567360394605783,-1.4344507385592897,0.5478886282604187,-1.4049930427207917,-2.94720220247601,0.061494443829328234,0.4459842800003741,0.06482930230156947,0.1602521010930883,-0.9344534534606945,2.166624531682447,-1.4134800410080173,-0.4220579316315578,1.7974871315436352,-1.3357920576071487,1.6698353184540669,-1.3880566702970418,-1.3776219083130448,-1.0617632553187484,-1.23087506492338,2.396923942867204,1.0404127657417108,-0.9369200472642403,-1.5704829567068683,1.6555827516624264,-1.4468541674926674,-2.1439778371682903,-2.305586808938667,0.26125702323622757,-0.39875294248044646,1.2164362921854557,1.8416701292987643,1.985573892084733,-1.4425425581891107,-0.30930360881896724,1.2575890985250755,2.086977755957944,-1.445877416661352,9.65033975098534,1.0162296792562708,1.5927010076803334,0.64284135105329,1.756060229745858,-0.10669466149035856,-2.3542672568923413,2.1210958704886114,2.8114251327655833,-1.4468541674926674,1.2793176679502227,0.318160477451669,-1.4329170900238763,-0.7362312525227901,-1.2229847769775097,-0.12186642032436869,1.0789227134499224,0.28395611289612743,0.7355923840856492,-2.2483143664487404,-1.5467653658351743,-1.3874933546806785,2.093660265452772,1.269641914428155,-1.3372941263954852,0.7426422354546778,1.1834635254844854,-0.6670532988811171,-1.2924097227295237,-1.3372941263954852,-1.4923346256335317,-0.41143243309748356,-1.2128713765422243,-0.9384180785141554,-0.6542045613655487,-1.0424792897540185,0.12832263225159013,1.0172660458659746,-0.4926487541049138,-0.175644094430212,0.06097692265287843,0.35262100545685754,-0.2045451320073056,1.77923187796371,-1.8566978993828345,-1.3993926182611327,-0.6434509780763861,-2.1580446614874234,-0.41029814262125963,-1.1325241991751165,-3.6873839711457803,1.0687425966125197,-1.5795699231953886,-1.918137789123821,-1.4298820278051676,2.3329143361971516,-1.4253037385041865,0.8945362623737423,1.991029558335794,-1.1193337062363913,-1.156663263435369,-1.912767264912207,1.6295148042635508,1.3757507740082953,-0.17080616402423526,-2.2355819180146543,0.2117077889572557,-0.19895884541777847,-1.0544647959523032,-0.18537763523311762,-0.27693096518127996,-0.6562997155919543,-1.2832153993441882,-1.2074576709375868,2.1997638897277403,-0.8525161482699188,-0.5704532567375311,-1.1105440778312956,2.2230908695543525,-3.1443648672104687,-1.0106740344067087,-1.342546919106155,2.4875660148428014,-1.5147348612965699,1.8254891197186955,1.3797350864538258,-0.9495155694373,-2.1017048185468257,-1.7268788926370857,-1.1065488653644777,-1.74647764345782,-1.04545259359037,-1.516941418202193,-1.5214054260386602,-2.0003566785936893,-0.9133809899818182,0.6417576998383001,-1.1314125796843695,-3.790478460304818,0.3771496870017459,-2.1208779440735275,0.10720575997179316,-0.8388431674076795,2.558064254792483,-1.4436541776798577,-2.250814405037893,-1.4344507385592897,0.754139985386741,-1.1314125796843695,1.612958937668399,-1.9856443460001612,0.7595778070297003,1.1255527321183467,-1.2276513525467339,1.415332229303649,0.6620841774687329,2.09440306504821,2.8977829627768728,-0.9466608364008539,1.5056053820617035,0.9174787330354418,-0.8216756801684799,2.7528626216527528,-1.0573167773557601,-2.0937985375359762,-1.494557864615026,-1.9406505980397202,1.3300114809488004,-1.1314125796843695,-0.4493533776067456,0.9603222566449131,-0.1604126328710736,11.726943723511974,-0.9524452643332881,-0.9390784650129548,0.06936178982443054,2.904022407668181,1.7297873520988905,0.11795832424643637,-0.3940064135355243,-1.4243362181626644,1.1868657293194642,-2.0003566785936893,-1.4468541674926674,0.1231718446114964,-1.3287507238092935,-0.24431448628178953,-0.7201745017024276,1.163251637845385,0.05103326669393804,0.22777509586358255,1.8698736174438477,0.6406181120717959,1.2340516806146355,-1.8566978993828345,-1.789438412601288,-1.280619218817511,-1.9083207869492187,-1.4344507385592897,1.0670202848872343,-0.14033250433653,-1.4867372478031435,1.5037693554604923,-1.1475374646937229,1.4742420140599777,-0.2863822487411158,-0.9466608364008539,-1.7167486865860306,2.205891186836366,-1.4113604149065269,-0.9239343834876459,0.11443388640784756,-1.2510385081726354,-0.1158134411132829,-1.1555766933454144,-2.7221835759783937,1.8058125578713398,-1.2810860132886304,0.912236104287776,0.04989203091327113,-1.700756670883568,-0.7341348587087428,-2.217396114010177,1.1744024891539242,-0.8309573303271377,-1.9902334440976277,-2.3071143028948757,11.463884234027567,2.4417718156158954,-2.305323470165671,1.7790063701923384,2.1556923166043007,-1.6241658412333932,1.6423495312814782,-0.8187540564448504,0.23671951963826196,2.908348661866978,-1.272402103246258,-1.4123684215172703,0.05548364643192268,0.10942899895328728,-0.43006844876382794,1.9944489902211413,-1.7994079144891146,-0.203297760558318,-0.965455810603058,-2.786341956692599,-1.7020363539925023,-0.16029634378959107,1.7529701227982988,1.3305736344839216,-1.488251778303371,-1.3763195522722207,1.2269867371891987,-0.7426081641828791,-0.9384878668139084,-1.6397654721956665,0.10602085019618106,-1.6028692295992137,2.0077790213771203,-1.510993106213643,0.9445511793247219,-1.3880566702970418,-1.0584283968465074,1.9009363116712437,-0.965455810603058,1.1704427208350392,-1.9223714913097734,1.2478929353356687,-1.3874933546806785,0.5932410023739076,-1.3127924441982366,2.1093587524637902,-0.47088202928505263,6.690784556912132,-1.0435909092447657,-1.972141107286918,-0.8839502543440627,1.1535170757446664,-1.0562051578650131,-0.9723583114319905,1.1147222429090966,-2.0003566785936893,-0.19991130749303845,-0.6306022405608177,-0.752716781246621,1.977744701893305,-1.0447025287355127,1.1932583341445397,1.292301898167688,1.6064162938819875,-0.3968425292377219,-0.27562968446647257,2.188495097934793,0.7777062352746121,-1.0908337309125806,-0.7602192167770067,-1.2128713765422243,-0.0027902382180678936,0.4180621591813633,-3.3155122603595144,2.541960392987003,0.7910096075966914,9.844436420677917,1.4092457131242908,-1.274218520869693,2.077337451586646,1.0296088939591888,-0.948403949946553,-1.0447025287355127,0.6636776339954849,-1.644265367062161,2.0597827513692875,-1.0435909092447657,-1.1303009601936225,-0.16049537085269117,2.072508165782968,-0.9286655187256573,-1.3372941263954852,0.9961529313954818,0.3225817766367589,1.1074402083999333,-1.3553956566217233,1.8524322347764497,-1.7820207067988862,-2.9479832257002903,-3.6667832705750767,-2.1425268060608813,2.1299821426183687,1.8841720965265762,-0.1541520988583764,-1.145910699160726,0.757441076465675,-0.006125096690309133,-1.8004897862759792,1.8098512871419474,-1.1201828189523853,-0.9446809522414114,0.48800611735110816,-0.9594651841417008,1.0352951326938553,2.0105908354270308,-2.261738712972015,-1.9786297375716408,-1.4243362181626644,-0.7379798969926756,1.3627465542872073,1.8493892986991287,-1.0867408098207523,1.9502330849339116,2.264924555915423,-1.7309850431149976,2.1134529819472356,-0.9882354852222645,0.22777509586358255,-0.3104152283097143,1.7589539145025808,-0.37304681249920346,0.922857601708288,1.0304408819945134,-0.12963816608947767,-1.310812560038794,-1.1402903048150372,-1.4243362181626644,0.642481707149756,-0.4471775420282772,-1.2747007174830043,3.0322832718660595,-1.5724628408663108,-1.5214054260386602,-0.8009244873289827,-1.4503238946243402,-1.4353682072087601,-2.305586808938667,-1.346220554226471,1.3197393616795956,-1.4329170900238763,-0.8568310473411124,-3.117313685114074,2.5290143547002257,0.19287432508641464,0.11492227517424303,2.197817793356451,1.724599675207776,-1.918137789123821,0.26007549561674365,1.9665093609794972,-1.3874933546806785,2.3013794609910336,-0.73524647819949,1.132991295409569,1.346313891181906,-3.7913412430067743,-1.4062192212995357,-1.804042831612729,0.827418613952477,-0.20954238794299615,-0.15252696061589466,-2.12394736244016,2.046332196799092,0.7722583361920554,0.4683454897528895,0.46592487412001476,0.5244376945651585,7.589288946998404,-0.6703069396363989,-0.9834581848935275,-1.410145182535776,0.04753679615859745,-1.860662951418196,1.256112279070078,2.4008396387613775,1.8123991795581265,-1.2664346098036143,-1.0469257677170067,0.11492227517424303,-1.6739275383962227,-1.4775387069499624,-4.120261205374366,-1.4329170900238763,-0.6562997155919543,-1.3863817351899312,1.5881591003073878,0.22571060924948216,-1.577683961964647,1.8959811347326891,-0.8992553672211779,-2.463356464738455,-1.9122556189606512,-0.45261358564128856,-1.0595400163372544,0.0108405505409917,1.382688929374288,1.7461221514964795,1.2972469305625276,-1.1150505966392668,1.7467678622149174,-1.918137789123821,1.5772298893534964,-3.978858281817337,-1.8943289767770197,-1.2810860132886304,2.103023509546097,1.5888264769795362,0.2023101989954111,-2.101193703105581,1.966599502245681,-1.2843270188349352,-0.9050838254653251,-1.2232048745837456,-0.7363688692164961,1.9344829640837997,2.028911980013551,-1.5060725648460673,-2.2483143664487404,-0.9707257364594417,-2.3575731333219165,-1.516941418202193,-2.1292970446603237,1.6680603161689953,-0.9203655368481366,-0.8836747699589543,-2.4772252492838254,-1.0008335923740694,-1.9083207869492187,1.4127697382190196,2.1508800960900754,0.7890270366350689,10.05118371107533,-1.2930245827319686,2.930293517900397,2.077667701464596,1.2914652684020955,-2.0972352048376393,-1.2647011614312822,-0.0039018577088150114,1.669702089116898,1.8825086793444181,-1.4344507385592897,-1.0447025287355127,2.116917576910944,-1.9417622175304672,-1.9003981354796184,-0.918213653873867,0.9238551841904514,0.6125161020119068,1.607976169501552,-0.7540968492393428,-1.83922959527545,1.4290867841574757,9.933381218939076,-1.4182390901929174,-1.5615415810874165,0.9662455485381469,-0.4320483329232705,1.0700019938615772,1.9919828138772624,1.3673043412065191,1.4845382761721442,-1.0550935383742661,1.5230751547557577,0.13399502647626982,1.1691719849895086,0.18709145261958784,-0.049848563760506115,-1.1827273240822276,-1.0908337309125806,-0.8507697419092636,0.9312065888138729,-1.4560479319965338,1.1844022276669177,-0.49357538669297146,0.3664142500001446,-1.5724628408663108,-2.0571039355629863,-2.7221835759783937,0.6816608608866268,-0.1104499856355801,-1.436185541675656,0.9283616120686785,1.3231459577951914,2.019852258923786,1.1005320417092084,1.1821798388598603,-1.6332366260519111,0.046121805282562524,-1.2203298386841865,-0.4797313187681386,-0.4654623231568569,-0.763509950383592,-2.010041966435911,1.3178620301636272,-0.48071587251831666,0.26093686790642784,-1.394726387241524,-1.4182390901929174,1.4342751696314415,-1.7021493402377643,2.1683231065941078,-0.8844267455461672,-1.4775387069499624,1.4103720524751766,2.135774567585304,-0.9564079921391089,0.29447080588980834,1.2042391737221103,0.10644460180096248,-1.5441977781321243,2.3447288364165533,-1.7181773424192994,-1.3308468970502185,1.073576355659701,2.5532513429961674,1.3384417053741222,2.731616743888,-1.0994367588919167,-0.3789198497289647,-0.8844481854846379,-1.3534157724622808,-0.502221001067603,0.4702933941245175,-1.1830135014080665,-0.2989001530837879,-2.2449404043394505,-0.6562997155919543,-1.3372941263954852,2.2606484501388504,0.5793099400578582,0.6320050702253767,-1.7548613698923474,0.7289491222654602,1.6998605620485487,0.07994516593453514,1.9557980876152856,1.0767687504382741,-1.6657311878692629,-1.1134715523810845,0.06226777911217399,-2.3542672568923413,-2.2097535583633445,1.9977180700971717,-1.4182390901929174,0.22334121040052718,2.590802225133608,-1.04545259359037,-1.4611886934858611,1.4916278428962824,-1.0544647959523032,-2.580211229123437,-1.5214054260386602,0.10720575997179316,2.3964876307075422,-1.410145182535776,-2.0606284822440997,-1.3506430142693557,-1.46981047573202,-3.5268768843894174,0.10028045117287503,-2.2468921180773216,0.3089669349446285,-2.266777257618966,0.5270698878047582,-1.3681281050558092,-0.9082273317482081,-0.6573728287946002,1.9441535880747491,0.23119326755677896,-0.1878739220756501,-0.8856546541183968,2.012057392183067,-1.4329170900238763,-1.478014975482613,-0.194758569200477,1.6936073367750661,-0.6703069396363989,1.1428808005515059,-1.4243362181626644,-2.2923204216031214,1.5243483355052116,0.42333517138563004,-0.725605753988716,2.370026473520997,-1.763956301738783,-1.957603992158278,-0.0027902382180678936,0.12448152468617295,1.333409472233541,0.4363507654427674,1.1873966211818021,6.788535713134382,-0.07949558685146788,-1.2168987882720907,-1.2733694980861805,0.11645589457637276,-1.6015705263185733,-1.7741364695303463,-1.2838594656535889,-1.3597687053824234,-1.4254478376534114,1.280920115887321,-1.2816362266720949,6.7524303224314295,1.456983946420371,0.19070509642345704,2.1980129637074133,-1.290247307320776,-1.0350586323718387,-0.4929538207554231,1.662863273566759,1.6425521513862171,2.2755324767180394,-2.3415348084582552,-1.0226909175101917,-2.595738235540583,0.490051462961122,-0.9217328156703115,-1.3404878418341148,-2.305586808938667,-1.2135639297998497,-1.8496270410349087,-2.3996971942028784,0.05214878795968144,6.817353293145999,-0.34857372736689357,-0.7301860251282907,0.6642191264310334,-0.3523078628351434,9.848950168053925,1.9244437402690409,-1.7081192868672923,1.247038919911973,2.1356582785038216,-1.220320100704137,-1.156663263435369,-0.6842262625568715,0.02243188607871199,0.8626253705331627,-1.49678110359652,1.769861394188831,-0.2862650473344852,-1.542967371693262,0.7391566739072924,-1.794089158399219,0.08482425846911501,0.030894130288286237,0.16697999135895175,-1.1182605930337455,2.1743798229251357,0.7678619323532077,1.3834819044765378,-0.9037600524490036,1.5213950375200629,2.0152293929325378,2.240064251055273,2.054816760684205,-1.8939866963235414,-1.3415994613248619,-0.73524647819949,-1.4867372478031435,0.38785468306667337,-0.1980806647061512,0.36981519016883696,0.7820265880475399,1.2246749417456717,-1.048787452062611,-1.0521223105348523,2.0233605663560352,-0.811154917651321,-1.5983733805320004,-0.42415410487248284,1.4806346920245532,-1.2664346098036143,1.7841268729676456,-0.9787900911533406,-0.006125096690309133,-1.7194334254784045,-1.138194183958276,-1.4182390901929174,1.2230981411736446,-1.3404878418341148,-1.4468541674926674,-0.951927202528523,-0.9832271647881163,1.3667800296875012,-1.1466886629630957,-1.2356591623481707,1.1410430387122301,0.15903348660453592,-1.1182605930337455,-1.9052890516082526,0.053383042370571634,-3.746467107090138,-1.4867372478031435,-1.1379212992026795,-1.1834432340215408,1.7351899019637929,-0.11867513433723137,1.5606265920960554,-0.9875921147475617,-1.3372941263954852,-0.030913116200251223,-0.8439181470734225,2.224919967363828,-0.7309395919884918,-0.22621348960014265,-1.2838594656535889,1.971049452086264,-1.2733694980861805,1.2446240719280246,-2.096844277952947,-1.7253270514315804,-0.2340044633484124,2.335279034136873,-0.13036443278090473,-1.4123518373058581,0.9277642775115023,-1.3088326758793516,-1.4340054299770992,1.467751206453905,-1.156663263435369,0.8004558622067389,-0.26977555367075595,-1.405356000659755,1.9569812333315866,0.061494443829328234,3.088491133724648,-0.5053125047177925,0.20856147820663282,-1.1182605930337455,-4.124957828089198,-1.357271927901162,0.2921916409297763,1.154203318160232,1.2335502352750545,-2.0003566785936893,1.615286862415237,1.9474119579794562,-1.295158126956521,-1.3884469268020916,0.23067190632643284,-1.1555766933454144,-1.4210489238712614,-2.552760808638477,-0.9676673714945234,1.9023693299038396,-1.2724628350695453,1.1681966837867048,-1.3127924441982366,-1.8566978993828345,-0.843696171513485,7.643779795787562,0.49404027830649416,2.909449452652054,1.2010952945943252,-3.323906001077951,-0.039165554859696104,0.8672225040726969,-1.0047933606929547,0.9771867003044915,0.21100711370849268,-0.6208918737335682,9.891713145428941,0.624922310831122,-1.8280561642828255,-2.207687869133786,1.6918095140884921,0.061494443829328234,0.6501427677742095,-0.8747858007622711,-0.2280583491934352,-0.2076215898840218,-1.382897533487004,0.11492227517424303,1.7166659313281452,-1.8113695017337652,0.061494443829328234,1.8075397136489815,1.446130470519389,2.447309935403982,0.10432804871538347,1.2895048957584663,1.4189879109244365,-1.5209594842289331,-0.7793746808607865,-1.273106901378946,1.464617824061414,-1.139962855598064,1.6092439410482058,9.976669774900117,-2.3542672568923413,1.181960303363295,1.9197437048215664,0.2029900465069526,0.8937222491864325,1.2266812230024506,1.5670940796282344,-1.1555766933454144,-1.1014166430513592,-0.14358253684121525,-1.91165564542146,0.8738062978892541,0.07284378562224222,0.061494443829328234,-1.444765797170605,-0.7694903812548388,0.80768431798314,1.7264551384127085,0.6927714372354348,-1.6461796268780542,-0.7404343756637267,-0.43039738085595436,2.141022739633973,0.6143982151210462,-0.14676868357969594,2.3487086090743734,0.23424406246602678,0.12243818928105482,-1.9050794042473824,-1.4329170900238763,-1.252496482554149,-1.2128713765422243,1.4745676105402707,-1.410591694067304,-1.2400997325034187,1.2427604768500646,1.6659466287079598,-1.4243362181626644,-3.5061308244188663,2.2640611570165583,0.7767459567676878,2.7124068494675995,1.3291181005800694,1.509253613365097,-1.2810860132886304,1.7005656989352982,-1.1584911580556623,1.9432431808972865,1.618341835711844,-1.8566978993828345,-0.941970797894329,1.5195982423686496,2.7359226531651726,2.0417423502333114,0.873549095991327,-0.6028139753376899,2.0486209747435606,1.7393362577522549,1.9642204638139107,-0.8992553672211779,-0.5845757002074988,0.11795832424643637,-1.033899543234285,-2.0606284822440997,0.4377840886311586,2.1814148747322717,2.3457596360754005,1.2330521305468853,-1.4815820613588886,-1.578186907028019,-0.8133571003435367,1.074976766522887,1.3179168524644387,-2.022361044345885,0.5520272386030308,-0.22608426178057636,-1.357271927901162,0.09925823485209749,0.7516322842044751,1.745257002132617,-0.7686221165861433,1.3154319062788353,-0.5576045192219629,-1.759064493033284,-0.14187087507305826,2.215885029878609,2.007285656161843,0.1190398845712437,-1.85802770573809,-1.3863817351899312,-2.7221835759783937,-1.2997189561263096,1.8164286828456646,0.5062941688376817,-1.145910699160726,-0.8332045013302071,2.138866071235494,-0.2135940085221015,-2.3575731333219165,-0.8388431674076795,-0.7962053204569178,-1.2664346098036143,-2.0997199210451085,1.4386277737693656,-0.8198656759355974,0.2292743275336207,-2.762947245352066,-1.4009054078126102,-0.7135166005665187,1.8389803010713182,-1.156663263435369,-1.2128713765422243,0.04108737285770997,-1.9926401633912394,-0.2020074807339636,0.9204965830013734,-1.655475637668676,-1.360123970244359,-0.8197065667662212,-1.030459537942969,-1.2568215059840342,9.914084554771492,-0.8295066207194938,-1.061836439318833,1.0113707297338945,1.0256775637135014,0.8990259738280104,0.3750550541951789,-1.3811872683690234,-3.087499558737914,1.3478590817376046,-0.9485202390280355,1.7360397860572165,-0.7432825244918648,-0.637099044804112,0.30173378726390226,0.10720575997179316,1.7207419887285127,1.0818703659795892,0.22777509586358255,0.573505705923709,-2.4116548376540576,-1.4867372478031435,-1.1314125796843695,0.6098464867730408,0.6277693745562275,-1.3517138304474265,0.7121083261775714,-0.7764330086215463,-1.1849462459852227,-0.8646014153861078,-2.2412052034529673,7.626311694695536,1.1685782755826424,-1.1182605930337455,0.2525003458244568,-0.60056637394206,-1.3930514521344137,-1.2465860787677208,1.9949978766672165,-1.1555766933454144,-0.41362064101784884,-1.5214054260386602,-0.006125096690309133,2.104960632762829,-1.3275120385779775,1.3039126607777165,-0.9478332903950873,-1.8852741754143572,-1.3763195522722207,1.2087455785596923,2.9232935726234714,-1.4867372478031435,-2.7221835759783937,0.23203546300800876,0.27532332661132036,-0.28890152106459127,-0.13256698186165072,1.5953565805028844,-0.5833019942530995,-0.36447421035859606,2.436743353974204,1.3201192734661464,-2.330260462058686,11.42992353305534,-1.7411443677080833,0.6407586093150857,7.632778238530354,-1.4243362181626644,-0.3794021073505504,2.2548265806944774,2.2220305767557544,0.06178973274357765,0.06598480892821977,3.0517518484519153,0.07284110641826864,-0.7384544915042842,-2.5937583513811404,-0.4955703778285431,1.388355138359362,-1.529772016646452,1.7096816859686599,-1.2276513525467339,-1.2326133464841764,0.9169796148794801,0.10341079735667397,-1.097456874732474,0.2772275564000115,-1.5106528617640171,-1.4329170900238763,-1.4923346256335317,1.3344693067317874,-0.3030676437015395,0.7040223324090311,0.061494443829328234,-0.15944591141261844,-0.73524647819949,-1.4243362181626644,1.6650109572404215,-1.8096009290664643,-0.006125096690309133,-2.2001126135794484,-0.17919649112619623,-2.026702870300113,-1.2718897584516207,-0.6109793534436786,-1.3681281050558092,-1.49678110359652,10.018088633125489,0.3896510977072247,1.9140655966305153,-0.8836747699589543,0.22360365934947085,-0.4124169868476616,2.0707392192451546,-1.7233741307637707,1.810802521736941,-1.2128713765422243,-1.4803750898149308,-1.9072091674584717,-0.9073997807348622,-1.0867259441267978,-0.0764133253623534,2.3293279510220004,-2.1089105074112977,2.0909703555078276,1.8078756879540394,-1.3346680628391723,-0.17005357765496978,2.6104691135748643,2.0806725891379343,1.568647296624043,2.613773250561716,11.452654568034003,0.9149041677991088,-1.2991556405099458,-0.7792877112157794,1.3776806161663608,0.3164991981400693,-0.7450208147959319,-1.7818311652359224,-0.05452357565730944,-1.4867372478031435,-0.775963272855718,-1.1348225614041008,1.8732220914571824,1.7790227239501293,1.7567380116726907,1.9378021776914964,-1.1858743933084086,-0.5064241242085396,0.2358595832175476,1.5527323981057792,2.125410366616544,1.8134067341970193,1.149901407212799,-0.45459346980073106,1.3867461111070882,0.6644869768458661,-0.04873694426975905,-1.2276513525467339,1.9943320294590559,-2.3575731333219165,-1.4923346256335317,1.3403654489011,-1.2810860132886304,1.2901846709730482,2.2905833734943943,2.878527745830649,-1.2695260011806075,2.5580908821455726,1.0639129713117292,1.8960724042259858,-0.5737076170685521,2.0399150644641737,2.688181329211522,2.066894752450184,-0.19586734176758888,0.8786291979382927,-0.5908996691748167,-1.759064493033284,-1.4016888618436276,-1.2693049883886023,2.843979629724456,-1.0339499644608694,-1.7019200649110198,1.7549402473271312,1.4824807751147444,0.9470041290194104,-1.2703334490139873,-0.27159644125209614,1.843935399799468,-2.2483143664487404,0.144372993958521,-1.776949318989254,1.6303882393284128,2.0871671872902655,-3.846591336151786,-1.120433668959466,3.4016006373614784,1.205584891485188,-0.04020213246143606,1.3427074931190854,1.6660671221531722,-0.761154822882297,1.9343672434271417,1.1344526063772291,0.692435917459354,-1.7864023635290949,1.9022353589356316,-0.8971022151677088,-2.2483143664487404,-2.078281520809686,-0.9852070489475588,1.807459660107314,-1.3287507238092935,1.6472578290678854,-0.7880757498134144,-0.006125096690309133,-1.4380438714680535,0.8001121971341361,-1.1184367764282321,0.26326149138692295,0.2391455703490986,-1.0524849117928605,1.993954195731466,1.1008976517234832,-0.42252007532531477,2.16790894004596,0.6405018229903136,2.014111543091943,1.01316547114285,0.5064042265185403,-1.3539370694289208,-1.0544647959523032,0.7271164393263752,-0.9450690914743117,0.21075492183390246,-0.8377315479169325,1.1545367044035038,10.070916521032878,-2.4644928008497393,-1.2215087327710865,-1.4102066051332949,-0.36697874334167924,-1.3496237502547521,-0.13728917249198125,-0.9495155694373,-0.5848884731406653,-1.358383547391909,-1.3506430142693557,1.7968997075981248,-3.796645278437103,-0.2751411657785993,0.5573753678289091,0.6135213691645277,-1.7927732710735294,-1.4182390901929174,-2.4580640268119254,-1.0544647959523032,-0.9950587433980611,-1.913878884402954,0.6969907169609482,2.939726486545324,0.4083348060511404,0.6595004804328993,-1.0847609256613098,-0.15539472181049108,-0.7385354897111119,2.6533347383439883,-1.156663263435369,0.3014753056174888,-1.4123684215172703,1.248083249905905,-1.0447025287355127,-0.7520552046070654,0.36454988470500554,-1.0544647959523032,6.802160351777596,-0.7698483771140281,1.865363310134565,0.26214987189617595,-0.833638009731747,0.7816279135973291,0.2185662106767937,-1.1436901981740721,-1.5757317456526616,1.1441496420655457,-1.2498014091106018,-0.9311584707996369,2.5039454643030905,2.121078130954258,0.7190758996843233,1.3082774312147265,-0.941525032900312,0.26103825240542883,-2.1287824867264313,-0.2178214331809969,1.763722909158105,0.6405018229903136,2.045091964696202,0.5859843448578894,0.11158830297327829,-0.8950623725131422,2.0480627809369922,1.5383481974172133,-0.9447287491308385,-1.8016014057667262,0.05326040745042856,0.19713671397766977,-0.5888292559172388,-0.73524647819949,-0.93959652681772,0.18930228450222178,1.5181764681293044,2.228291927026835,-1.5596141033507425,-0.13262818047750288,0.6352741970680443,-0.3269614727777656,9.883797228669513,1.3267782059438895,-0.33766114749962856,10.035497770808345,2.0160062222756534,-1.4344507385592897,-0.2930952558387686,-0.7264740186574115,-0.5761358696903458,-0.911592856732936,1.0656273556921043,-0.2286702185072621,1.3060110973912966,0.2174101437682305,0.45525339741526943,0.6374103193401238,1.4567910213036839,-1.4344507385592897,-2.7221835759783937,2.1886318574858423,-1.4170332902895995,-2.397600516570954,-0.9446809522414114,-0.5837578681076067,-1.1535968091859716,-2.4365182824408476,-0.4021749686452513,0.020058899324057404,0.2206475626504991,2.0894048194894173,-0.4819963099663209,-0.11298016222814333,-2.4105439343934236,1.1849865901398036,0.6371378638740038,0.6103221577206785,-0.7393227561729797,-1.2128713765422243,-4.2613915124899115,1.4780096520613055,-3.821120156334255,1.2643428015884657,-0.09783497651321693,1.947723661162753,1.5566968759156592,0.5235393311518716,-1.3550486889196678,-1.2751876915828217,-1.3681281050558092,0.5448254397133885,2.1731788410216106,-1.0456532942624432,0.6647475232845884,0.8177759488695969,-1.0417323475182174,-2.028765019172505,-1.4468541674926674,-0.08235403199965417,-1.5010804378402682,-3.7790308528342975,-3.8744565072058985,-1.142727955829846,-2.292854360504581,1.3371828820268186,0.032424326532572136,-0.502221001067603,0.19141002241977487,11.35603610007089,-4.147442429741141,1.066277471310128,-1.8319440010728643,-1.4182390901929174,-1.7927732710735294,1.1714830526376128,1.167107862362798,0.8376244199197305,-0.6740754664377813,2.1257005124475783,-0.9466608364008539,-1.1182605930337455,0.5409115942764593,-1.7741364695303463,-1.7471130180112597,1.39336495128229,-0.35352013132579474,-1.2973813659380151,-1.0139074978263598,0.10266742639696465,-2.2105691445121103,-1.1311238898390366,-1.072877992654261,-1.222629148449438,0.30686601277494346,-0.8701411516588926,3.0429662894764458,-0.8395415521498146,-1.1045689812050352,-1.6315364273948791,-0.33224697824184746,-1.8459453351081911,-0.5815938034988526,0.10255113731548211,-1.409033563045029,-0.06140269184730492,1.929009109739446,0.31785757476770926,1.9020218585884723,-0.951927202528523,-1.4510514943556334,-1.1489467482329194,-0.12175725944662887,2.1525224943588537,-3.0716416857527586,8.648139358961908,-2.0033560397541725,-1.495669484105773,-1.4614904935147428,-2.341928784289175,2.0569306158118565,0.42633022551378486,2.411376350180069,-1.561753896451681,-2.7411026072896068,0.22360365934947085,1.4428316716815195,-1.1507700367182476,0.2292743275336207,1.5787633242185195,2.857033393940449,-0.16434046212152306,-2.952337188979074,-0.6052868484637455,1.943504325196303,0.773282343789407,-1.6088159119829875,-0.012333751228106805,2.39529374158193,-1.4170332902895995,0.06178973274357765,-0.9367831210032143,0.2510525683004801,1.9959191034200705,0.6676208075378378,0.656942205302895,-1.3372941263954852,1.3899785434166374,2.287571540604133,-2.6290806146115973,0.051037168468934434,-1.4182390901929174,-1.4020567833957203,-1.2193247702948724,1.1022114073636087,2.0115211423035144,-1.9424915472488133,11.474866441675829,-0.7341348587087428,-1.2810860132886304,-2.3575731333219165,0.626309613423275,-1.2838594656535889,-0.8403486457212803,-0.14409243286145573,1.4761064593123743,1.9664740621248773,1.644367213414243,-1.0544647959523032,-1.5660135222773606,1.8493588956236684,1.3836819885239586,-1.8566978993828345,-1.1182605930337455,0.7701547447274535,-0.13459886875845448,0.7834442901152572,-0.4761338144168753,-0.8470144453991747,0.052384095825438445,2.8051823260212356,-2.3575731333219165,2.8378692034584425,1.1021104011323177,-0.27132276732288774,0.19269023601468147,8.506268335672182,-0.05144090559702637,-1.3634917517849239,-0.9033691307696278,0.030069182087289096,-1.6016772243631896,1.7059724905115288,-0.8055137674362143,1.1125984444694583,-2.04543687471549,-1.2664346098036143,1.7495113234602178,2.1725987315732853,0.6520150748505025,0.22100103891138226,-1.8914467130745027,-0.20501316345899623,1.768978993585494,2.0159952529181653,-1.002093217999083,2.0823546613818817,-0.9071157122574611,1.232340764708654,2.2370038419027924,-1.6437392503740667,0.08054904404637654,-1.2353920772011995,1.2029774519606307,-1.4105225749904675,-0.27411571357557163,1.3129725303953754,9.954335590412693,0.6299926135377217,1.4600906145098194,1.304521910834364,0.953129649164416,-0.8680646159690857,1.3253691967766856,-1.3526228984287982,-1.495669484105773,-0.41502370616081957,-2.0073954567450794,0.050741879554685,0.23352005515457094,-1.875920719389593,-0.5358299615615392,-1.3474005112732579,-1.136098010717351,-1.7142302106089917,1.136377210985545,1.3215705160518525,-2.5809096138655723,-1.4150534061301567,1.7483024658053599,2.2585866020813956,-0.4761720797460063,0.8080834656511913,-2.3575731333219165,-1.5943021654536114,-1.8522514214198462,0.7518087507220524,0.13279743890374623,2.280213101819986,1.589354470550277,-1.7379479088398693,-1.1026899589594596,1.9380230235376104,0.9305372640967382,1.0324132752440802,-0.5852355786615329,-0.903415584445246,0.734962347988145,-1.4867372478031435,-1.9210122346609033,-0.8322365881284349,-0.1320171624758728,1.4102365252294469,-2.3357400041077248,0.2916939686165363,0.2459853937781016,-0.7244939139248469,-1.3011355246693885,-1.8503334862261032,1.7816365474900542,0.9456523044793239,-0.1726117927661443,0.2536464544025553,0.23227810344992558,-1.2664346098036143,-1.4775387069499624,-2.0271184873616215,-0.35008678593264647,-0.12249404127147051,0.39955681674862553,1.8636320153984163,1.1587047526357812,-1.7259378574207802,0.5878573572012589,0.868136773865655,-0.9116436250286005,2.31148830101434,0.800698473054622,0.17215690924619823,-0.7225142503385263,-1.2832153993441882,0.4115547094890348,1.9260500149742612,-3.101942893677675,0.7211972720768118,-0.57545566577409,-1.218010407762838,-0.8893947075058503,-1.1555766933454144,1.6994909916603653,1.1150622193301611,0.679188532780308,-1.1325241991751165,1.7567061192251965,1.497061697435525,0.3249024271816267,0.215430259608788,-1.104066393016023,-0.608999469284236,2.46419405876004,0.05676989773694535,-2.489170559947004,1.8724687317317668,-1.918137789123821,0.474590738363135,1.3077042717103702,1.2483352984156437,1.6485526383680313,-1.4344507385592897,0.9380468145676323,-1.2838594656535889,-1.4468541674926674,0.026935022323427215,-2.3995640371334956,-0.7384544915042842,1.3039844721380702,2.111552408519138,-1.8417708988059154,-1.714619232868941,1.8390073680695636,-1.4265022929800526,-2.3575731333219165,-0.21026671727683938,-0.13355104611991814,-2.7221835759783937,0.6693908841614883,0.9067245046047688,-1.8566978993828345,-0.9517930587139724,1.6133665602640015,1.6784640037873337,-1.2810860132886304,-1.3897165936621725,-1.8047350890954432,-1.2460409716149348,-0.9605795221879437,1.5138065459404157,-1.7232119682730578,1.7932190978082068,0.10687054953790133,-1.0435909092447657,-1.445877416661352,-1.9052890516082526,1.819049977937945,-2.6032063556964276,-0.95303882201927,-1.6863733016417282,1.2201983542117214,-1.4492122751335932,-0.8847863894497013,-1.918137789123821,-1.8533630409105932,1.3561904221795316,-0.5770903387840651,-1.139962855598064,2.2909178499121046,-1.3153207312242123,-1.2692550423378728,-0.8770003042914746,-0.4955703778285431,0.173536438206942,1.2045471164365924,0.6271372751865737,-1.4344507385592897,-1.402727476733374,1.107057340441881,-0.546735665865837,1.8828371802863568,0.42835686852757543,-0.480599583436834,-0.21166722746316027,-1.1314125796843695,-1.4488296171979014,-1.381750583985387,1.5396149631206653,-1.2838594656535889,-1.1659902216856226,2.136270363240389,0.20709101280099898,0.05527005917965613,1.4203641254147632,-1.3127924441982366,1.3084721983738563,1.473879784895939,-1.2037512413564748,-0.4714136256182377,-0.18808110321895022,-2.282601102314631,-0.5299271600313836,-0.4891096176730124,2.125169230822053,6.72411704984736,0.227647860531916,-1.3506430142693557,-0.0039018577088150114,1.0260924208640128,1.707953875398411,1.973131998088397,0.47976354531125137,6.761425234384799,-1.4182390901929174,-0.47281418255592733,0.3696272899247816,-3.636274188996172,-1.51385212519514,-0.8454040417973578,-1.4867372478031435,0.955413076368487,-0.4802909448318678,-1.624666892694328,-0.8388431674076795,-0.4904255151234197,-0.9336916173530247,-1.3168865400439034,-1.2805246071813476,1.1452790074983288,-2.60784212376743,-0.2092980594891439,2.043347675199721,1.1868538403249385,-1.4105225749904675,1.261526295713002,-0.3148617062727025,0.051037168468934434,1.0784896660011039,-1.615106411905049,1.7333723042571236,0.29871222734781083,-1.4329170900238763,-1.5214054260386602,-1.5001147416716654,-1.6680682386323564,1.23556776263855,-0.8366199284261855],\"type\":\"scatter3d\"}],                        {\"template\":{\"data\":{\"histogram2dcontour\":[{\"type\":\"histogram2dcontour\",\"colorbar\":{\"outlinewidth\":0,\"ticks\":\"\"},\"colorscale\":[[0.0,\"#0d0887\"],[0.1111111111111111,\"#46039f\"],[0.2222222222222222,\"#7201a8\"],[0.3333333333333333,\"#9c179e\"],[0.4444444444444444,\"#bd3786\"],[0.5555555555555556,\"#d8576b\"],[0.6666666666666666,\"#ed7953\"],[0.7777777777777778,\"#fb9f3a\"],[0.8888888888888888,\"#fdca26\"],[1.0,\"#f0f921\"]]}],\"choropleth\":[{\"type\":\"choropleth\",\"colorbar\":{\"outlinewidth\":0,\"ticks\":\"\"}}],\"histogram2d\":[{\"type\":\"histogram2d\",\"colorbar\":{\"outlinewidth\":0,\"ticks\":\"\"},\"colorscale\":[[0.0,\"#0d0887\"],[0.1111111111111111,\"#46039f\"],[0.2222222222222222,\"#7201a8\"],[0.3333333333333333,\"#9c179e\"],[0.4444444444444444,\"#bd3786\"],[0.5555555555555556,\"#d8576b\"],[0.6666666666666666,\"#ed7953\"],[0.7777777777777778,\"#fb9f3a\"],[0.8888888888888888,\"#fdca26\"],[1.0,\"#f0f921\"]]}],\"heatmap\":[{\"type\":\"heatmap\",\"colorbar\":{\"outlinewidth\":0,\"ticks\":\"\"},\"colorscale\":[[0.0,\"#0d0887\"],[0.1111111111111111,\"#46039f\"],[0.2222222222222222,\"#7201a8\"],[0.3333333333333333,\"#9c179e\"],[0.4444444444444444,\"#bd3786\"],[0.5555555555555556,\"#d8576b\"],[0.6666666666666666,\"#ed7953\"],[0.7777777777777778,\"#fb9f3a\"],[0.8888888888888888,\"#fdca26\"],[1.0,\"#f0f921\"]]}],\"heatmapgl\":[{\"type\":\"heatmapgl\",\"colorbar\":{\"outlinewidth\":0,\"ticks\":\"\"},\"colorscale\":[[0.0,\"#0d0887\"],[0.1111111111111111,\"#46039f\"],[0.2222222222222222,\"#7201a8\"],[0.3333333333333333,\"#9c179e\"],[0.4444444444444444,\"#bd3786\"],[0.5555555555555556,\"#d8576b\"],[0.6666666666666666,\"#ed7953\"],[0.7777777777777778,\"#fb9f3a\"],[0.8888888888888888,\"#fdca26\"],[1.0,\"#f0f921\"]]}],\"contourcarpet\":[{\"type\":\"contourcarpet\",\"colorbar\":{\"outlinewidth\":0,\"ticks\":\"\"}}],\"contour\":[{\"type\":\"contour\",\"colorbar\":{\"outlinewidth\":0,\"ticks\":\"\"},\"colorscale\":[[0.0,\"#0d0887\"],[0.1111111111111111,\"#46039f\"],[0.2222222222222222,\"#7201a8\"],[0.3333333333333333,\"#9c179e\"],[0.4444444444444444,\"#bd3786\"],[0.5555555555555556,\"#d8576b\"],[0.6666666666666666,\"#ed7953\"],[0.7777777777777778,\"#fb9f3a\"],[0.8888888888888888,\"#fdca26\"],[1.0,\"#f0f921\"]]}],\"surface\":[{\"type\":\"surface\",\"colorbar\":{\"outlinewidth\":0,\"ticks\":\"\"},\"colorscale\":[[0.0,\"#0d0887\"],[0.1111111111111111,\"#46039f\"],[0.2222222222222222,\"#7201a8\"],[0.3333333333333333,\"#9c179e\"],[0.4444444444444444,\"#bd3786\"],[0.5555555555555556,\"#d8576b\"],[0.6666666666666666,\"#ed7953\"],[0.7777777777777778,\"#fb9f3a\"],[0.8888888888888888,\"#fdca26\"],[1.0,\"#f0f921\"]]}],\"mesh3d\":[{\"type\":\"mesh3d\",\"colorbar\":{\"outlinewidth\":0,\"ticks\":\"\"}}],\"scatter\":[{\"fillpattern\":{\"fillmode\":\"overlay\",\"size\":10,\"solidity\":0.2},\"type\":\"scatter\"}],\"parcoords\":[{\"type\":\"parcoords\",\"line\":{\"colorbar\":{\"outlinewidth\":0,\"ticks\":\"\"}}}],\"scatterpolargl\":[{\"type\":\"scatterpolargl\",\"marker\":{\"colorbar\":{\"outlinewidth\":0,\"ticks\":\"\"}}}],\"bar\":[{\"error_x\":{\"color\":\"#2a3f5f\"},\"error_y\":{\"color\":\"#2a3f5f\"},\"marker\":{\"line\":{\"color\":\"#E5ECF6\",\"width\":0.5},\"pattern\":{\"fillmode\":\"overlay\",\"size\":10,\"solidity\":0.2}},\"type\":\"bar\"}],\"scattergeo\":[{\"type\":\"scattergeo\",\"marker\":{\"colorbar\":{\"outlinewidth\":0,\"ticks\":\"\"}}}],\"scatterpolar\":[{\"type\":\"scatterpolar\",\"marker\":{\"colorbar\":{\"outlinewidth\":0,\"ticks\":\"\"}}}],\"histogram\":[{\"marker\":{\"pattern\":{\"fillmode\":\"overlay\",\"size\":10,\"solidity\":0.2}},\"type\":\"histogram\"}],\"scattergl\":[{\"type\":\"scattergl\",\"marker\":{\"colorbar\":{\"outlinewidth\":0,\"ticks\":\"\"}}}],\"scatter3d\":[{\"type\":\"scatter3d\",\"line\":{\"colorbar\":{\"outlinewidth\":0,\"ticks\":\"\"}},\"marker\":{\"colorbar\":{\"outlinewidth\":0,\"ticks\":\"\"}}}],\"scattermapbox\":[{\"type\":\"scattermapbox\",\"marker\":{\"colorbar\":{\"outlinewidth\":0,\"ticks\":\"\"}}}],\"scatterternary\":[{\"type\":\"scatterternary\",\"marker\":{\"colorbar\":{\"outlinewidth\":0,\"ticks\":\"\"}}}],\"scattercarpet\":[{\"type\":\"scattercarpet\",\"marker\":{\"colorbar\":{\"outlinewidth\":0,\"ticks\":\"\"}}}],\"carpet\":[{\"aaxis\":{\"endlinecolor\":\"#2a3f5f\",\"gridcolor\":\"white\",\"linecolor\":\"white\",\"minorgridcolor\":\"white\",\"startlinecolor\":\"#2a3f5f\"},\"baxis\":{\"endlinecolor\":\"#2a3f5f\",\"gridcolor\":\"white\",\"linecolor\":\"white\",\"minorgridcolor\":\"white\",\"startlinecolor\":\"#2a3f5f\"},\"type\":\"carpet\"}],\"table\":[{\"cells\":{\"fill\":{\"color\":\"#EBF0F8\"},\"line\":{\"color\":\"white\"}},\"header\":{\"fill\":{\"color\":\"#C8D4E3\"},\"line\":{\"color\":\"white\"}},\"type\":\"table\"}],\"barpolar\":[{\"marker\":{\"line\":{\"color\":\"#E5ECF6\",\"width\":0.5},\"pattern\":{\"fillmode\":\"overlay\",\"size\":10,\"solidity\":0.2}},\"type\":\"barpolar\"}],\"pie\":[{\"automargin\":true,\"type\":\"pie\"}]},\"layout\":{\"autotypenumbers\":\"strict\",\"colorway\":[\"#636efa\",\"#EF553B\",\"#00cc96\",\"#ab63fa\",\"#FFA15A\",\"#19d3f3\",\"#FF6692\",\"#B6E880\",\"#FF97FF\",\"#FECB52\"],\"font\":{\"color\":\"#2a3f5f\"},\"hovermode\":\"closest\",\"hoverlabel\":{\"align\":\"left\"},\"paper_bgcolor\":\"white\",\"plot_bgcolor\":\"#E5ECF6\",\"polar\":{\"bgcolor\":\"#E5ECF6\",\"angularaxis\":{\"gridcolor\":\"white\",\"linecolor\":\"white\",\"ticks\":\"\"},\"radialaxis\":{\"gridcolor\":\"white\",\"linecolor\":\"white\",\"ticks\":\"\"}},\"ternary\":{\"bgcolor\":\"#E5ECF6\",\"aaxis\":{\"gridcolor\":\"white\",\"linecolor\":\"white\",\"ticks\":\"\"},\"baxis\":{\"gridcolor\":\"white\",\"linecolor\":\"white\",\"ticks\":\"\"},\"caxis\":{\"gridcolor\":\"white\",\"linecolor\":\"white\",\"ticks\":\"\"}},\"coloraxis\":{\"colorbar\":{\"outlinewidth\":0,\"ticks\":\"\"}},\"colorscale\":{\"sequential\":[[0.0,\"#0d0887\"],[0.1111111111111111,\"#46039f\"],[0.2222222222222222,\"#7201a8\"],[0.3333333333333333,\"#9c179e\"],[0.4444444444444444,\"#bd3786\"],[0.5555555555555556,\"#d8576b\"],[0.6666666666666666,\"#ed7953\"],[0.7777777777777778,\"#fb9f3a\"],[0.8888888888888888,\"#fdca26\"],[1.0,\"#f0f921\"]],\"sequentialminus\":[[0.0,\"#0d0887\"],[0.1111111111111111,\"#46039f\"],[0.2222222222222222,\"#7201a8\"],[0.3333333333333333,\"#9c179e\"],[0.4444444444444444,\"#bd3786\"],[0.5555555555555556,\"#d8576b\"],[0.6666666666666666,\"#ed7953\"],[0.7777777777777778,\"#fb9f3a\"],[0.8888888888888888,\"#fdca26\"],[1.0,\"#f0f921\"]],\"diverging\":[[0,\"#8e0152\"],[0.1,\"#c51b7d\"],[0.2,\"#de77ae\"],[0.3,\"#f1b6da\"],[0.4,\"#fde0ef\"],[0.5,\"#f7f7f7\"],[0.6,\"#e6f5d0\"],[0.7,\"#b8e186\"],[0.8,\"#7fbc41\"],[0.9,\"#4d9221\"],[1,\"#276419\"]]},\"xaxis\":{\"gridcolor\":\"white\",\"linecolor\":\"white\",\"ticks\":\"\",\"title\":{\"standoff\":15},\"zerolinecolor\":\"white\",\"automargin\":true,\"zerolinewidth\":2},\"yaxis\":{\"gridcolor\":\"white\",\"linecolor\":\"white\",\"ticks\":\"\",\"title\":{\"standoff\":15},\"zerolinecolor\":\"white\",\"automargin\":true,\"zerolinewidth\":2},\"scene\":{\"xaxis\":{\"backgroundcolor\":\"#E5ECF6\",\"gridcolor\":\"white\",\"linecolor\":\"white\",\"showbackground\":true,\"ticks\":\"\",\"zerolinecolor\":\"white\",\"gridwidth\":2},\"yaxis\":{\"backgroundcolor\":\"#E5ECF6\",\"gridcolor\":\"white\",\"linecolor\":\"white\",\"showbackground\":true,\"ticks\":\"\",\"zerolinecolor\":\"white\",\"gridwidth\":2},\"zaxis\":{\"backgroundcolor\":\"#E5ECF6\",\"gridcolor\":\"white\",\"linecolor\":\"white\",\"showbackground\":true,\"ticks\":\"\",\"zerolinecolor\":\"white\",\"gridwidth\":2}},\"shapedefaults\":{\"line\":{\"color\":\"#2a3f5f\"}},\"annotationdefaults\":{\"arrowcolor\":\"#2a3f5f\",\"arrowhead\":0,\"arrowwidth\":1},\"geo\":{\"bgcolor\":\"white\",\"landcolor\":\"#E5ECF6\",\"subunitcolor\":\"white\",\"showland\":true,\"showlakes\":true,\"lakecolor\":\"white\"},\"title\":{\"x\":0.05},\"mapbox\":{\"style\":\"light\"}}},\"scene\":{\"domain\":{\"x\":[0.0,1.0],\"y\":[0.0,1.0]},\"xaxis\":{\"title\":{\"text\":\"PC1\"}},\"yaxis\":{\"title\":{\"text\":\"PC2\"}},\"zaxis\":{\"title\":{\"text\":\"PC3\"}}},\"legend\":{\"title\":{\"text\":\"family\"},\"tracegroupgap\":0},\"margin\":{\"t\":0,\"l\":0,\"r\":0,\"b\":0}},                        {\"responsive\": true}                    ).then(function(){\n",
              "                            \n",
              "var gd = document.getElementById('dfbf3367-6a25-43f4-b885-8041d666c814');\n",
              "var x = new MutationObserver(function (mutations, observer) {{\n",
              "        var display = window.getComputedStyle(gd).display;\n",
              "        if (!display || display === 'none') {{\n",
              "            console.log([gd, 'removed!']);\n",
              "            Plotly.purge(gd);\n",
              "            observer.disconnect();\n",
              "        }}\n",
              "}});\n",
              "\n",
              "// Listen for the removal of the full notebook cells\n",
              "var notebookContainer = gd.closest('#notebook-container');\n",
              "if (notebookContainer) {{\n",
              "    x.observe(notebookContainer, {childList: true});\n",
              "}}\n",
              "\n",
              "// Listen for the clearing of the current output cell\n",
              "var outputEl = gd.closest('.output');\n",
              "if (outputEl) {{\n",
              "    x.observe(outputEl, {childList: true});\n",
              "}}\n",
              "\n",
              "                        })                };                            </script>        </div>\n",
              "</body>\n",
              "</html>"
            ]
          },
          "metadata": {},
          "output_type": "display_data"
        }
      ],
      "source": [
        "import plotly.express as px\n",
        "\n",
        "fig = px.scatter_3d(df_scores, x='PC1', y='PC2', z='PC3',\n",
        "              color='family',\n",
        "              symbol='family',\n",
        "              opacity=0.5)\n",
        "\n",
        "# tight layout\n",
        "fig.update_layout(margin=dict(l=0, r=0, b=0, t=0))\n"
      ]
    },
    {
      "cell_type": "markdown",
      "metadata": {
        "id": "wGVfFRWpG2Q1"
      },
      "source": [
        "Loadings Plot"
      ]
    },
    {
      "cell_type": "code",
      "execution_count": null,
      "metadata": {
        "colab": {
          "base_uri": "https://localhost:8080/",
          "height": 542
        },
        "id": "JSRX6clpG2Q1",
        "outputId": "d254db42-14d6-4fbf-8904-dad76757b36c"
      },
      "outputs": [
        {
          "data": {
            "text/html": [
              "<html>\n",
              "<head><meta charset=\"utf-8\" /></head>\n",
              "<body>\n",
              "    <div>            <script src=\"https://cdnjs.cloudflare.com/ajax/libs/mathjax/2.7.5/MathJax.js?config=TeX-AMS-MML_SVG\"></script><script type=\"text/javascript\">if (window.MathJax && window.MathJax.Hub && window.MathJax.Hub.Config) {window.MathJax.Hub.Config({SVG: {font: \"STIX-Web\"}});}</script>                <script type=\"text/javascript\">window.PlotlyConfig = {MathJaxConfig: 'local'};</script>\n",
              "        <script charset=\"utf-8\" src=\"https://cdn.plot.ly/plotly-2.24.1.min.js\"></script>                <div id=\"35635cc1-1d07-48cc-a610-19c01c689552\" class=\"plotly-graph-div\" style=\"height:525px; width:100%;\"></div>            <script type=\"text/javascript\">                                    window.PLOTLYENV=window.PLOTLYENV || {};                                    if (document.getElementById(\"35635cc1-1d07-48cc-a610-19c01c689552\")) {                    Plotly.newPlot(                        \"35635cc1-1d07-48cc-a610-19c01c689552\",                        [{\"hovertemplate\":\"PC1=%{x}\\u003cbr\\u003ePC2=%{y}\\u003cbr\\u003ePC3=%{z}\\u003cbr\\u003eindex=%{text}\\u003cextra\\u003e\\u003c\\u002fextra\\u003e\",\"legendgroup\":\"\",\"marker\":{\"color\":\"#636efa\",\"symbol\":\"circle\"},\"mode\":\"markers+text\",\"name\":\"\",\"scene\":\"scene\",\"showlegend\":false,\"text\":[\"proc_pid\",\"file\",\"urls\",\"type\",\"name\",\"ext_urls\",\"path\",\"program\",\"info\",\"positives\",\"families\",\"description\",\"sign_name\",\"sign_stacktrace\",\"arguments\",\"api\",\"category\",\"imported_dll_count\",\"dll\",\"pe_res_name\",\"filetype\",\"pe_sec_name\",\"entropy\",\"hosts\",\"requests\",\"mitm\",\"domains\",\"dns_servers\",\"tcp\",\"udp\",\"dead_hosts\",\"proc\",\"beh_command_line\",\"process_path\",\"tree_command_line\",\"children\",\"tree_process_name\",\"command_line\",\"regkey_read\",\"directory_enumerated\",\"regkey_opened\",\"file_created\",\"wmi_query\",\"dll_loaded\",\"regkey_written\",\"file_read\",\"apistats\",\"errors\",\"action\",\"log\"],\"x\":[0.16303245618338846,0.16303245618338857,0.0669200059101611,0.08190716816122867,0.08190716816122867,-6.044824416929797e-24,0.08190716816122867,0.17243828893489052,0.17243828893489052,0.02426511953448239,0.1300582657497452,0.2421202358458468,0.2421202358458468,-0.0,0.20671147961020842,0.20671147961020842,0.20671147961020842,-0.0,-0.056357683133348914,-0.043935025359824326,-0.043935025359824326,-0.02700413467313223,-0.02700413467313223,0.07567335455797543,-0.049748574345259367,-0.0,-0.053286986521086405,-0.0884589713841674,-0.06679601283420147,0.07942733962704246,0.020326972335912952,0.24449612952014826,0.24449612952014826,0.24449612952014826,0.1666223502390345,0.19331529973281733,0.1666223502390345,0.21562141934605764,0.1169262276731513,0.16466577719019362,0.1566332978211873,0.12321349608903563,0.09937001786116176,0.19238112219839296,0.16962724824211944,0.11456434163936231,0.23779109077168506,0.010688171689142682,0.07104500476824444,0.10755555386689641],\"y\":[0.2319956926523996,0.2319956926523996,0.02646170995199027,0.36729805510725627,0.36729805510725627,1.1954298817511302e-19,0.36729805510725627,0.020589528429329363,0.020589528429329363,0.042256486606593126,-0.07004356366515593,0.03300802372707943,0.03300802372707943,0.0,-0.04476366478686517,-0.04476366478686517,-0.04476366478686517,0.0,-0.09359790174670837,-0.19199432183378617,-0.19199432183378617,-0.15630565746085454,-0.15630565746085454,-0.05015225387338044,0.21306532893218,0.0,0.21879857268059733,0.1879034948760662,0.22965250415247188,-0.058984226862703486,0.22420895558890216,-0.008162206466308943,-0.008162206466308943,-0.008162206466308943,-0.09212544263941368,-0.003948197786422601,-0.09212544263941368,0.02697453414221277,-0.1336809975642731,0.06804367091557036,-0.10451417398772278,-0.03493508733913301,-0.04098398197311078,-0.12279508765602577,-0.03409044532649245,-0.09316163462361135,-0.030427452200546372,-0.013876988430140328,-0.08884578411897655,-0.11874491247198611],\"z\":[-0.040409819512615595,-0.0404098195126156,0.23644845512614593,-0.13960208510319397,-0.139602085103194,2.899518706724891e-19,-0.139602085103194,-0.05999403923578389,-0.05999403923578389,0.0013468143151600651,0.14316549470123033,0.05035414598988208,0.05035414598988208,-0.0,-0.05754467582642388,-0.05754467582642388,-0.05754467582642388,-0.0,-0.06849869260130793,0.05364778254481921,0.05364778254481921,-0.03505004723716695,-0.03505004723716695,0.33712895982644425,0.3246233067650284,-0.0,0.32386129718931483,0.2896806438365576,0.2965106437968968,0.3488815012047194,0.009737281348114456,-0.0019808755374091454,-0.0019808755374091454,-0.0019808755374091454,-0.03933246713252862,-0.02281818127781518,-0.03933246713252862,-0.03489998004754906,0.2507146366445413,-0.09827664973968686,0.07181423445966685,-0.06506932374535437,0.21807624345225626,0.1813745689772497,0.13963184379068735,-0.08175878472214536,0.08585107388386821,-0.007870998563139837,-0.059118900606161165,-0.06977770771650003],\"type\":\"scatter3d\"}],                        {\"template\":{\"data\":{\"histogram2dcontour\":[{\"type\":\"histogram2dcontour\",\"colorbar\":{\"outlinewidth\":0,\"ticks\":\"\"},\"colorscale\":[[0.0,\"#0d0887\"],[0.1111111111111111,\"#46039f\"],[0.2222222222222222,\"#7201a8\"],[0.3333333333333333,\"#9c179e\"],[0.4444444444444444,\"#bd3786\"],[0.5555555555555556,\"#d8576b\"],[0.6666666666666666,\"#ed7953\"],[0.7777777777777778,\"#fb9f3a\"],[0.8888888888888888,\"#fdca26\"],[1.0,\"#f0f921\"]]}],\"choropleth\":[{\"type\":\"choropleth\",\"colorbar\":{\"outlinewidth\":0,\"ticks\":\"\"}}],\"histogram2d\":[{\"type\":\"histogram2d\",\"colorbar\":{\"outlinewidth\":0,\"ticks\":\"\"},\"colorscale\":[[0.0,\"#0d0887\"],[0.1111111111111111,\"#46039f\"],[0.2222222222222222,\"#7201a8\"],[0.3333333333333333,\"#9c179e\"],[0.4444444444444444,\"#bd3786\"],[0.5555555555555556,\"#d8576b\"],[0.6666666666666666,\"#ed7953\"],[0.7777777777777778,\"#fb9f3a\"],[0.8888888888888888,\"#fdca26\"],[1.0,\"#f0f921\"]]}],\"heatmap\":[{\"type\":\"heatmap\",\"colorbar\":{\"outlinewidth\":0,\"ticks\":\"\"},\"colorscale\":[[0.0,\"#0d0887\"],[0.1111111111111111,\"#46039f\"],[0.2222222222222222,\"#7201a8\"],[0.3333333333333333,\"#9c179e\"],[0.4444444444444444,\"#bd3786\"],[0.5555555555555556,\"#d8576b\"],[0.6666666666666666,\"#ed7953\"],[0.7777777777777778,\"#fb9f3a\"],[0.8888888888888888,\"#fdca26\"],[1.0,\"#f0f921\"]]}],\"heatmapgl\":[{\"type\":\"heatmapgl\",\"colorbar\":{\"outlinewidth\":0,\"ticks\":\"\"},\"colorscale\":[[0.0,\"#0d0887\"],[0.1111111111111111,\"#46039f\"],[0.2222222222222222,\"#7201a8\"],[0.3333333333333333,\"#9c179e\"],[0.4444444444444444,\"#bd3786\"],[0.5555555555555556,\"#d8576b\"],[0.6666666666666666,\"#ed7953\"],[0.7777777777777778,\"#fb9f3a\"],[0.8888888888888888,\"#fdca26\"],[1.0,\"#f0f921\"]]}],\"contourcarpet\":[{\"type\":\"contourcarpet\",\"colorbar\":{\"outlinewidth\":0,\"ticks\":\"\"}}],\"contour\":[{\"type\":\"contour\",\"colorbar\":{\"outlinewidth\":0,\"ticks\":\"\"},\"colorscale\":[[0.0,\"#0d0887\"],[0.1111111111111111,\"#46039f\"],[0.2222222222222222,\"#7201a8\"],[0.3333333333333333,\"#9c179e\"],[0.4444444444444444,\"#bd3786\"],[0.5555555555555556,\"#d8576b\"],[0.6666666666666666,\"#ed7953\"],[0.7777777777777778,\"#fb9f3a\"],[0.8888888888888888,\"#fdca26\"],[1.0,\"#f0f921\"]]}],\"surface\":[{\"type\":\"surface\",\"colorbar\":{\"outlinewidth\":0,\"ticks\":\"\"},\"colorscale\":[[0.0,\"#0d0887\"],[0.1111111111111111,\"#46039f\"],[0.2222222222222222,\"#7201a8\"],[0.3333333333333333,\"#9c179e\"],[0.4444444444444444,\"#bd3786\"],[0.5555555555555556,\"#d8576b\"],[0.6666666666666666,\"#ed7953\"],[0.7777777777777778,\"#fb9f3a\"],[0.8888888888888888,\"#fdca26\"],[1.0,\"#f0f921\"]]}],\"mesh3d\":[{\"type\":\"mesh3d\",\"colorbar\":{\"outlinewidth\":0,\"ticks\":\"\"}}],\"scatter\":[{\"fillpattern\":{\"fillmode\":\"overlay\",\"size\":10,\"solidity\":0.2},\"type\":\"scatter\"}],\"parcoords\":[{\"type\":\"parcoords\",\"line\":{\"colorbar\":{\"outlinewidth\":0,\"ticks\":\"\"}}}],\"scatterpolargl\":[{\"type\":\"scatterpolargl\",\"marker\":{\"colorbar\":{\"outlinewidth\":0,\"ticks\":\"\"}}}],\"bar\":[{\"error_x\":{\"color\":\"#2a3f5f\"},\"error_y\":{\"color\":\"#2a3f5f\"},\"marker\":{\"line\":{\"color\":\"#E5ECF6\",\"width\":0.5},\"pattern\":{\"fillmode\":\"overlay\",\"size\":10,\"solidity\":0.2}},\"type\":\"bar\"}],\"scattergeo\":[{\"type\":\"scattergeo\",\"marker\":{\"colorbar\":{\"outlinewidth\":0,\"ticks\":\"\"}}}],\"scatterpolar\":[{\"type\":\"scatterpolar\",\"marker\":{\"colorbar\":{\"outlinewidth\":0,\"ticks\":\"\"}}}],\"histogram\":[{\"marker\":{\"pattern\":{\"fillmode\":\"overlay\",\"size\":10,\"solidity\":0.2}},\"type\":\"histogram\"}],\"scattergl\":[{\"type\":\"scattergl\",\"marker\":{\"colorbar\":{\"outlinewidth\":0,\"ticks\":\"\"}}}],\"scatter3d\":[{\"type\":\"scatter3d\",\"line\":{\"colorbar\":{\"outlinewidth\":0,\"ticks\":\"\"}},\"marker\":{\"colorbar\":{\"outlinewidth\":0,\"ticks\":\"\"}}}],\"scattermapbox\":[{\"type\":\"scattermapbox\",\"marker\":{\"colorbar\":{\"outlinewidth\":0,\"ticks\":\"\"}}}],\"scatterternary\":[{\"type\":\"scatterternary\",\"marker\":{\"colorbar\":{\"outlinewidth\":0,\"ticks\":\"\"}}}],\"scattercarpet\":[{\"type\":\"scattercarpet\",\"marker\":{\"colorbar\":{\"outlinewidth\":0,\"ticks\":\"\"}}}],\"carpet\":[{\"aaxis\":{\"endlinecolor\":\"#2a3f5f\",\"gridcolor\":\"white\",\"linecolor\":\"white\",\"minorgridcolor\":\"white\",\"startlinecolor\":\"#2a3f5f\"},\"baxis\":{\"endlinecolor\":\"#2a3f5f\",\"gridcolor\":\"white\",\"linecolor\":\"white\",\"minorgridcolor\":\"white\",\"startlinecolor\":\"#2a3f5f\"},\"type\":\"carpet\"}],\"table\":[{\"cells\":{\"fill\":{\"color\":\"#EBF0F8\"},\"line\":{\"color\":\"white\"}},\"header\":{\"fill\":{\"color\":\"#C8D4E3\"},\"line\":{\"color\":\"white\"}},\"type\":\"table\"}],\"barpolar\":[{\"marker\":{\"line\":{\"color\":\"#E5ECF6\",\"width\":0.5},\"pattern\":{\"fillmode\":\"overlay\",\"size\":10,\"solidity\":0.2}},\"type\":\"barpolar\"}],\"pie\":[{\"automargin\":true,\"type\":\"pie\"}]},\"layout\":{\"autotypenumbers\":\"strict\",\"colorway\":[\"#636efa\",\"#EF553B\",\"#00cc96\",\"#ab63fa\",\"#FFA15A\",\"#19d3f3\",\"#FF6692\",\"#B6E880\",\"#FF97FF\",\"#FECB52\"],\"font\":{\"color\":\"#2a3f5f\"},\"hovermode\":\"closest\",\"hoverlabel\":{\"align\":\"left\"},\"paper_bgcolor\":\"white\",\"plot_bgcolor\":\"#E5ECF6\",\"polar\":{\"bgcolor\":\"#E5ECF6\",\"angularaxis\":{\"gridcolor\":\"white\",\"linecolor\":\"white\",\"ticks\":\"\"},\"radialaxis\":{\"gridcolor\":\"white\",\"linecolor\":\"white\",\"ticks\":\"\"}},\"ternary\":{\"bgcolor\":\"#E5ECF6\",\"aaxis\":{\"gridcolor\":\"white\",\"linecolor\":\"white\",\"ticks\":\"\"},\"baxis\":{\"gridcolor\":\"white\",\"linecolor\":\"white\",\"ticks\":\"\"},\"caxis\":{\"gridcolor\":\"white\",\"linecolor\":\"white\",\"ticks\":\"\"}},\"coloraxis\":{\"colorbar\":{\"outlinewidth\":0,\"ticks\":\"\"}},\"colorscale\":{\"sequential\":[[0.0,\"#0d0887\"],[0.1111111111111111,\"#46039f\"],[0.2222222222222222,\"#7201a8\"],[0.3333333333333333,\"#9c179e\"],[0.4444444444444444,\"#bd3786\"],[0.5555555555555556,\"#d8576b\"],[0.6666666666666666,\"#ed7953\"],[0.7777777777777778,\"#fb9f3a\"],[0.8888888888888888,\"#fdca26\"],[1.0,\"#f0f921\"]],\"sequentialminus\":[[0.0,\"#0d0887\"],[0.1111111111111111,\"#46039f\"],[0.2222222222222222,\"#7201a8\"],[0.3333333333333333,\"#9c179e\"],[0.4444444444444444,\"#bd3786\"],[0.5555555555555556,\"#d8576b\"],[0.6666666666666666,\"#ed7953\"],[0.7777777777777778,\"#fb9f3a\"],[0.8888888888888888,\"#fdca26\"],[1.0,\"#f0f921\"]],\"diverging\":[[0,\"#8e0152\"],[0.1,\"#c51b7d\"],[0.2,\"#de77ae\"],[0.3,\"#f1b6da\"],[0.4,\"#fde0ef\"],[0.5,\"#f7f7f7\"],[0.6,\"#e6f5d0\"],[0.7,\"#b8e186\"],[0.8,\"#7fbc41\"],[0.9,\"#4d9221\"],[1,\"#276419\"]]},\"xaxis\":{\"gridcolor\":\"white\",\"linecolor\":\"white\",\"ticks\":\"\",\"title\":{\"standoff\":15},\"zerolinecolor\":\"white\",\"automargin\":true,\"zerolinewidth\":2},\"yaxis\":{\"gridcolor\":\"white\",\"linecolor\":\"white\",\"ticks\":\"\",\"title\":{\"standoff\":15},\"zerolinecolor\":\"white\",\"automargin\":true,\"zerolinewidth\":2},\"scene\":{\"xaxis\":{\"backgroundcolor\":\"#E5ECF6\",\"gridcolor\":\"white\",\"linecolor\":\"white\",\"showbackground\":true,\"ticks\":\"\",\"zerolinecolor\":\"white\",\"gridwidth\":2},\"yaxis\":{\"backgroundcolor\":\"#E5ECF6\",\"gridcolor\":\"white\",\"linecolor\":\"white\",\"showbackground\":true,\"ticks\":\"\",\"zerolinecolor\":\"white\",\"gridwidth\":2},\"zaxis\":{\"backgroundcolor\":\"#E5ECF6\",\"gridcolor\":\"white\",\"linecolor\":\"white\",\"showbackground\":true,\"ticks\":\"\",\"zerolinecolor\":\"white\",\"gridwidth\":2}},\"shapedefaults\":{\"line\":{\"color\":\"#2a3f5f\"}},\"annotationdefaults\":{\"arrowcolor\":\"#2a3f5f\",\"arrowhead\":0,\"arrowwidth\":1},\"geo\":{\"bgcolor\":\"white\",\"landcolor\":\"#E5ECF6\",\"subunitcolor\":\"white\",\"showland\":true,\"showlakes\":true,\"lakecolor\":\"white\"},\"title\":{\"x\":0.05},\"mapbox\":{\"style\":\"light\"}}},\"scene\":{\"domain\":{\"x\":[0.0,1.0],\"y\":[0.0,1.0]},\"xaxis\":{\"title\":{\"text\":\"PC1\"}},\"yaxis\":{\"title\":{\"text\":\"PC2\"}},\"zaxis\":{\"title\":{\"text\":\"PC3\"}}},\"legend\":{\"tracegroupgap\":0},\"margin\":{\"t\":60}},                        {\"responsive\": true}                    ).then(function(){\n",
              "                            \n",
              "var gd = document.getElementById('35635cc1-1d07-48cc-a610-19c01c689552');\n",
              "var x = new MutationObserver(function (mutations, observer) {{\n",
              "        var display = window.getComputedStyle(gd).display;\n",
              "        if (!display || display === 'none') {{\n",
              "            console.log([gd, 'removed!']);\n",
              "            Plotly.purge(gd);\n",
              "            observer.disconnect();\n",
              "        }}\n",
              "}});\n",
              "\n",
              "// Listen for the removal of the full notebook cells\n",
              "var notebookContainer = gd.closest('#notebook-container');\n",
              "if (notebookContainer) {{\n",
              "    x.observe(notebookContainer, {childList: true});\n",
              "}}\n",
              "\n",
              "// Listen for the clearing of the current output cell\n",
              "var outputEl = gd.closest('.output');\n",
              "if (outputEl) {{\n",
              "    x.observe(outputEl, {childList: true});\n",
              "}}\n",
              "\n",
              "                        })                };                            </script>        </div>\n",
              "</body>\n",
              "</html>"
            ]
          },
          "metadata": {},
          "output_type": "display_data"
        }
      ],
      "source": [
        "loadings_label = df_loadings.index\n",
        "# loadings_label = df_loadings.index.str.strip(' (cm)')\n",
        "\n",
        "fig = px.scatter_3d(df_loadings, x='PC1', y='PC2', z='PC3',\n",
        "                    text = loadings_label)\n",
        "\n",
        "fig.show()\n",
        "fig.write_html(\"pcaloadings.html\")"
      ]
    }
  ],
  "metadata": {
    "colab": {
      "collapsed_sections": [
        "7o_-JRbnDSz6",
        "rMB--XhKDSz8",
        "AXhWJJGuDSz-",
        "Su_YAr6llyXj",
        "Tlt4Ppb42pnx",
        "hl33Lugu3y6-",
        "aJ-IEtPA9O1C",
        "k1wW8OQ-mPry",
        "_mQKMSQtTuQT"
      ],
      "provenance": []
    },
    "kernelspec": {
      "display_name": "Python 3",
      "name": "python3"
    },
    "language_info": {
      "codemirror_mode": {
        "name": "ipython",
        "version": 3
      },
      "file_extension": ".py",
      "mimetype": "text/x-python",
      "name": "python",
      "nbconvert_exporter": "python",
      "pygments_lexer": "ipython3",
      "version": "3.7.3"
    }
  },
  "nbformat": 4,
  "nbformat_minor": 0
}